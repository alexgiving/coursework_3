{
 "cells": [
  {
   "cell_type": "markdown",
   "metadata": {},
   "source": [
    "# Import Libs"
   ]
  },
  {
   "cell_type": "code",
   "execution_count": 128,
   "metadata": {},
   "outputs": [],
   "source": [
    "# Import general functions\n",
    "import pandas as pd\n",
    "import numpy as np\n",
    "import matplotlib.pyplot as plt\n",
    "\n",
    "# Import lib for saving model and encoder\n",
    "import os\n",
    "import pickle\n",
    "\n",
    "# Import preprocessing functions\n",
    "from sklearn.tree import plot_tree\n",
    "from sklearn.preprocessing import LabelEncoder\n",
    "from sklearn.model_selection import train_test_split\n",
    "\n",
    "# Import metrics functions\n",
    "from sklearn import metrics\n",
    "from sklearn.metrics import accuracy_score, balanced_accuracy_score, precision_recall_fscore_support, recall_score, precision_score, f1_score # For classifier\n",
    "from sklearn.metrics import mean_squared_error, mean_absolute_error, r2_score # For regression"
   ]
  },
  {
   "cell_type": "code",
   "execution_count": 102,
   "metadata": {},
   "outputs": [],
   "source": [
    "build_path = \"build_files/\""
   ]
  },
  {
   "cell_type": "markdown",
   "metadata": {},
   "source": [
    "# Preprocessing"
   ]
  },
  {
   "cell_type": "code",
   "execution_count": 103,
   "metadata": {},
   "outputs": [],
   "source": [
    "# Import dataset\n",
    "data = pd.read_excel('src/dataset_norm.xlsx')\n",
    "\n",
    "# Define minimal mark\n",
    "min_mark = 4"
   ]
  },
  {
   "cell_type": "code",
   "execution_count": 104,
   "metadata": {},
   "outputs": [
    {
     "data": {
      "image/png": "[encoded data removed]",
      "text/plain": [
       "<Figure size 432x288 with 1 Axes>"
      ]
     },
     "metadata": {
      "needs_background": "light"
     },
     "output_type": "display_data"
    }
   ],
   "source": [
    "# Output distribution of scores\n",
    "x = range(len(data['Средний балл']))\n",
    "y = data['Средний балл']\n",
    "\n",
    "plt.scatter(x, y)\n",
    "plt.grid()\n",
    "plt.show()"
   ]
  },
  {
   "cell_type": "markdown",
   "metadata": {},
   "source": [
    "NOTE: lines in graph illustrate custom increase the number of not pass students.\n",
    "That trick were done for better model training. It helps to increase accuracy metricks of models"
   ]
  },
  {
   "cell_type": "markdown",
   "metadata": {},
   "source": [
    "Lets find out how many students did not pass the exams"
   ]
  },
  {
   "cell_type": "code",
   "execution_count": 105,
   "metadata": {},
   "outputs": [
    {
     "name": "stdout",
     "output_type": "stream",
     "text": [
      "TOTAL: 498\n",
      "Passed: 341\n",
      "Not pas: 157\n"
     ]
    }
   ],
   "source": [
    "def counter_print():\n",
    "    passed = 0\n",
    "    not_passed = 0\n",
    "    res = 0\n",
    "    for mark in data['Средний балл']:\n",
    "        if mark >= min_mark:\n",
    "            passed += 1\n",
    "        elif mark < min_mark:\n",
    "            not_passed += 1\n",
    "        res += 1\n",
    "    print(f\"TOTAL: {res}\\nPassed: {passed}\\nNot pas: {not_passed}\")\n",
    "\n",
    "counter_print()"
   ]
  },
  {
   "cell_type": "code",
   "execution_count": 106,
   "metadata": {},
   "outputs": [],
   "source": [
    "# Replase mark of student by belonging to the class of successfully passed\n",
    "data['Сдал'] = pd.cut(x=data['Средний балл'], bins=[0, min_mark, 10], labels=[0, 1])\n",
    "data.drop(['Средний балл'], axis = 1, inplace= True)\n",
    "\n",
    "# Drop indicators which are not connected with extracurricular activities\n",
    "data.drop(['Дата прохождения теста',\n",
    "            '15.Образование Ваших родителей?', \n",
    "            '3.С какими оценками Вы закончили школу?',\n",
    "            '4.Ходили ли Вы на подготовительные курсы перед поступлением в вуз?',\n",
    "            '7.Какая у Вас семья?',\n",
    "            '10.Получали ли Вы стипендию? (в течение последнего года)',\n",
    "            '11.Оцените, как Вам нравится учиться?',\n",
    "            '13.На какие средства Вы живете?',\n",
    "            '5.Брали ли Вы академический отпуск?',\n",
    "            '17.Укажите Ваше семейное положение.',\n",
    "            '12.Каковы условия Вашего проживания?'\n",
    "            ],\n",
    "            axis = 1, inplace = True)"
   ]
  },
  {
   "cell_type": "markdown",
   "metadata": {},
   "source": [
    "Dataset with concern questions"
   ]
  },
  {
   "cell_type": "code",
   "execution_count": 107,
   "metadata": {},
   "outputs": [
    {
     "data": {
      "text/html": [
       "<div>\n",
       "<style scoped>\n",
       "    .dataframe tbody tr th:only-of-type {\n",
       "        vertical-align: middle;\n",
       "    }\n",
       "\n",
       "    .dataframe tbody tr th {\n",
       "        vertical-align: top;\n",
       "    }\n",
       "\n",
       "    .dataframe thead th {\n",
       "        text-align: right;\n",
       "    }\n",
       "</style>\n",
       "<table border=\"1\" class=\"dataframe\">\n",
       "  <thead>\n",
       "    <tr style=\"text-align: right;\">\n",
       "      <th></th>\n",
       "      <th>Учащийся</th>\n",
       "      <th>16.Работаете ли Вы?</th>\n",
       "      <th>14.Увлекаетесь ли Вы спортом?</th>\n",
       "      <th>9.Сколько времени Вы уделяете самостоятельной подготовке к занятиям (в среднем)?</th>\n",
       "      <th>8.Как много Вы пропускаете аудиторных занятий?</th>\n",
       "      <th>6.Бывают ли у Вас долги по экзаменам/зачетам?</th>\n",
       "      <th>2.Посещаете ли Вы дополнительные занятия (неважно, в вышке или вне)?</th>\n",
       "      <th>1.Участвуете ли Вы в олимпиадах?</th>\n",
       "      <th>Сдал</th>\n",
       "    </tr>\n",
       "  </thead>\n",
       "  <tbody>\n",
       "    <tr>\n",
       "      <th>0</th>\n",
       "      <td>Кайнов Кирилл Анатольевич</td>\n",
       "      <td>Нет</td>\n",
       "      <td>да, хожу на фитнес или в тренажерный зал</td>\n",
       "      <td>От 1 до 3 часов в день</td>\n",
       "      <td>Среднее количество пропусков</td>\n",
       "      <td>1-2 раза в семестр</td>\n",
       "      <td>нет</td>\n",
       "      <td>Нет</td>\n",
       "      <td>0</td>\n",
       "    </tr>\n",
       "    <tr>\n",
       "      <th>1</th>\n",
       "      <td>Матутин Василий Андреевич</td>\n",
       "      <td>Нет</td>\n",
       "      <td>нет, не занимаюсь</td>\n",
       "      <td>Более 3 часов в день</td>\n",
       "      <td>Не пропускаете</td>\n",
       "      <td>Нет</td>\n",
       "      <td>нет</td>\n",
       "      <td>Нет, но собираюсь в этом году</td>\n",
       "      <td>1</td>\n",
       "    </tr>\n",
       "    <tr>\n",
       "      <th>2</th>\n",
       "      <td>Константинов Александр Михайлович</td>\n",
       "      <td>Да</td>\n",
       "      <td>нет, не занимаюсь</td>\n",
       "      <td>Готовлюсь только перед занятиями</td>\n",
       "      <td>Регулярно пропускаете</td>\n",
       "      <td>Всегда</td>\n",
       "      <td>нет</td>\n",
       "      <td>Нет</td>\n",
       "      <td>1</td>\n",
       "    </tr>\n",
       "    <tr>\n",
       "      <th>3</th>\n",
       "      <td>Кудакаев Руслан Фаритович</td>\n",
       "      <td>Нет</td>\n",
       "      <td>нет, не занимаюсь</td>\n",
       "      <td>Более 3 часов в день</td>\n",
       "      <td>Не пропускаете</td>\n",
       "      <td>Нет</td>\n",
       "      <td>нет</td>\n",
       "      <td>Нет</td>\n",
       "      <td>1</td>\n",
       "    </tr>\n",
       "    <tr>\n",
       "      <th>4</th>\n",
       "      <td>Балов Илья Сергеевич</td>\n",
       "      <td>Нет</td>\n",
       "      <td>да, занимаюсь шахматами/шашками;нет, не занимаюсь</td>\n",
       "      <td>Более 3 часов в день</td>\n",
       "      <td>Среднее количество пропусков</td>\n",
       "      <td>1-2 раза в год</td>\n",
       "      <td>нет</td>\n",
       "      <td>Да</td>\n",
       "      <td>1</td>\n",
       "    </tr>\n",
       "  </tbody>\n",
       "</table>\n",
       "</div>"
      ],
      "text/plain": [
       "                            Учащийся 16.Работаете ли Вы?  \\\n",
       "0          Кайнов Кирилл Анатольевич                 Нет   \n",
       "1          Матутин Василий Андреевич                 Нет   \n",
       "2  Константинов Александр Михайлович                  Да   \n",
       "3          Кудакаев Руслан Фаритович                 Нет   \n",
       "4               Балов Илья Сергеевич                 Нет   \n",
       "\n",
       "                       14.Увлекаетесь ли Вы спортом?  \\\n",
       "0           да, хожу на фитнес или в тренажерный зал   \n",
       "1                                  нет, не занимаюсь   \n",
       "2                                  нет, не занимаюсь   \n",
       "3                                  нет, не занимаюсь   \n",
       "4  да, занимаюсь шахматами/шашками;нет, не занимаюсь   \n",
       "\n",
       "  9.Сколько времени Вы уделяете самостоятельной подготовке к занятиям (в среднем)?  \\\n",
       "0                             От 1 до 3 часов в день                                 \n",
       "1                               Более 3 часов в день                                 \n",
       "2                   Готовлюсь только перед занятиями                                 \n",
       "3                               Более 3 часов в день                                 \n",
       "4                               Более 3 часов в день                                 \n",
       "\n",
       "  8.Как много Вы пропускаете аудиторных занятий?  \\\n",
       "0                   Среднее количество пропусков   \n",
       "1                                 Не пропускаете   \n",
       "2                          Регулярно пропускаете   \n",
       "3                                 Не пропускаете   \n",
       "4                   Среднее количество пропусков   \n",
       "\n",
       "  6.Бывают ли у Вас долги по экзаменам/зачетам?  \\\n",
       "0                            1-2 раза в семестр   \n",
       "1                                           Нет   \n",
       "2                                        Всегда   \n",
       "3                                           Нет   \n",
       "4                                1-2 раза в год   \n",
       "\n",
       "  2.Посещаете ли Вы дополнительные занятия (неважно, в вышке или вне)?  \\\n",
       "0                                                нет                     \n",
       "1                                                нет                     \n",
       "2                                                нет                     \n",
       "3                                                нет                     \n",
       "4                                                нет                     \n",
       "\n",
       "  1.Участвуете ли Вы в олимпиадах? Сдал  \n",
       "0                              Нет    0  \n",
       "1    Нет, но собираюсь в этом году    1  \n",
       "2                              Нет    1  \n",
       "3                              Нет    1  \n",
       "4                               Да    1  "
      ]
     },
     "execution_count": 107,
     "metadata": {},
     "output_type": "execute_result"
    }
   ],
   "source": [
    "data.head()"
   ]
  },
  {
   "cell_type": "markdown",
   "metadata": {},
   "source": [
    "Split our data in 3 parts for train, test and validation"
   ]
  },
  {
   "cell_type": "code",
   "execution_count": 108,
   "metadata": {},
   "outputs": [],
   "source": [
    "def create(path):\n",
    "    if not os.path.exists(path):\n",
    "        os.mkdir(path)"
   ]
  },
  {
   "cell_type": "code",
   "execution_count": 109,
   "metadata": {},
   "outputs": [],
   "source": [
    "# Save hash of student name\n",
    "name_hash = []\n",
    "\n",
    "\n",
    "def train_test_val_split(test_ratio, validation_ratio):\n",
    "# That part index all names to use them in validation part\n",
    "    global name_hash\n",
    "    for idx, name in enumerate(data['Учащийся']):\n",
    "        name_hash.append((idx, name))\n",
    "        data.loc[idx,'Учащийся'] = idx\n",
    "\n",
    "# Replace all text output to index\n",
    "    label_encoder = LabelEncoder()\n",
    "    label_data = data.copy()\n",
    "    s = (label_data.dtypes == 'object')\n",
    "    object_cols = list(s[s].index)\n",
    "    create(build_path)\n",
    "    for col in object_cols:\n",
    "        label_encoder.fit(label_data[col])\n",
    "        label_data[col] = label_encoder.transform(label_data[col])\n",
    "        # Save lable encouder hash to separate files to use them in future if need\n",
    "        file_name = f'{build_path}/{col.replace(\"/\", \"-\")}_class_linear_encoder.npy'\n",
    "        f = open(file_name, 'w+')\n",
    "        np.save(file_name, label_encoder.classes_)\n",
    "        f.close()\n",
    "\n",
    "\n",
    "# Split dataset\n",
    "# NOTE: To fix split selections use random_state=42 parameter\n",
    "    size = label_data.shape[0]\n",
    "    validation_ratio = (validation_ratio * size) / (size * (1 - test_ratio))\n",
    "\n",
    "    X_train, X_test, y_train, y_test = train_test_split(label_data.drop('Сдал', axis = 1), \n",
    "                                                        label_data['Сдал'], \n",
    "                                                        test_size=test_ratio)\n",
    "\n",
    "    X_train, X_val, y_train, y_val = train_test_split(X_train,\n",
    "                                                      y_train, \n",
    "                                                      test_size=validation_ratio)\n",
    "\n",
    "# Output X_train.iloc[:,1:] delete student hash from training and testing selections\n",
    "    return X_train.iloc[:,1:], X_test.iloc[:,1:], X_val, y_train, y_test, y_val"
   ]
  },
  {
   "cell_type": "code",
   "execution_count": 110,
   "metadata": {},
   "outputs": [],
   "source": [
    "X_train, X_test, X_val, y_train, y_test, y_val = train_test_val_split(test_ratio=0.25, validation_ratio=0.05)"
   ]
  },
  {
   "cell_type": "markdown",
   "metadata": {},
   "source": [
    "# Model variants\n",
    "In that part I will choose the classification model which will predict if student pass exams successfully or not"
   ]
  },
  {
   "cell_type": "markdown",
   "metadata": {},
   "source": [
    "## Metrics Functions"
   ]
  },
  {
   "cell_type": "code",
   "execution_count": 111,
   "metadata": {},
   "outputs": [],
   "source": [
    "def classification_quality(y_test, y_pred):\n",
    "    print(\"Accuracy:\", accuracy_score(y_test, y_pred))\n",
    "    print(\"Recall:\", recall_score(y_test, y_pred, average='macro'))\n",
    "    print(\"Precision:\", precision_score(y_test, y_pred, average='macro'))\n",
    "    print(\"F1:\", f1_score(y_test, y_pred, average='macro', labels=np.unique(y_pred)))\n",
    "    print(\"Weighted Recall:\", (precision_recall_fscore_support(y_test, y_pred, average='macro')))"
   ]
  },
  {
   "cell_type": "code",
   "execution_count": 112,
   "metadata": {},
   "outputs": [],
   "source": [
    "# For historical reason\n",
    "def regression_quality(y_test, y_pred):\n",
    "    print(\"MSE:\", mean_squared_error(y_test, y_pred))\n",
    "    print(\"RMSE:\", mean_squared_error(y_test, y_pred)**(1/2))\n",
    "    print(\"MAE:\", mean_absolute_error(y_test, y_pred))\n",
    "    print(\"R2:\", r2_score(y_test, y_pred))"
   ]
  },
  {
   "cell_type": "code",
   "execution_count": 113,
   "metadata": {},
   "outputs": [],
   "source": [
    "metrics_list = ['Accuracy', 'Balanced Accuracy', 'Recall', 'Precision', 'F1', 'MSE', 'RMSE', 'MAE', 'R2']\n",
    "model_array = []\n",
    "output_array = []\n",
    "\n",
    "def compilance_print(model, y_test, y_pred, model_flag):\n",
    "    temp_array = []\n",
    "    if model_flag == 'cls': # Classifier\n",
    "        temp_array.append(accuracy_score(y_test, y_pred))\n",
    "        temp_array.append(balanced_accuracy_score(y_test, y_pred))\n",
    "        temp_array.append(recall_score(y_test, y_pred, average='macro'))\n",
    "        temp_array.append(precision_score(y_test, y_pred, average='macro'))\n",
    "        temp_array.append(f1_score(y_test, y_pred, average='macro', labels=np.unique(y_pred)))\n",
    "        for _ in range(4): temp_array.append(None)\n",
    "    \n",
    "    # For historical reason\n",
    "    elif model_flag == 'reg': # Regression\n",
    "        for _ in range(5): temp_array.append(None)\n",
    "        temp_array.append(mean_squared_error(y_test, y_pred))\n",
    "        temp_array.append(mean_squared_error(y_test, y_pred)**(1/2))\n",
    "        temp_array.append(mean_absolute_error(y_test, y_pred))\n",
    "        temp_array.append(r2_score(y_test, y_pred))\n",
    "    else: \n",
    "        print('Error')\n",
    "        for _ in range(len(metrics_list)): temp_array.append(None)\n",
    "\n",
    "    model_indx = -1\n",
    "    flag = 1\n",
    "    for indx, _model in enumerate(model_array):\n",
    "        if _model == model:\n",
    "            model_indx = indx\n",
    "            flag = 0\n",
    "    if flag:\n",
    "        output_array.append([0]* len(metrics_list))\n",
    "        model_indx = len(model_array)\n",
    "        model_array.append(model)\n",
    "    for indx, el in enumerate(temp_array):\n",
    "        output_array[model_indx][indx] = el"
   ]
  },
  {
   "cell_type": "code",
   "execution_count": 114,
   "metadata": {},
   "outputs": [],
   "source": [
    "def graph_show(model, X, y):\n",
    "    metrics.plot_confusion_matrix(model, X, y)\n",
    "    metrics.plot_roc_curve(model, X, y)  \n",
    "    plt.show()"
   ]
  },
  {
   "cell_type": "markdown",
   "metadata": {},
   "source": [
    "## Classifier"
   ]
  },
  {
   "cell_type": "markdown",
   "metadata": {},
   "source": [
    "### Perception Classifier Model"
   ]
  },
  {
   "cell_type": "code",
   "execution_count": 115,
   "metadata": {},
   "outputs": [
    {
     "name": "stdout",
     "output_type": "stream",
     "text": [
      "Accuracy: 0.8\n",
      "Recall: 0.7205882352941176\n",
      "Precision: 0.8\n",
      "F1: 0.7401247401247402\n",
      "Weighted Recall: (0.8, 0.7205882352941176, 0.7401247401247402, None)\n"
     ]
    }
   ],
   "source": [
    "from sklearn.linear_model import Perceptron\n",
    "Perc = Perceptron()\n",
    "Perc.fit(X_train, y_train)\n",
    "\n",
    "y_pred = Perc.predict(X_test)\n",
    "\n",
    "classification_quality(y_test, y_pred)\n",
    "compilance_print('Perceptron', y_test, y_pred, 'cls')"
   ]
  },
  {
   "cell_type": "markdown",
   "metadata": {},
   "source": [
    "### Random Forest Classifier Model"
   ]
  },
  {
   "cell_type": "code",
   "execution_count": 116,
   "metadata": {},
   "outputs": [
    {
     "name": "stdout",
     "output_type": "stream",
     "text": [
      "Accuracy: 1.0\n",
      "Recall: 1.0\n",
      "Precision: 1.0\n",
      "F1: 1.0\n",
      "Weighted Recall: (1.0, 1.0, 1.0, None)\n"
     ]
    }
   ],
   "source": [
    "from sklearn.ensemble import RandomForestClassifier\n",
    "RanF = RandomForestClassifier()\n",
    "RanF.fit(X_train, y_train)\n",
    "\n",
    "y_pred = RanF.predict(X_test)\n",
    "\n",
    "classification_quality(y_test, y_pred)\n",
    "compilance_print('RandomForest', y_test, y_pred, 'cls')"
   ]
  },
  {
   "cell_type": "markdown",
   "metadata": {},
   "source": [
    "### Gradient Boosting Classifier Model"
   ]
  },
  {
   "cell_type": "code",
   "execution_count": 117,
   "metadata": {},
   "outputs": [
    {
     "name": "stdout",
     "output_type": "stream",
     "text": [
      "Accuracy: 0.976\n",
      "Recall: 0.9823529411764707\n",
      "Precision: 0.9651162790697674\n",
      "F1: 0.9729456749152298\n",
      "Weighted Recall: (0.9651162790697674, 0.9823529411764707, 0.9729456749152298, None)\n"
     ]
    }
   ],
   "source": [
    "from sklearn.ensemble import GradientBoostingClassifier\n",
    "GraB = GradientBoostingClassifier()\n",
    "GraB.fit(X_train, y_train)\n",
    "\n",
    "y_pred = GraB.predict(X_test)\n",
    "\n",
    "classification_quality(y_test, y_pred)\n",
    "compilance_print('GradientBoosting', y_test, y_pred, 'cls')"
   ]
  },
  {
   "cell_type": "markdown",
   "metadata": {},
   "source": [
    "### MultinomialNB Classifier Model"
   ]
  },
  {
   "cell_type": "code",
   "execution_count": 118,
   "metadata": {},
   "outputs": [
    {
     "name": "stdout",
     "output_type": "stream",
     "text": [
      "Accuracy: 0.848\n",
      "Recall: 0.861764705882353\n",
      "Precision: 0.8259141494435612\n",
      "F1: 0.8358559679314397\n",
      "Weighted Recall: (0.8259141494435612, 0.861764705882353, 0.8358559679314397, None)\n"
     ]
    }
   ],
   "source": [
    "from sklearn.naive_bayes import MultinomialNB\n",
    "MulNB = MultinomialNB()\n",
    "MulNB.fit(X_train, y_train)\n",
    "\n",
    "y_pred = MulNB.predict(X_test)\n",
    "\n",
    "classification_quality(y_test, y_pred)\n",
    "compilance_print('MultinomialNB', y_test, y_pred, 'cls')"
   ]
  },
  {
   "cell_type": "markdown",
   "metadata": {},
   "source": [
    "### ComplementNB Classifier Model"
   ]
  },
  {
   "cell_type": "code",
   "execution_count": 119,
   "metadata": {},
   "outputs": [
    {
     "name": "stdout",
     "output_type": "stream",
     "text": [
      "Accuracy: 0.84\n",
      "Recall: 0.8823529411764706\n",
      "Precision: 0.8333333333333333\n",
      "F1: 0.8333333333333333\n",
      "Weighted Recall: (0.8333333333333333, 0.8823529411764706, 0.8333333333333333, None)\n"
     ]
    }
   ],
   "source": [
    "from sklearn.naive_bayes import ComplementNB\n",
    "ComNB = ComplementNB()\n",
    "ComNB.fit(X_train, y_train)\n",
    "\n",
    "y_pred = ComNB.predict(X_test)\n",
    "\n",
    "classification_quality(y_test, y_pred)\n",
    "compilance_print('ComplementNB', y_test, y_pred, 'cls')"
   ]
  },
  {
   "cell_type": "markdown",
   "metadata": {},
   "source": [
    "### GaussianNB Classifier Model"
   ]
  },
  {
   "cell_type": "code",
   "execution_count": 120,
   "metadata": {},
   "outputs": [
    {
     "name": "stdout",
     "output_type": "stream",
     "text": [
      "Accuracy: 0.912\n",
      "Recall: 0.9352941176470588\n",
      "Precision: 0.892156862745098\n",
      "F1: 0.9049692445918862\n",
      "Weighted Recall: (0.892156862745098, 0.9352941176470588, 0.9049692445918862, None)\n"
     ]
    }
   ],
   "source": [
    "from sklearn.naive_bayes import GaussianNB\n",
    "GaNB = GaussianNB()\n",
    "GaNB.fit(X_train, y_train)\n",
    "\n",
    "y_pred = GaNB.predict(X_test)\n",
    "\n",
    "classification_quality(y_test, y_pred)\n",
    "compilance_print('GaussianNB', y_test, y_pred, 'cls')"
   ]
  },
  {
   "cell_type": "markdown",
   "metadata": {},
   "source": [
    "### BernoulliNB Classifier Model"
   ]
  },
  {
   "cell_type": "code",
   "execution_count": 129,
   "metadata": {},
   "outputs": [
    {
     "name": "stdout",
     "output_type": "stream",
     "text": [
      "Accuracy: 0.912\n",
      "Recall: 0.9352941176470588\n",
      "Precision: 0.892156862745098\n",
      "F1: 0.9049692445918862\n",
      "Weighted Recall: (0.892156862745098, 0.9352941176470588, 0.9049692445918862, None)\n"
     ]
    }
   ],
   "source": [
    "from sklearn.naive_bayes import BernoulliNB\n",
    "BerNB = BernoulliNB()\n",
    "BerNB.fit(X_train, y_train)\n",
    "\n",
    "y_pred = BerNB.predict(X_test)\n",
    "\n",
    "classification_quality(y_test, y_pred)\n",
    "compilance_print('BernoulliNB', y_test, y_pred, 'cls')"
   ]
  },
  {
   "cell_type": "markdown",
   "metadata": {},
   "source": [
    "### SVC Classifier Model"
   ]
  },
  {
   "cell_type": "code",
   "execution_count": 130,
   "metadata": {},
   "outputs": [
    {
     "name": "stdout",
     "output_type": "stream",
     "text": [
      "Accuracy: 0.952\n",
      "Recall: 0.9647058823529412\n",
      "Precision: 0.9347826086956521\n",
      "F1: 0.9468235961429381\n",
      "Weighted Recall: (0.9347826086956521, 0.9647058823529412, 0.9468235961429381, None)\n"
     ]
    }
   ],
   "source": [
    "from sklearn.svm import SVC\n",
    "svc = SVC()\n",
    "svc.fit(X_train, y_train)\n",
    "\n",
    "y_pred = svc.predict(X_test)\n",
    "\n",
    "classification_quality(y_test, y_pred)\n",
    "compilance_print('SVC', y_test, y_pred, 'cls')"
   ]
  },
  {
   "cell_type": "markdown",
   "metadata": {},
   "source": [
    "### LinearSVC Classifier Model"
   ]
  },
  {
   "cell_type": "code",
   "execution_count": 131,
   "metadata": {},
   "outputs": [
    {
     "name": "stdout",
     "output_type": "stream",
     "text": [
      "Accuracy: 0.896\n",
      "Recall: 0.8970588235294118\n",
      "Precision: 0.875\n",
      "F1: 0.8841354723707664\n",
      "Weighted Recall: (0.875, 0.8970588235294118, 0.8841354723707664, None)\n"
     ]
    },
    {
     "name": "stderr",
     "output_type": "stream",
     "text": [
      "/Users/alexgiving/opt/anaconda3/lib/python3.8/site-packages/sklearn/svm/_base.py:985: ConvergenceWarning: Liblinear failed to converge, increase the number of iterations.\n",
      "  warnings.warn(\"Liblinear failed to converge, increase \"\n"
     ]
    }
   ],
   "source": [
    "from sklearn.svm import LinearSVC\n",
    "lsvc = LinearSVC()\n",
    "lsvc.fit(X_train, y_train)\n",
    "\n",
    "y_pred = lsvc.predict(X_test)\n",
    "\n",
    "classification_quality(y_test, y_pred)\n",
    "compilance_print('LinearSVC', y_test, y_pred, 'cls')"
   ]
  },
  {
   "cell_type": "markdown",
   "metadata": {},
   "source": [
    "### DecisionTreeClassifier Model"
   ]
  },
  {
   "cell_type": "code",
   "execution_count": 132,
   "metadata": {},
   "outputs": [
    {
     "name": "stdout",
     "output_type": "stream",
     "text": [
      "Accuracy: 1.0\n",
      "Recall: 1.0\n",
      "Precision: 1.0\n",
      "F1: 1.0\n",
      "Weighted Recall: (1.0, 1.0, 1.0, None)\n"
     ]
    },
    {
     "data": {
      "image/png": "[encoded data removed]",
      "text/plain": [
       "<Figure size 432x288 with 1 Axes>"
      ]
     },
     "metadata": {
      "needs_background": "light"
     },
     "output_type": "display_data"
    }
   ],
   "source": [
    "from sklearn.tree import DecisionTreeClassifier\n",
    "dtr = DecisionTreeClassifier()\n",
    "dtr.fit(X_train, y_train)\n",
    "\n",
    "y_pred = dtr.predict(X_test)\n",
    "\n",
    "plot_tree(dtr)\n",
    "\n",
    "classification_quality(y_test, y_pred)\n",
    "compilance_print('DecisionTreeClassifier', y_test, y_pred, 'cls')"
   ]
  },
  {
   "cell_type": "markdown",
   "metadata": {},
   "source": [
    "### ExtraTreeClassifier Model"
   ]
  },
  {
   "cell_type": "code",
   "execution_count": 133,
   "metadata": {},
   "outputs": [
    {
     "name": "stdout",
     "output_type": "stream",
     "text": [
      "Accuracy: 0.968\n",
      "Recall: 0.9764705882352941\n",
      "Precision: 0.9545454545454546\n",
      "F1: 0.9641422834193918\n",
      "Weighted Recall: (0.9545454545454546, 0.9764705882352941, 0.9641422834193918, None)\n"
     ]
    },
    {
     "data": {
      "image/png": "[encoded data removed]",
      "text/plain": [
       "<Figure size 432x288 with 1 Axes>"
      ]
     },
     "metadata": {
      "needs_background": "light"
     },
     "output_type": "display_data"
    }
   ],
   "source": [
    "from sklearn.tree import ExtraTreeClassifier\n",
    "extr = ExtraTreeClassifier()\n",
    "extr.fit(X_train, y_train)\n",
    "\n",
    "y_pred = extr.predict(X_test)\n",
    "\n",
    "plot_tree(extr)\n",
    "classification_quality(y_test, y_pred)\n",
    "compilance_print('ExtraTreeClassifier', y_test, y_pred, 'cls')"
   ]
  },
  {
   "cell_type": "markdown",
   "metadata": {},
   "source": [
    "### MLPClassifier Model"
   ]
  },
  {
   "cell_type": "code",
   "execution_count": 134,
   "metadata": {},
   "outputs": [
    {
     "name": "stdout",
     "output_type": "stream",
     "text": [
      "Accuracy: 0.936\n",
      "Recall: 0.9529411764705882\n",
      "Precision: 0.9166666666666667\n",
      "F1: 0.9298540965207631\n",
      "Weighted Recall: (0.9166666666666667, 0.9529411764705882, 0.9298540965207631, None)\n"
     ]
    },
    {
     "name": "stderr",
     "output_type": "stream",
     "text": [
      "/Users/alexgiving/opt/anaconda3/lib/python3.8/site-packages/sklearn/neural_network/_multilayer_perceptron.py:614: ConvergenceWarning: Stochastic Optimizer: Maximum iterations (200) reached and the optimization hasn't converged yet.\n",
      "  warnings.warn(\n"
     ]
    }
   ],
   "source": [
    "from sklearn.neural_network import MLPClassifier\n",
    "MLPCl = MLPClassifier()\n",
    "MLPCl.fit(X_train, y_train)\n",
    "\n",
    "y_pred = MLPCl.predict(X_test)\n",
    "\n",
    "classification_quality(y_test, y_pred)\n",
    "compilance_print('MLPClassifier', y_test, y_pred, 'cls')"
   ]
  },
  {
   "cell_type": "markdown",
   "metadata": {},
   "source": [
    "## Matrix\n",
    "That table helps to understand which model is better for my work"
   ]
  },
  {
   "cell_type": "code",
   "execution_count": 135,
   "metadata": {},
   "outputs": [
    {
     "data": {
      "text/html": [
       "<div>\n",
       "<style scoped>\n",
       "    .dataframe tbody tr th:only-of-type {\n",
       "        vertical-align: middle;\n",
       "    }\n",
       "\n",
       "    .dataframe tbody tr th {\n",
       "        vertical-align: top;\n",
       "    }\n",
       "\n",
       "    .dataframe thead th {\n",
       "        text-align: right;\n",
       "    }\n",
       "</style>\n",
       "<table border=\"1\" class=\"dataframe\">\n",
       "  <thead>\n",
       "    <tr style=\"text-align: right;\">\n",
       "      <th></th>\n",
       "      <th>Perceptron</th>\n",
       "      <th>RandomForest</th>\n",
       "      <th>GradientBoosting</th>\n",
       "      <th>MultinomialNB</th>\n",
       "      <th>ComplementNB</th>\n",
       "      <th>GaussianNB</th>\n",
       "      <th>BernoulliNB</th>\n",
       "      <th>SVC</th>\n",
       "      <th>LinearSVC</th>\n",
       "      <th>ExtraTreeClassifier</th>\n",
       "      <th>MLPClassifier</th>\n",
       "      <th>DecisionTreeClassifier</th>\n",
       "    </tr>\n",
       "  </thead>\n",
       "  <tbody>\n",
       "    <tr>\n",
       "      <th>Accuracy</th>\n",
       "      <td>0.8</td>\n",
       "      <td>1.0</td>\n",
       "      <td>0.976</td>\n",
       "      <td>0.848</td>\n",
       "      <td>0.84</td>\n",
       "      <td>0.912</td>\n",
       "      <td>0.912</td>\n",
       "      <td>0.952</td>\n",
       "      <td>0.896</td>\n",
       "      <td>0.968</td>\n",
       "      <td>0.936</td>\n",
       "      <td>1.0</td>\n",
       "    </tr>\n",
       "    <tr>\n",
       "      <th>Balanced Accuracy</th>\n",
       "      <td>0.720588</td>\n",
       "      <td>1.0</td>\n",
       "      <td>0.982353</td>\n",
       "      <td>0.861765</td>\n",
       "      <td>0.882353</td>\n",
       "      <td>0.935294</td>\n",
       "      <td>0.935294</td>\n",
       "      <td>0.964706</td>\n",
       "      <td>0.897059</td>\n",
       "      <td>0.976471</td>\n",
       "      <td>0.952941</td>\n",
       "      <td>1.0</td>\n",
       "    </tr>\n",
       "    <tr>\n",
       "      <th>Recall</th>\n",
       "      <td>0.720588</td>\n",
       "      <td>1.0</td>\n",
       "      <td>0.982353</td>\n",
       "      <td>0.861765</td>\n",
       "      <td>0.882353</td>\n",
       "      <td>0.935294</td>\n",
       "      <td>0.935294</td>\n",
       "      <td>0.964706</td>\n",
       "      <td>0.897059</td>\n",
       "      <td>0.976471</td>\n",
       "      <td>0.952941</td>\n",
       "      <td>1.0</td>\n",
       "    </tr>\n",
       "    <tr>\n",
       "      <th>Precision</th>\n",
       "      <td>0.8</td>\n",
       "      <td>1.0</td>\n",
       "      <td>0.965116</td>\n",
       "      <td>0.825914</td>\n",
       "      <td>0.833333</td>\n",
       "      <td>0.892157</td>\n",
       "      <td>0.892157</td>\n",
       "      <td>0.934783</td>\n",
       "      <td>0.875</td>\n",
       "      <td>0.954545</td>\n",
       "      <td>0.916667</td>\n",
       "      <td>1.0</td>\n",
       "    </tr>\n",
       "    <tr>\n",
       "      <th>F1</th>\n",
       "      <td>0.740125</td>\n",
       "      <td>1.0</td>\n",
       "      <td>0.972946</td>\n",
       "      <td>0.835856</td>\n",
       "      <td>0.833333</td>\n",
       "      <td>0.904969</td>\n",
       "      <td>0.904969</td>\n",
       "      <td>0.946824</td>\n",
       "      <td>0.884135</td>\n",
       "      <td>0.964142</td>\n",
       "      <td>0.929854</td>\n",
       "      <td>1.0</td>\n",
       "    </tr>\n",
       "    <tr>\n",
       "      <th>MSE</th>\n",
       "      <td>None</td>\n",
       "      <td>None</td>\n",
       "      <td>None</td>\n",
       "      <td>None</td>\n",
       "      <td>None</td>\n",
       "      <td>None</td>\n",
       "      <td>None</td>\n",
       "      <td>None</td>\n",
       "      <td>None</td>\n",
       "      <td>None</td>\n",
       "      <td>None</td>\n",
       "      <td>None</td>\n",
       "    </tr>\n",
       "    <tr>\n",
       "      <th>RMSE</th>\n",
       "      <td>None</td>\n",
       "      <td>None</td>\n",
       "      <td>None</td>\n",
       "      <td>None</td>\n",
       "      <td>None</td>\n",
       "      <td>None</td>\n",
       "      <td>None</td>\n",
       "      <td>None</td>\n",
       "      <td>None</td>\n",
       "      <td>None</td>\n",
       "      <td>None</td>\n",
       "      <td>None</td>\n",
       "    </tr>\n",
       "    <tr>\n",
       "      <th>MAE</th>\n",
       "      <td>None</td>\n",
       "      <td>None</td>\n",
       "      <td>None</td>\n",
       "      <td>None</td>\n",
       "      <td>None</td>\n",
       "      <td>None</td>\n",
       "      <td>None</td>\n",
       "      <td>None</td>\n",
       "      <td>None</td>\n",
       "      <td>None</td>\n",
       "      <td>None</td>\n",
       "      <td>None</td>\n",
       "    </tr>\n",
       "    <tr>\n",
       "      <th>R2</th>\n",
       "      <td>None</td>\n",
       "      <td>None</td>\n",
       "      <td>None</td>\n",
       "      <td>None</td>\n",
       "      <td>None</td>\n",
       "      <td>None</td>\n",
       "      <td>None</td>\n",
       "      <td>None</td>\n",
       "      <td>None</td>\n",
       "      <td>None</td>\n",
       "      <td>None</td>\n",
       "      <td>None</td>\n",
       "    </tr>\n",
       "  </tbody>\n",
       "</table>\n",
       "</div>"
      ],
      "text/plain": [
       "                  Perceptron RandomForest GradientBoosting MultinomialNB  \\\n",
       "Accuracy                 0.8          1.0            0.976         0.848   \n",
       "Balanced Accuracy   0.720588          1.0         0.982353      0.861765   \n",
       "Recall              0.720588          1.0         0.982353      0.861765   \n",
       "Precision                0.8          1.0         0.965116      0.825914   \n",
       "F1                  0.740125          1.0         0.972946      0.835856   \n",
       "MSE                     None         None             None          None   \n",
       "RMSE                    None         None             None          None   \n",
       "MAE                     None         None             None          None   \n",
       "R2                      None         None             None          None   \n",
       "\n",
       "                  ComplementNB GaussianNB BernoulliNB       SVC LinearSVC  \\\n",
       "Accuracy                  0.84      0.912       0.912     0.952     0.896   \n",
       "Balanced Accuracy     0.882353   0.935294    0.935294  0.964706  0.897059   \n",
       "Recall                0.882353   0.935294    0.935294  0.964706  0.897059   \n",
       "Precision             0.833333   0.892157    0.892157  0.934783     0.875   \n",
       "F1                    0.833333   0.904969    0.904969  0.946824  0.884135   \n",
       "MSE                       None       None        None      None      None   \n",
       "RMSE                      None       None        None      None      None   \n",
       "MAE                       None       None        None      None      None   \n",
       "R2                        None       None        None      None      None   \n",
       "\n",
       "                  ExtraTreeClassifier MLPClassifier DecisionTreeClassifier  \n",
       "Accuracy                        0.968         0.936                    1.0  \n",
       "Balanced Accuracy            0.976471      0.952941                    1.0  \n",
       "Recall                       0.976471      0.952941                    1.0  \n",
       "Precision                    0.954545      0.916667                    1.0  \n",
       "F1                           0.964142      0.929854                    1.0  \n",
       "MSE                              None          None                   None  \n",
       "RMSE                             None          None                   None  \n",
       "MAE                              None          None                   None  \n",
       "R2                               None          None                   None  "
      ]
     },
     "execution_count": 135,
     "metadata": {},
     "output_type": "execute_result"
    }
   ],
   "source": [
    "pd.DataFrame(index=metrics_list, columns=model_array, data=np.array(pd.DataFrame(output_array).T))"
   ]
  },
  {
   "cell_type": "markdown",
   "metadata": {},
   "source": [
    "# Model result"
   ]
  },
  {
   "cell_type": "code",
   "execution_count": 136,
   "metadata": {},
   "outputs": [],
   "source": [
    "my_model = dtr  # My own prefix of DecisionTreeClassifier"
   ]
  },
  {
   "cell_type": "markdown",
   "metadata": {},
   "source": [
    "I decided to use DecisionTree Classifier model due to its metrix"
   ]
  },
  {
   "cell_type": "code",
   "execution_count": 137,
   "metadata": {},
   "outputs": [],
   "source": [
    "# save the model to disk\n",
    "filename = f'{build_path}/DecisionTreeClassifier.sav'\n",
    "pickle.dump(my_model, open(filename, 'wb'))\n",
    "\n",
    "#my_model = pickle.load(open(filename, 'rb'))"
   ]
  },
  {
   "cell_type": "code",
   "execution_count": 138,
   "metadata": {},
   "outputs": [
    {
     "data": {
      "image/png": "[encoded data removed]",
      "text/plain": [
       "<Figure size 432x288 with 2 Axes>"
      ]
     },
     "metadata": {
      "needs_background": "light"
     },
     "output_type": "display_data"
    },
    {
     "data": {
      "image/png": "[encoded data removed]",
      "text/plain": [
       "<Figure size 432x288 with 1 Axes>"
      ]
     },
     "metadata": {
      "needs_background": "light"
     },
     "output_type": "display_data"
    }
   ],
   "source": [
    "# Output ROC/AUC graphs\n",
    "graph_show(my_model, X_test, y_test)"
   ]
  },
  {
   "cell_type": "markdown",
   "metadata": {},
   "source": [
    "That metrics shows the accuracy of model. As we can see that models return very few False-Positive and True-Negative errors"
   ]
  },
  {
   "cell_type": "markdown",
   "metadata": {},
   "source": [
    "# Validation"
   ]
  },
  {
   "cell_type": "code",
   "execution_count": 139,
   "metadata": {},
   "outputs": [],
   "source": [
    "# Get predicted results of validation selection\n",
    "# NOTE: Validation selection was not used for training model thus the results are objective\n",
    "# Also X_val.iloc[:,1:] used for hiding from model hash of students names\n",
    "y_pred_val = my_model.predict(X_val.iloc[:,1:])"
   ]
  },
  {
   "cell_type": "markdown",
   "metadata": {},
   "source": [
    "These functions allow to output results of validation"
   ]
  },
  {
   "cell_type": "code",
   "execution_count": 140,
   "metadata": {},
   "outputs": [],
   "source": [
    "def print_with_name():\n",
    "    print(f'Студент {name_hash[X_val.iloc[i, 0]][1]} предположительно {\"сдал(а)\" if y_pred_val[i] == 1 else \"не сдал(а)\"}, в жизни {\"сдал(а)\" if y_val.iloc[i] == 1 else \"не сдал(а)\"}')\n",
    "\n",
    "def print_with_id():\n",
    "    print(f'Студент №{i+1} предположительно {\"сдал(а)\" if y_pred_val[i] == 1 else \"не сдал(а)\"}, в жизни {\"сдал(а)\" if y_val.iloc[i] == 1 else \"не сдал(а)\"}')"
   ]
  },
  {
   "cell_type": "code",
   "execution_count": 141,
   "metadata": {},
   "outputs": [
    {
     "name": "stdout",
     "output_type": "stream",
     "text": [
      "Студент №1 предположительно сдал(а), в жизни сдал(а)\n",
      "Студент №2 предположительно не сдал(а), в жизни не сдал(а)\n",
      "Студент №3 предположительно сдал(а), в жизни сдал(а)\n",
      "Студент №4 предположительно сдал(а), в жизни сдал(а)\n",
      "Студент №5 предположительно не сдал(а), в жизни сдал(а)\n",
      "Студент №6 предположительно сдал(а), в жизни сдал(а)\n",
      "Студент №7 предположительно не сдал(а), в жизни не сдал(а)\n",
      "Студент №8 предположительно сдал(а), в жизни сдал(а)\n",
      "Студент №9 предположительно сдал(а), в жизни сдал(а)\n",
      "Студент №10 предположительно не сдал(а), в жизни не сдал(а)\n",
      "Студент №11 предположительно сдал(а), в жизни сдал(а)\n",
      "Студент №12 предположительно сдал(а), в жизни сдал(а)\n",
      "Студент №13 предположительно сдал(а), в жизни сдал(а)\n",
      "Студент №14 предположительно не сдал(а), в жизни не сдал(а)\n",
      "Студент №15 предположительно сдал(а), в жизни сдал(а)\n",
      "Студент №16 предположительно сдал(а), в жизни сдал(а)\n",
      "Студент №17 предположительно не сдал(а), в жизни не сдал(а)\n",
      "Студент №18 предположительно сдал(а), в жизни сдал(а)\n",
      "Студент №19 предположительно сдал(а), в жизни сдал(а)\n",
      "Студент №20 предположительно сдал(а), в жизни сдал(а)\n",
      "Студент №21 предположительно не сдал(а), в жизни не сдал(а)\n",
      "Студент №22 предположительно сдал(а), в жизни сдал(а)\n",
      "Студент №23 предположительно не сдал(а), в жизни не сдал(а)\n",
      "Студент №24 предположительно не сдал(а), в жизни не сдал(а)\n",
      "Студент №25 предположительно сдал(а), в жизни сдал(а)\n",
      "There were 1 from 25 error(s)!\n"
     ]
    }
   ],
   "source": [
    "error_counter = 0\n",
    "total = 0\n",
    "for i in range(len(y_pred_val)):\n",
    "    if y_pred_val[i] != y_val.iloc[i] == 1:\n",
    "        error_counter += 1\n",
    "    total += 1\n",
    "    print_with_id()\n",
    "print(f'There were {error_counter} from {total} error(s)!')"
   ]
  },
  {
   "cell_type": "markdown",
   "metadata": {},
   "source": [
    "# Validation with my answers"
   ]
  },
  {
   "cell_type": "code",
   "execution_count": 142,
   "metadata": {},
   "outputs": [
    {
     "name": "stdout",
     "output_type": "stream",
     "text": [
      "Трутнев Алексей Игоревич предположительно сдал(а)\n"
     ]
    }
   ],
   "source": [
    "my_questions = [\"Учащийся\", \"16.Работаете ли Вы?\", \"14.Увлекаетесь ли Вы спортом?\", \n",
    "                \"9.Сколько времени Вы уделяете самостоятельной подготовке к занятиям (в среднем)?\",\n",
    "                \"8.Как много Вы пропускаете аудиторных занятий?\", \"6.Бывают ли у Вас долги по экзаменам/зачетам?\", \n",
    "                \"2.Посещаете ли Вы дополнительные занятия (неважно, в вышке или вне)?\", \"1.Участвуете ли Вы в олимпиадах?\" ]\n",
    "\n",
    "\n",
    "my_answers =    [\n",
    "                \"Трутнев Алексей Игоревич\",                 # Учащийся\n",
    "                \"Да\",                                       # 16.Работаете ли Вы?\n",
    "                \"да, хожу на фитнес или в тренажерный зал\", # 14.Увлекаетесь ли Вы спортом?\n",
    "                \"Готовлюсь только перед занятиями\",         # 9.Сколько времени Вы уделяете самостоятельной подготовке к занятиям (в среднем)?\n",
    "                \"Не пропускаете\",                           # 8.Как много Вы пропускаете аудиторных занятий?\n",
    "                \"Нет\",                                      # 6.Бывают ли у Вас долги по экзаменам/зачетам?\n",
    "                \"нет\",                                      # 2.Посещаете ли Вы дополнительные занятия (неважно, в вышке или вне)?\n",
    "                \"Нет\",                                      # 1.Участвуете ли Вы в олимпиадах?\n",
    "                ]\n",
    "\n",
    "\n",
    "df = pd.DataFrame(data=[my_answers], columns=my_questions)\n",
    "\n",
    "for col in pd.DataFrame(df.iloc[:,1:]).columns:                             # Iterate by df without name\n",
    "    encoder = LabelEncoder()\n",
    "    filename = f\"{build_path}/{str(col).replace('/', '-')}_class_linear_encoder.npy\" \n",
    "    encoder.classes_ = np.load(filename, allow_pickle=True)                 # Import encouder fit data\n",
    "    df[col] = encoder.transform(df[col])\n",
    "\n",
    "\n",
    "y_pred_my = my_model.predict(df.iloc[:,1:])     # Without name\n",
    "print(f'{df.iloc[0,0]} предположительно {\"сдал(а)\" if y_pred_my == 1 else \"не сдал экзамен\"}')"
   ]
  },
  {
   "cell_type": "markdown",
   "metadata": {},
   "source": [
    "# Correlation matrix"
   ]
  },
  {
   "cell_type": "code",
   "execution_count": null,
   "metadata": {},
   "outputs": [],
   "source": [
    "def exists(path):\n",
    "    try:\n",
    "        os.stat(path)\n",
    "    except OSError:\n",
    "        return False\n",
    "    return True"
   ]
  },
  {
   "cell_type": "code",
   "execution_count": null,
   "metadata": {},
   "outputs": [
    {
     "data": {
      "text/html": [
       "<style  type=\"text/css\" >\n",
       "#T_7d6a0_row0_col0,#T_7d6a0_row1_col1,#T_7d6a0_row2_col2,#T_7d6a0_row3_col3,#T_7d6a0_row4_col4,#T_7d6a0_row5_col5,#T_7d6a0_row6_col6{\n",
       "            background-color:  #b40426;\n",
       "            color:  #f1f1f1;\n",
       "        }#T_7d6a0_row0_col1,#T_7d6a0_row1_col0{\n",
       "            background-color:  #adc9fd;\n",
       "            color:  #000000;\n",
       "        }#T_7d6a0_row0_col2,#T_7d6a0_row2_col0{\n",
       "            background-color:  #aac7fd;\n",
       "            color:  #000000;\n",
       "        }#T_7d6a0_row0_col3,#T_7d6a0_row0_col4,#T_7d6a0_row3_col0,#T_7d6a0_row4_col0{\n",
       "            background-color:  #8db0fe;\n",
       "            color:  #000000;\n",
       "        }#T_7d6a0_row0_col5,#T_7d6a0_row5_col0{\n",
       "            background-color:  #86a9fc;\n",
       "            color:  #000000;\n",
       "        }#T_7d6a0_row0_col6,#T_7d6a0_row6_col0{\n",
       "            background-color:  #8caffe;\n",
       "            color:  #000000;\n",
       "        }#T_7d6a0_row1_col2,#T_7d6a0_row2_col1{\n",
       "            background-color:  #7da0f9;\n",
       "            color:  #000000;\n",
       "        }#T_7d6a0_row1_col3,#T_7d6a0_row3_col1{\n",
       "            background-color:  #6a8bef;\n",
       "            color:  #000000;\n",
       "        }#T_7d6a0_row1_col4,#T_7d6a0_row4_col1{\n",
       "            background-color:  #a3c2fe;\n",
       "            color:  #000000;\n",
       "        }#T_7d6a0_row1_col5,#T_7d6a0_row5_col1{\n",
       "            background-color:  #7b9ff9;\n",
       "            color:  #000000;\n",
       "        }#T_7d6a0_row1_col6,#T_7d6a0_row6_col1{\n",
       "            background-color:  #96b7ff;\n",
       "            color:  #000000;\n",
       "        }#T_7d6a0_row2_col3,#T_7d6a0_row3_col2{\n",
       "            background-color:  #e7d7ce;\n",
       "            color:  #000000;\n",
       "        }#T_7d6a0_row2_col4,#T_7d6a0_row4_col2{\n",
       "            background-color:  #6f92f3;\n",
       "            color:  #000000;\n",
       "        }#T_7d6a0_row2_col5,#T_7d6a0_row5_col2{\n",
       "            background-color:  #94b6ff;\n",
       "            color:  #000000;\n",
       "        }#T_7d6a0_row2_col6,#T_7d6a0_row3_col5,#T_7d6a0_row5_col3,#T_7d6a0_row6_col2{\n",
       "            background-color:  #8badfd;\n",
       "            color:  #000000;\n",
       "        }#T_7d6a0_row3_col4,#T_7d6a0_row4_col3{\n",
       "            background-color:  #3b4cc0;\n",
       "            color:  #f1f1f1;\n",
       "        }#T_7d6a0_row3_col6,#T_7d6a0_row6_col3{\n",
       "            background-color:  #81a4fb;\n",
       "            color:  #000000;\n",
       "        }#T_7d6a0_row4_col5,#T_7d6a0_row5_col4{\n",
       "            background-color:  #9fbfff;\n",
       "            color:  #000000;\n",
       "        }#T_7d6a0_row4_col6,#T_7d6a0_row5_col6,#T_7d6a0_row6_col4,#T_7d6a0_row6_col5{\n",
       "            background-color:  #c3d5f4;\n",
       "            color:  #000000;\n",
       "        }</style><table id=\"T_7d6a0_\" ><thead>    <tr>        <th class=\"blank level0\" ></th>        <th class=\"col_heading level0 col0\" >16.Работаете ли Вы?</th>        <th class=\"col_heading level0 col1\" >14.Увлекаетесь ли Вы спортом?</th>        <th class=\"col_heading level0 col2\" >9.Сколько времени Вы уделяете самостоятельной подготовке к занятиям (в среднем)?</th>        <th class=\"col_heading level0 col3\" >8.Как много Вы пропускаете аудиторных занятий?</th>        <th class=\"col_heading level0 col4\" >6.Бывают ли у Вас долги по экзаменам/зачетам?</th>        <th class=\"col_heading level0 col5\" >2.Посещаете ли Вы дополнительные занятия (неважно, в вышке или вне)?</th>        <th class=\"col_heading level0 col6\" >1.Участвуете ли Вы в олимпиадах?</th>    </tr></thead><tbody>\n",
       "                <tr>\n",
       "                        <th id=\"T_7d6a0_level0_row0\" class=\"row_heading level0 row0\" >16.Работаете ли Вы?</th>\n",
       "                        <td id=\"T_7d6a0_row0_col0\" class=\"data row0 col0\" >1.000000</td>\n",
       "                        <td id=\"T_7d6a0_row0_col1\" class=\"data row0 col1\" >0.089090</td>\n",
       "                        <td id=\"T_7d6a0_row0_col2\" class=\"data row0 col2\" >0.076887</td>\n",
       "                        <td id=\"T_7d6a0_row0_col3\" class=\"data row0 col3\" >-0.039203</td>\n",
       "                        <td id=\"T_7d6a0_row0_col4\" class=\"data row0 col4\" >-0.037762</td>\n",
       "                        <td id=\"T_7d6a0_row0_col5\" class=\"data row0 col5\" >-0.065567</td>\n",
       "                        <td id=\"T_7d6a0_row0_col6\" class=\"data row0 col6\" >-0.041863</td>\n",
       "            </tr>\n",
       "            <tr>\n",
       "                        <th id=\"T_7d6a0_level0_row1\" class=\"row_heading level0 row1\" >14.Увлекаетесь ли Вы спортом?</th>\n",
       "                        <td id=\"T_7d6a0_row1_col0\" class=\"data row1 col0\" >0.089090</td>\n",
       "                        <td id=\"T_7d6a0_row1_col1\" class=\"data row1 col1\" >1.000000</td>\n",
       "                        <td id=\"T_7d6a0_row1_col2\" class=\"data row1 col2\" >-0.101621</td>\n",
       "                        <td id=\"T_7d6a0_row1_col3\" class=\"data row1 col3\" >-0.177372</td>\n",
       "                        <td id=\"T_7d6a0_row1_col4\" class=\"data row1 col4\" >0.047282</td>\n",
       "                        <td id=\"T_7d6a0_row1_col5\" class=\"data row1 col5\" >-0.109349</td>\n",
       "                        <td id=\"T_7d6a0_row1_col6\" class=\"data row1 col6\" >-0.005452</td>\n",
       "            </tr>\n",
       "            <tr>\n",
       "                        <th id=\"T_7d6a0_level0_row2\" class=\"row_heading level0 row2\" >9.Сколько времени Вы уделяете самостоятельной подготовке к занятиям (в среднем)?</th>\n",
       "                        <td id=\"T_7d6a0_row2_col0\" class=\"data row2 col0\" >0.076887</td>\n",
       "                        <td id=\"T_7d6a0_row2_col1\" class=\"data row2 col1\" >-0.101621</td>\n",
       "                        <td id=\"T_7d6a0_row2_col2\" class=\"data row2 col2\" >1.000000</td>\n",
       "                        <td id=\"T_7d6a0_row2_col3\" class=\"data row2 col3\" >0.361126</td>\n",
       "                        <td id=\"T_7d6a0_row2_col4\" class=\"data row2 col4\" >-0.158651</td>\n",
       "                        <td id=\"T_7d6a0_row2_col5\" class=\"data row2 col5\" >-0.010636</td>\n",
       "                        <td id=\"T_7d6a0_row2_col6\" class=\"data row2 col6\" >-0.047685</td>\n",
       "            </tr>\n",
       "            <tr>\n",
       "                        <th id=\"T_7d6a0_level0_row3\" class=\"row_heading level0 row3\" >8.Как много Вы пропускаете аудиторных занятий?</th>\n",
       "                        <td id=\"T_7d6a0_row3_col0\" class=\"data row3 col0\" >-0.039203</td>\n",
       "                        <td id=\"T_7d6a0_row3_col1\" class=\"data row3 col1\" >-0.177372</td>\n",
       "                        <td id=\"T_7d6a0_row3_col2\" class=\"data row3 col2\" >0.361126</td>\n",
       "                        <td id=\"T_7d6a0_row3_col3\" class=\"data row3 col3\" >1.000000</td>\n",
       "                        <td id=\"T_7d6a0_row3_col4\" class=\"data row3 col4\" >-0.387457</td>\n",
       "                        <td id=\"T_7d6a0_row3_col5\" class=\"data row3 col5\" >-0.050922</td>\n",
       "                        <td id=\"T_7d6a0_row3_col6\" class=\"data row3 col6\" >-0.084693</td>\n",
       "            </tr>\n",
       "            <tr>\n",
       "                        <th id=\"T_7d6a0_level0_row4\" class=\"row_heading level0 row4\" >6.Бывают ли у Вас долги по экзаменам/зачетам?</th>\n",
       "                        <td id=\"T_7d6a0_row4_col0\" class=\"data row4 col0\" >-0.037762</td>\n",
       "                        <td id=\"T_7d6a0_row4_col1\" class=\"data row4 col1\" >0.047282</td>\n",
       "                        <td id=\"T_7d6a0_row4_col2\" class=\"data row4 col2\" >-0.158651</td>\n",
       "                        <td id=\"T_7d6a0_row4_col3\" class=\"data row4 col3\" >-0.387457</td>\n",
       "                        <td id=\"T_7d6a0_row4_col4\" class=\"data row4 col4\" >1.000000</td>\n",
       "                        <td id=\"T_7d6a0_row4_col5\" class=\"data row4 col5\" >0.031436</td>\n",
       "                        <td id=\"T_7d6a0_row4_col6\" class=\"data row4 col6\" >0.180910</td>\n",
       "            </tr>\n",
       "            <tr>\n",
       "                        <th id=\"T_7d6a0_level0_row5\" class=\"row_heading level0 row5\" >2.Посещаете ли Вы дополнительные занятия (неважно, в вышке или вне)?</th>\n",
       "                        <td id=\"T_7d6a0_row5_col0\" class=\"data row5 col0\" >-0.065567</td>\n",
       "                        <td id=\"T_7d6a0_row5_col1\" class=\"data row5 col1\" >-0.109349</td>\n",
       "                        <td id=\"T_7d6a0_row5_col2\" class=\"data row5 col2\" >-0.010636</td>\n",
       "                        <td id=\"T_7d6a0_row5_col3\" class=\"data row5 col3\" >-0.050922</td>\n",
       "                        <td id=\"T_7d6a0_row5_col4\" class=\"data row5 col4\" >0.031436</td>\n",
       "                        <td id=\"T_7d6a0_row5_col5\" class=\"data row5 col5\" >1.000000</td>\n",
       "                        <td id=\"T_7d6a0_row5_col6\" class=\"data row5 col6\" >0.178260</td>\n",
       "            </tr>\n",
       "            <tr>\n",
       "                        <th id=\"T_7d6a0_level0_row6\" class=\"row_heading level0 row6\" >1.Участвуете ли Вы в олимпиадах?</th>\n",
       "                        <td id=\"T_7d6a0_row6_col0\" class=\"data row6 col0\" >-0.041863</td>\n",
       "                        <td id=\"T_7d6a0_row6_col1\" class=\"data row6 col1\" >-0.005452</td>\n",
       "                        <td id=\"T_7d6a0_row6_col2\" class=\"data row6 col2\" >-0.047685</td>\n",
       "                        <td id=\"T_7d6a0_row6_col3\" class=\"data row6 col3\" >-0.084693</td>\n",
       "                        <td id=\"T_7d6a0_row6_col4\" class=\"data row6 col4\" >0.180910</td>\n",
       "                        <td id=\"T_7d6a0_row6_col5\" class=\"data row6 col5\" >0.178260</td>\n",
       "                        <td id=\"T_7d6a0_row6_col6\" class=\"data row6 col6\" >1.000000</td>\n",
       "            </tr>\n",
       "    </tbody></table>"
      ],
      "text/plain": [
       "<pandas.io.formats.style.Styler at 0x7f91bf3f8dc0>"
      ]
     },
     "execution_count": 274,
     "metadata": {},
     "output_type": "execute_result"
    }
   ],
   "source": [
    "# Replace all text output to index\n",
    "# Used for outputing correlation matrix\n",
    "label_encoder = LabelEncoder()\n",
    "label_data = data.copy()\n",
    "\n",
    "label_data = label_data.iloc[:,1:]\n",
    "s = (label_data.dtypes == 'object')\n",
    "object_cols = list(s[s].index)\n",
    "\n",
    "for col in object_cols:\n",
    "    filename = f\"{build_path}/{col.replace('/', '-')}_class_linear_encoder.npy\"\n",
    "    if exists(filename):\n",
    "        label_encoder.classes_ = np.load(filename, allow_pickle=True)\n",
    "    else: \n",
    "        label_encoder.fit(data[col])\n",
    "#   always:\n",
    "    label_data[col] = label_encoder.transform(label_data[col])\n",
    "\n",
    "\n",
    "# Creating correlation matrix\n",
    "rs = np.random.RandomState(0)\n",
    "corr = label_data.corr()\n",
    "corr.style.background_gradient(cmap='coolwarm', axis=None)"
   ]
  }
 ],
 "metadata": {
  "interpreter": {
   "hash": "dbc59c1602769476583de30dcfaf94a717f95996dfb09063277734c10faa726c"
  },
  "kernelspec": {
   "display_name": "Python 3.8.8 64-bit ('base': conda)",
   "language": "python",
   "name": "python3"
  },
  "language_info": {
   "codemirror_mode": {
    "name": "ipython",
    "version": 3
   },
   "file_extension": ".py",
   "mimetype": "text/x-python",
   "name": "python",
   "nbconvert_exporter": "python",
   "pygments_lexer": "ipython3",
   "version": "3.8.8"
  },
  "orig_nbformat": 4
 },
 "nbformat": 4,
 "nbformat_minor": 2
}
