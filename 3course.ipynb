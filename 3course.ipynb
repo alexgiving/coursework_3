{
 "cells": [
  {
   "cell_type": "markdown",
   "metadata": {},
   "source": [
    "# Import Libs"
   ]
  },
  {
   "cell_type": "code",
   "execution_count": 70,
   "metadata": {},
   "outputs": [],
   "source": [
    "import pandas as pd\n",
    "import numpy as np\n",
    "import matplotlib.pyplot as plt\n",
    "from sklearn.preprocessing import LabelEncoder\n",
    "from sklearn.model_selection import train_test_split\n",
    "from PIL import Image\n",
    "from sklearn import metrics\n",
    "from sklearn.model_selection import train_test_split\n",
    "from sklearn.metrics import accuracy_score, balanced_accuracy_score, precision_recall_fscore_support, recall_score, precision_score, f1_score\n",
    "from sklearn.metrics import mean_squared_error, mean_absolute_error, r2_score"
   ]
  },
  {
   "cell_type": "markdown",
   "metadata": {},
   "source": [
    "# Preprocessing"
   ]
  },
  {
   "cell_type": "code",
   "execution_count": 71,
   "metadata": {},
   "outputs": [],
   "source": [
    "# Import dataset\n",
    "data = pd.read_excel('dataset_norm.xlsx')\n",
    "data_raw_copy = data\n",
    "\n",
    "# Define minimal mark\n",
    "min_mark = 4"
   ]
  },
  {
   "cell_type": "code",
   "execution_count": 72,
   "metadata": {},
   "outputs": [
    {
     "data": {
      "image/png": "[encoded data removed]",
      "text/plain": [
       "<Figure size 432x288 with 1 Axes>"
      ]
     },
     "metadata": {
      "needs_background": "light"
     },
     "output_type": "display_data"
    }
   ],
   "source": [
    "# Output distribution of scores\n",
    "x = range(len(data['Средний балл']))\n",
    "y = data['Средний балл']\n",
    "\n",
    "plt.scatter(x, y)\n",
    "plt.grid()\n",
    "plt.show()"
   ]
  },
  {
   "cell_type": "markdown",
   "metadata": {},
   "source": [
    "NOTE: lines in graph illustrate custom increase the number of not pass students.\n",
    "That trick were done for better model training. It helps to increase accuracy metricks of models"
   ]
  },
  {
   "cell_type": "markdown",
   "metadata": {},
   "source": [
    "Lets find out how many students did not pass the exams"
   ]
  },
  {
   "cell_type": "code",
   "execution_count": 73,
   "metadata": {},
   "outputs": [
    {
     "name": "stdout",
     "output_type": "stream",
     "text": [
      "TOTAL: 498\n",
      "Passed: 341\n",
      "Not pas: 157\n"
     ]
    }
   ],
   "source": [
    "def counter_print():\n",
    "    passed = 0\n",
    "    not_passed = 0\n",
    "    res = 0\n",
    "    for mark in data['Средний балл']:\n",
    "        if mark >= min_mark:\n",
    "            passed += 1\n",
    "        elif mark < min_mark:\n",
    "            not_passed += 1\n",
    "        res += 1\n",
    "    print(f\"TOTAL: {res}\\nPassed: {passed}\\nNot pas: {not_passed}\")\n",
    "\n",
    "counter_print()"
   ]
  },
  {
   "cell_type": "code",
   "execution_count": 74,
   "metadata": {},
   "outputs": [],
   "source": [
    "# Replase mark of student by belonging to the class of successfully passed\n",
    "data['Сдал'] = pd.cut(x=data['Средний балл'], bins=[0, min_mark, 10], labels=[0, 1])\n",
    "data.drop(['Средний балл'], axis = 1, inplace= True)\n",
    "\n",
    "# Drop indicators which are not connected with extracurricular activities\n",
    "data.drop(['Дата прохождения теста',\n",
    "            '15.Образование Ваших родителей?', \n",
    "            '3.С какими оценками Вы закончили школу?',\n",
    "            '4.Ходили ли Вы на подготовительные курсы перед поступлением в вуз?',\n",
    "            '7.Какая у Вас семья?',\n",
    "            '10.Получали ли Вы стипендию? (в течение последнего года)',\n",
    "            '11.Оцените, как Вам нравится учиться?',\n",
    "            '13.На какие средства Вы живете?',\n",
    "            '5.Брали ли Вы академический отпуск?',\n",
    "            '17.Укажите Ваше семейное положение.',\n",
    "            '12.Каковы условия Вашего проживания?'\n",
    "            ],\n",
    "            axis = 1, inplace = True)"
   ]
  },
  {
   "cell_type": "markdown",
   "metadata": {},
   "source": [
    "Dataset with concern questions"
   ]
  },
  {
   "cell_type": "code",
   "execution_count": 75,
   "metadata": {},
   "outputs": [
    {
     "data": {
      "text/html": [
       "<div>\n",
       "<style scoped>\n",
       "    .dataframe tbody tr th:only-of-type {\n",
       "        vertical-align: middle;\n",
       "    }\n",
       "\n",
       "    .dataframe tbody tr th {\n",
       "        vertical-align: top;\n",
       "    }\n",
       "\n",
       "    .dataframe thead th {\n",
       "        text-align: right;\n",
       "    }\n",
       "</style>\n",
       "<table border=\"1\" class=\"dataframe\">\n",
       "  <thead>\n",
       "    <tr style=\"text-align: right;\">\n",
       "      <th></th>\n",
       "      <th>Учащийся</th>\n",
       "      <th>16.Работаете ли Вы?</th>\n",
       "      <th>14.Увлекаетесь ли Вы спортом?</th>\n",
       "      <th>9.Сколько времени Вы уделяете самостоятельной подготовке к занятиям (в среднем)?</th>\n",
       "      <th>8.Как много Вы пропускаете аудиторных занятий?</th>\n",
       "      <th>6.Бывают ли у Вас долги по экзаменам/зачетам?</th>\n",
       "      <th>2.Посещаете ли Вы дополнительные занятия (неважно, в вышке или вне)?</th>\n",
       "      <th>1.Участвуете ли Вы в олимпиадах?</th>\n",
       "      <th>Сдал</th>\n",
       "    </tr>\n",
       "  </thead>\n",
       "  <tbody>\n",
       "    <tr>\n",
       "      <th>0</th>\n",
       "      <td>Кайнов Кирилл Анатольевич</td>\n",
       "      <td>Нет</td>\n",
       "      <td>да, хожу на фитнес или в тренажерный зал</td>\n",
       "      <td>От 1 до 3 часов в день</td>\n",
       "      <td>Среднее количество пропусков</td>\n",
       "      <td>1-2 раза в семестр</td>\n",
       "      <td>нет</td>\n",
       "      <td>Нет</td>\n",
       "      <td>0</td>\n",
       "    </tr>\n",
       "    <tr>\n",
       "      <th>1</th>\n",
       "      <td>Матутин Василий Андреевич</td>\n",
       "      <td>Нет</td>\n",
       "      <td>нет, не занимаюсь</td>\n",
       "      <td>Более 3 часов в день</td>\n",
       "      <td>Не пропускаете</td>\n",
       "      <td>Нет</td>\n",
       "      <td>нет</td>\n",
       "      <td>Нет, но собираюсь в этом году</td>\n",
       "      <td>1</td>\n",
       "    </tr>\n",
       "    <tr>\n",
       "      <th>2</th>\n",
       "      <td>Константинов Александр Михайлович</td>\n",
       "      <td>Да</td>\n",
       "      <td>нет, не занимаюсь</td>\n",
       "      <td>Готовлюсь только перед занятиями</td>\n",
       "      <td>Регулярно пропускаете</td>\n",
       "      <td>Всегда</td>\n",
       "      <td>нет</td>\n",
       "      <td>Нет</td>\n",
       "      <td>1</td>\n",
       "    </tr>\n",
       "    <tr>\n",
       "      <th>3</th>\n",
       "      <td>Кудакаев Руслан Фаритович</td>\n",
       "      <td>Нет</td>\n",
       "      <td>нет, не занимаюсь</td>\n",
       "      <td>Более 3 часов в день</td>\n",
       "      <td>Не пропускаете</td>\n",
       "      <td>Нет</td>\n",
       "      <td>нет</td>\n",
       "      <td>Нет</td>\n",
       "      <td>1</td>\n",
       "    </tr>\n",
       "    <tr>\n",
       "      <th>4</th>\n",
       "      <td>Балов Илья Сергеевич</td>\n",
       "      <td>Нет</td>\n",
       "      <td>да, занимаюсь шахматами/шашками;нет, не занимаюсь</td>\n",
       "      <td>Более 3 часов в день</td>\n",
       "      <td>Среднее количество пропусков</td>\n",
       "      <td>1-2 раза в год</td>\n",
       "      <td>нет</td>\n",
       "      <td>Да</td>\n",
       "      <td>1</td>\n",
       "    </tr>\n",
       "  </tbody>\n",
       "</table>\n",
       "</div>"
      ],
      "text/plain": [
       "                            Учащийся 16.Работаете ли Вы?  \\\n",
       "0          Кайнов Кирилл Анатольевич                 Нет   \n",
       "1          Матутин Василий Андреевич                 Нет   \n",
       "2  Константинов Александр Михайлович                  Да   \n",
       "3          Кудакаев Руслан Фаритович                 Нет   \n",
       "4               Балов Илья Сергеевич                 Нет   \n",
       "\n",
       "                       14.Увлекаетесь ли Вы спортом?  \\\n",
       "0           да, хожу на фитнес или в тренажерный зал   \n",
       "1                                  нет, не занимаюсь   \n",
       "2                                  нет, не занимаюсь   \n",
       "3                                  нет, не занимаюсь   \n",
       "4  да, занимаюсь шахматами/шашками;нет, не занимаюсь   \n",
       "\n",
       "  9.Сколько времени Вы уделяете самостоятельной подготовке к занятиям (в среднем)?  \\\n",
       "0                             От 1 до 3 часов в день                                 \n",
       "1                               Более 3 часов в день                                 \n",
       "2                   Готовлюсь только перед занятиями                                 \n",
       "3                               Более 3 часов в день                                 \n",
       "4                               Более 3 часов в день                                 \n",
       "\n",
       "  8.Как много Вы пропускаете аудиторных занятий?  \\\n",
       "0                   Среднее количество пропусков   \n",
       "1                                 Не пропускаете   \n",
       "2                          Регулярно пропускаете   \n",
       "3                                 Не пропускаете   \n",
       "4                   Среднее количество пропусков   \n",
       "\n",
       "  6.Бывают ли у Вас долги по экзаменам/зачетам?  \\\n",
       "0                            1-2 раза в семестр   \n",
       "1                                           Нет   \n",
       "2                                        Всегда   \n",
       "3                                           Нет   \n",
       "4                                1-2 раза в год   \n",
       "\n",
       "  2.Посещаете ли Вы дополнительные занятия (неважно, в вышке или вне)?  \\\n",
       "0                                                нет                     \n",
       "1                                                нет                     \n",
       "2                                                нет                     \n",
       "3                                                нет                     \n",
       "4                                                нет                     \n",
       "\n",
       "  1.Участвуете ли Вы в олимпиадах? Сдал  \n",
       "0                              Нет    0  \n",
       "1    Нет, но собираюсь в этом году    1  \n",
       "2                              Нет    1  \n",
       "3                              Нет    1  \n",
       "4                               Да    1  "
      ]
     },
     "execution_count": 75,
     "metadata": {},
     "output_type": "execute_result"
    }
   ],
   "source": [
    "data.head()"
   ]
  },
  {
   "cell_type": "markdown",
   "metadata": {},
   "source": [
    "Split our data in 3 parts for train, test and validation"
   ]
  },
  {
   "cell_type": "code",
   "execution_count": 76,
   "metadata": {},
   "outputs": [],
   "source": [
    "# Save hash of student name\n",
    "name_hash = []\n",
    "\n",
    "\n",
    "def train_test_val_split(test_ratio, validation_ratio):\n",
    "# That part index all names to use them in validation part\n",
    "    global name_hash\n",
    "    for idx, name in enumerate(data['Учащийся']):\n",
    "        name_hash.append((idx, name))\n",
    "        data.loc[idx:,0] = idx  # data['Учащийся'][idx] = idx\n",
    "\n",
    "\n",
    "# Replace all text output to index\n",
    "    label_encoder = LabelEncoder()\n",
    "    s = (data.dtypes == 'object')\n",
    "    object_cols = list(s[s].index)\n",
    "    label_data = data.copy()\n",
    "    for col in object_cols:\n",
    "        label_encoder.fit(data[col])\n",
    "        label_data[col] = label_encoder.transform(data[col])\n",
    "\n",
    "# Split dataset\n",
    "    size = data.shape[0]\n",
    "    validation_ratio = (validation_ratio * size) / (size * (1 - test_ratio))\n",
    "    X_train, X_test, y_train, y_test = train_test_split(label_data.drop('Сдал', axis = 1), \n",
    "                                                        label_data['Сдал'], \n",
    "                                                        test_size=test_ratio,\n",
    "                                                        random_state=1)\n",
    "\n",
    "    X_train, X_val, y_train, y_val = train_test_split(  X_train,\n",
    "                                                        y_train, \n",
    "                                                        test_size=validation_ratio, \n",
    "                                                        random_state=1)\n",
    "\n",
    "# Output X_train.iloc[:,1:] delete student hash from training and testing selections\n",
    "    return X_train.iloc[:,1:], X_test.iloc[:,1:], X_val, y_train, y_test, y_val"
   ]
  },
  {
   "cell_type": "code",
   "execution_count": 77,
   "metadata": {},
   "outputs": [],
   "source": [
    "X_train, X_test, X_val, y_train, y_test, y_val = train_test_val_split(test_ratio=0.25, validation_ratio=0.01)"
   ]
  },
  {
   "cell_type": "markdown",
   "metadata": {},
   "source": [
    "# Model variants\n",
    "In that part I will choose the classification model which will predict if student pass exams successfully or not"
   ]
  },
  {
   "cell_type": "markdown",
   "metadata": {},
   "source": [
    "## Metrics Functions"
   ]
  },
  {
   "cell_type": "code",
   "execution_count": 78,
   "metadata": {},
   "outputs": [],
   "source": [
    "def classification_quality(y_test, y_pred):\n",
    "    print(\"Accuracy:\", accuracy_score(y_test, y_pred))\n",
    "    print(\"Recall:\", recall_score(y_test, y_pred, average='macro'))\n",
    "    print(\"Precision:\", precision_score(y_test, y_pred, average='macro'))\n",
    "    print(\"F1:\", f1_score(y_test, y_pred, average='macro', labels=np.unique(y_pred)))\n",
    "    print(\"Weighted Recall:\", (precision_recall_fscore_support(y_test, y_pred, average='macro')))"
   ]
  },
  {
   "cell_type": "code",
   "execution_count": 79,
   "metadata": {},
   "outputs": [],
   "source": [
    "# For historical reason\n",
    "def regression_quality(y_test, y_pred):\n",
    "    print(\"MSE:\", mean_squared_error(y_test, y_pred))\n",
    "    print(\"RMSE:\", mean_squared_error(y_test, y_pred)**(1/2))\n",
    "    print(\"MAE:\", mean_absolute_error(y_test, y_pred))\n",
    "    print(\"R2:\", r2_score(y_test, y_pred))"
   ]
  },
  {
   "cell_type": "code",
   "execution_count": 80,
   "metadata": {},
   "outputs": [],
   "source": [
    "metrics_list = ['Accuracy', 'Balanced Accuracy', 'Recall', 'Precision', 'F1', 'MSE', 'RMSE', 'MAE', 'R2']\n",
    "model_array = []\n",
    "output_array = []\n",
    "\n",
    "def compilance_print(model, y_test, y_pred, model_flag):\n",
    "    temp_array = []\n",
    "    if model_flag == 'cls': # Classifier\n",
    "        temp_array.append(accuracy_score(y_test, y_pred))\n",
    "        temp_array.append(balanced_accuracy_score(y_test, y_pred))\n",
    "        temp_array.append(recall_score(y_test, y_pred, average='macro'))\n",
    "        temp_array.append(precision_score(y_test, y_pred, average='macro'))\n",
    "        temp_array.append(f1_score(y_test, y_pred, average='macro', labels=np.unique(y_pred)))\n",
    "        for _ in range(4): temp_array.append(None)\n",
    "    \n",
    "    # For historical reason\n",
    "    elif model_flag == 'reg': # Regression\n",
    "        return\n",
    "        for _ in range(5): temp_array.append(None)\n",
    "        temp_array.append(mean_squared_error(y_test, y_pred))\n",
    "        temp_array.append(mean_squared_error(y_test, y_pred)**(1/2))\n",
    "        temp_array.append(mean_absolute_error(y_test, y_pred))\n",
    "        temp_array.append(r2_score(y_test, y_pred))\n",
    "    else: \n",
    "        print('Error')\n",
    "        for _ in range(len(metrics_list)): temp_array.append(None)\n",
    "\n",
    "    model_indx = -1\n",
    "    flag = 1\n",
    "    for indx, _model in enumerate(model_array):\n",
    "        if _model == model:\n",
    "            model_indx = indx\n",
    "            flag = 0\n",
    "    if flag:\n",
    "        output_array.append([0]* len(metrics_list))\n",
    "        model_indx = len(model_array)\n",
    "        model_array.append(model)\n",
    "    for indx, el in enumerate(temp_array):\n",
    "        output_array[model_indx][indx] = el"
   ]
  },
  {
   "cell_type": "code",
   "execution_count": 81,
   "metadata": {},
   "outputs": [],
   "source": [
    "def graph_show(model, X, y):\n",
    "    metrics.plot_confusion_matrix(model, X, y)\n",
    "    metrics.plot_roc_curve(model, X, y)  \n",
    "    plt.show()"
   ]
  },
  {
   "cell_type": "markdown",
   "metadata": {},
   "source": [
    "## Classifier"
   ]
  },
  {
   "cell_type": "markdown",
   "metadata": {},
   "source": [
    "### Perception Classifier Model"
   ]
  },
  {
   "cell_type": "code",
   "execution_count": 82,
   "metadata": {},
   "outputs": [
    {
     "name": "stdout",
     "output_type": "stream",
     "text": [
      "Accuracy: 0.72\n",
      "Recall: 0.5583538083538084\n",
      "Precision: 0.6652173913043478\n",
      "F1: 0.5414526779163611\n",
      "Weighted Recall: (0.6652173913043478, 0.5583538083538084, 0.5414526779163611, None)\n"
     ]
    }
   ],
   "source": [
    "from sklearn.linear_model import Perceptron\n",
    "Perc = Perceptron()\n",
    "Perc.fit(X_train, y_train)\n",
    "\n",
    "y_pred = Perc.predict(X_test)\n",
    "\n",
    "classification_quality(y_test, y_pred)\n",
    "compilance_print('Perceptron', y_test, y_pred, 'cls')"
   ]
  },
  {
   "cell_type": "markdown",
   "metadata": {},
   "source": [
    "### Random Forest Classifier Model"
   ]
  },
  {
   "cell_type": "code",
   "execution_count": 83,
   "metadata": {},
   "outputs": [
    {
     "name": "stdout",
     "output_type": "stream",
     "text": [
      "Accuracy: 1.0\n",
      "Recall: 1.0\n",
      "Precision: 1.0\n",
      "F1: 1.0\n",
      "Weighted Recall: (1.0, 1.0, 1.0, None)\n"
     ]
    }
   ],
   "source": [
    "from sklearn.ensemble import RandomForestClassifier\n",
    "RanF = RandomForestClassifier()\n",
    "RanF.fit(X_train, y_train)\n",
    "\n",
    "y_pred = RanF.predict(X_test)\n",
    "\n",
    "classification_quality(y_test, y_pred)\n",
    "compilance_print('RandomForest', y_test, y_pred, 'cls')"
   ]
  },
  {
   "cell_type": "markdown",
   "metadata": {},
   "source": [
    "### Gradient Boosting Classifier Model"
   ]
  },
  {
   "cell_type": "code",
   "execution_count": 84,
   "metadata": {},
   "outputs": [
    {
     "name": "stdout",
     "output_type": "stream",
     "text": [
      "Accuracy: 1.0\n",
      "Recall: 1.0\n",
      "Precision: 1.0\n",
      "F1: 1.0\n",
      "Weighted Recall: (1.0, 1.0, 1.0, None)\n"
     ]
    }
   ],
   "source": [
    "from sklearn.ensemble import GradientBoostingClassifier\n",
    "GraB = GradientBoostingClassifier()\n",
    "GraB.fit(X_train, y_train)\n",
    "\n",
    "y_pred = GraB.predict(X_test)\n",
    "\n",
    "classification_quality(y_test, y_pred)\n",
    "compilance_print('GradientBoosting', y_test, y_pred, 'cls')"
   ]
  },
  {
   "cell_type": "markdown",
   "metadata": {},
   "source": [
    "### MultinomialNB Classifier Model"
   ]
  },
  {
   "cell_type": "code",
   "execution_count": 85,
   "metadata": {},
   "outputs": [
    {
     "name": "stdout",
     "output_type": "stream",
     "text": [
      "Accuracy: 0.68\n",
      "Recall: 0.686578624078624\n",
      "Precision: 0.6577922077922078\n",
      "F1: 0.6560264171711613\n",
      "Weighted Recall: (0.6577922077922078, 0.686578624078624, 0.6560264171711613, None)\n"
     ]
    }
   ],
   "source": [
    "from sklearn.naive_bayes import MultinomialNB\n",
    "MulNB = MultinomialNB()\n",
    "MulNB.fit(X_train, y_train)\n",
    "\n",
    "y_pred = MulNB.predict(X_test)\n",
    "\n",
    "classification_quality(y_test, y_pred)\n",
    "compilance_print('MultinomialNB', y_test, y_pred, 'cls')"
   ]
  },
  {
   "cell_type": "markdown",
   "metadata": {},
   "source": [
    "### ComplementNB Classifier Model"
   ]
  },
  {
   "cell_type": "code",
   "execution_count": 86,
   "metadata": {},
   "outputs": [
    {
     "name": "stdout",
     "output_type": "stream",
     "text": [
      "Accuracy: 0.664\n",
      "Recall: 0.6752149877149878\n",
      "Precision: 0.64718782249742\n",
      "F1: 0.6419803600654664\n",
      "Weighted Recall: (0.64718782249742, 0.6752149877149878, 0.6419803600654664, None)\n"
     ]
    }
   ],
   "source": [
    "from sklearn.naive_bayes import ComplementNB\n",
    "ComNB = ComplementNB()\n",
    "ComNB.fit(X_train, y_train)\n",
    "\n",
    "y_pred = ComNB.predict(X_test)\n",
    "\n",
    "classification_quality(y_test, y_pred)\n",
    "compilance_print('ComplementNB', y_test, y_pred, 'cls')"
   ]
  },
  {
   "cell_type": "markdown",
   "metadata": {},
   "source": [
    "### GaussianNB Classifier Model"
   ]
  },
  {
   "cell_type": "code",
   "execution_count": 87,
   "metadata": {},
   "outputs": [
    {
     "name": "stdout",
     "output_type": "stream",
     "text": [
      "Accuracy: 0.944\n",
      "Recall: 0.9602272727272727\n",
      "Precision: 0.9204545454545454\n",
      "F1: 0.9360800642851925\n",
      "Weighted Recall: (0.9204545454545454, 0.9602272727272727, 0.9360800642851925, None)\n"
     ]
    }
   ],
   "source": [
    "from sklearn.naive_bayes import GaussianNB\n",
    "GaNB = GaussianNB()\n",
    "GaNB.fit(X_train, y_train)\n",
    "\n",
    "y_pred = GaNB.predict(X_test)\n",
    "\n",
    "classification_quality(y_test, y_pred)\n",
    "compilance_print('GaussianNB', y_test, y_pred, 'cls')"
   ]
  },
  {
   "cell_type": "markdown",
   "metadata": {},
   "source": [
    "### BernoulliNB Classifier Model"
   ]
  },
  {
   "cell_type": "code",
   "execution_count": 88,
   "metadata": {},
   "outputs": [
    {
     "name": "stdout",
     "output_type": "stream",
     "text": [
      "Accuracy: 0.888\n",
      "Recall: 0.9204545454545454\n",
      "Precision: 0.8627450980392157\n",
      "F1: 0.8772446689113356\n",
      "Weighted Recall: (0.8627450980392157, 0.9204545454545454, 0.8772446689113356, None)\n"
     ]
    }
   ],
   "source": [
    "from sklearn.naive_bayes import BernoulliNB\n",
    "BerNB = BernoulliNB()\n",
    "BerNB.fit(X_train, y_train)\n",
    "\n",
    "y_pred = BerNB.predict(X_test)\n",
    "\n",
    "classification_quality(y_test, y_pred)\n",
    "compilance_print('BernoulliNB', y_test, y_pred, 'cls')"
   ]
  },
  {
   "cell_type": "markdown",
   "metadata": {},
   "source": [
    "### SVC Classifier Model"
   ]
  },
  {
   "cell_type": "code",
   "execution_count": 89,
   "metadata": {},
   "outputs": [
    {
     "name": "stdout",
     "output_type": "stream",
     "text": [
      "Accuracy: 0.704\n",
      "Recall: 0.5\n",
      "Precision: 0.352\n",
      "F1: 0.8262910798122065\n",
      "Weighted Recall: (0.352, 0.5, 0.41314553990610325, None)\n"
     ]
    },
    {
     "name": "stderr",
     "output_type": "stream",
     "text": [
      "/Users/alexgiving/opt/anaconda3/lib/python3.8/site-packages/sklearn/metrics/_classification.py:1245: UndefinedMetricWarning: Precision is ill-defined and being set to 0.0 in labels with no predicted samples. Use `zero_division` parameter to control this behavior.\n",
      "  _warn_prf(average, modifier, msg_start, len(result))\n",
      "/Users/alexgiving/opt/anaconda3/lib/python3.8/site-packages/sklearn/metrics/_classification.py:1245: UndefinedMetricWarning: Precision and F-score are ill-defined and being set to 0.0 in labels with no predicted samples. Use `zero_division` parameter to control this behavior.\n",
      "  _warn_prf(average, modifier, msg_start, len(result))\n",
      "/Users/alexgiving/opt/anaconda3/lib/python3.8/site-packages/sklearn/metrics/_classification.py:1245: UndefinedMetricWarning: Precision is ill-defined and being set to 0.0 in labels with no predicted samples. Use `zero_division` parameter to control this behavior.\n",
      "  _warn_prf(average, modifier, msg_start, len(result))\n"
     ]
    }
   ],
   "source": [
    "from sklearn.svm import SVC\n",
    "svc = SVC()\n",
    "svc.fit(X_train, y_train)\n",
    "\n",
    "y_pred = svc.predict(X_test)\n",
    "\n",
    "classification_quality(y_test, y_pred)\n",
    "compilance_print('SVC', y_test, y_pred, 'cls')"
   ]
  },
  {
   "cell_type": "markdown",
   "metadata": {},
   "source": [
    "### LinearSVC Classifier Model"
   ]
  },
  {
   "cell_type": "code",
   "execution_count": 90,
   "metadata": {},
   "outputs": [
    {
     "name": "stdout",
     "output_type": "stream",
     "text": [
      "Accuracy: 0.584\n",
      "Recall: 0.7045454545454546\n",
      "Precision: 0.7078651685393258\n",
      "F1: 0.583973374295955\n",
      "Weighted Recall: (0.7078651685393258, 0.7045454545454546, 0.583973374295955, None)\n"
     ]
    },
    {
     "name": "stderr",
     "output_type": "stream",
     "text": [
      "/Users/alexgiving/opt/anaconda3/lib/python3.8/site-packages/sklearn/svm/_base.py:985: ConvergenceWarning: Liblinear failed to converge, increase the number of iterations.\n",
      "  warnings.warn(\"Liblinear failed to converge, increase \"\n"
     ]
    }
   ],
   "source": [
    "from sklearn.svm import LinearSVC\n",
    "lsvc = LinearSVC()\n",
    "lsvc.fit(X_train, y_train)\n",
    "\n",
    "y_pred = lsvc.predict(X_test)\n",
    "\n",
    "classification_quality(y_test, y_pred)\n",
    "compilance_print('LinearSVC', y_test, y_pred, 'cls')"
   ]
  },
  {
   "cell_type": "markdown",
   "metadata": {},
   "source": [
    "### DecisionTreeClassifier Model"
   ]
  },
  {
   "cell_type": "code",
   "execution_count": 91,
   "metadata": {},
   "outputs": [
    {
     "name": "stdout",
     "output_type": "stream",
     "text": [
      "Accuracy: 0.992\n",
      "Recall: 0.9864864864864865\n",
      "Precision: 0.9943820224719101\n",
      "F1: 0.9903258261744448\n",
      "Weighted Recall: (0.9943820224719101, 0.9864864864864865, 0.9903258261744448, None)\n"
     ]
    }
   ],
   "source": [
    "from sklearn.tree import DecisionTreeClassifier\n",
    "dtr = DecisionTreeClassifier()\n",
    "dtr.fit(X_train, y_train)\n",
    "\n",
    "y_pred = dtr.predict(X_test)\n",
    "\n",
    "classification_quality(y_test, y_pred)\n",
    "compilance_print('DecisionTreeClassifier', y_test, y_pred, 'cls')"
   ]
  },
  {
   "cell_type": "markdown",
   "metadata": {},
   "source": [
    "### ExtraTreeClassifier Model"
   ]
  },
  {
   "cell_type": "code",
   "execution_count": 92,
   "metadata": {},
   "outputs": [
    {
     "name": "stdout",
     "output_type": "stream",
     "text": [
      "Accuracy: 0.984\n",
      "Recall: 0.9886363636363636\n",
      "Precision: 0.9743589743589743\n",
      "F1: 0.9810949788263763\n",
      "Weighted Recall: (0.9743589743589743, 0.9886363636363636, 0.9810949788263763, None)\n"
     ]
    },
    {
     "data": {
      "image/png": "[encoded data removed]",
      "text/plain": [
       "<Figure size 432x288 with 1 Axes>"
      ]
     },
     "metadata": {
      "needs_background": "light"
     },
     "output_type": "display_data"
    }
   ],
   "source": [
    "from sklearn.tree import plot_tree, ExtraTreeClassifier\n",
    "extr = ExtraTreeClassifier()\n",
    "extr.fit(X_train, y_train)\n",
    "\n",
    "y_pred = extr.predict(X_test)\n",
    "\n",
    "plot_tree(extr)\n",
    "classification_quality(y_test, y_pred)\n",
    "compilance_print('ExtraTreeClassifier', y_test, y_pred, 'cls')"
   ]
  },
  {
   "cell_type": "markdown",
   "metadata": {},
   "source": [
    "### MLPClassifier Model"
   ]
  },
  {
   "cell_type": "code",
   "execution_count": 93,
   "metadata": {},
   "outputs": [
    {
     "name": "stdout",
     "output_type": "stream",
     "text": [
      "Accuracy: 0.952\n",
      "Recall: 0.9659090909090908\n",
      "Precision: 0.9302325581395349\n",
      "F1: 0.9448529411764706\n",
      "Weighted Recall: (0.9302325581395349, 0.9659090909090908, 0.9448529411764706, None)\n"
     ]
    },
    {
     "name": "stderr",
     "output_type": "stream",
     "text": [
      "/Users/alexgiving/opt/anaconda3/lib/python3.8/site-packages/sklearn/neural_network/_multilayer_perceptron.py:614: ConvergenceWarning: Stochastic Optimizer: Maximum iterations (200) reached and the optimization hasn't converged yet.\n",
      "  warnings.warn(\n"
     ]
    }
   ],
   "source": [
    "from sklearn.neural_network import MLPClassifier\n",
    "MLPCl = MLPClassifier()\n",
    "MLPCl.fit(X_train, y_train)\n",
    "\n",
    "y_pred = MLPCl.predict(X_test)\n",
    "\n",
    "classification_quality(y_test, y_pred)\n",
    "compilance_print('MLPClassifier', y_test, y_pred, 'cls')"
   ]
  },
  {
   "cell_type": "markdown",
   "metadata": {},
   "source": [
    "## Matrix\n",
    "That table helps to understand which model is better for my work"
   ]
  },
  {
   "cell_type": "code",
   "execution_count": 94,
   "metadata": {},
   "outputs": [
    {
     "data": {
      "text/html": [
       "<div>\n",
       "<style scoped>\n",
       "    .dataframe tbody tr th:only-of-type {\n",
       "        vertical-align: middle;\n",
       "    }\n",
       "\n",
       "    .dataframe tbody tr th {\n",
       "        vertical-align: top;\n",
       "    }\n",
       "\n",
       "    .dataframe thead th {\n",
       "        text-align: right;\n",
       "    }\n",
       "</style>\n",
       "<table border=\"1\" class=\"dataframe\">\n",
       "  <thead>\n",
       "    <tr style=\"text-align: right;\">\n",
       "      <th></th>\n",
       "      <th>Perceptron</th>\n",
       "      <th>RandomForest</th>\n",
       "      <th>GradientBoosting</th>\n",
       "      <th>MultinomialNB</th>\n",
       "      <th>ComplementNB</th>\n",
       "      <th>GaussianNB</th>\n",
       "      <th>BernoulliNB</th>\n",
       "      <th>SVC</th>\n",
       "      <th>LinearSVC</th>\n",
       "      <th>DecisionTreeClassifier</th>\n",
       "      <th>ExtraTreeClassifier</th>\n",
       "      <th>MLPClassifier</th>\n",
       "    </tr>\n",
       "  </thead>\n",
       "  <tbody>\n",
       "    <tr>\n",
       "      <th>Accuracy</th>\n",
       "      <td>0.72</td>\n",
       "      <td>1.0</td>\n",
       "      <td>1.0</td>\n",
       "      <td>0.68</td>\n",
       "      <td>0.664</td>\n",
       "      <td>0.944</td>\n",
       "      <td>0.888</td>\n",
       "      <td>0.704</td>\n",
       "      <td>0.584</td>\n",
       "      <td>0.992</td>\n",
       "      <td>0.984</td>\n",
       "      <td>0.952</td>\n",
       "    </tr>\n",
       "    <tr>\n",
       "      <th>Balanced Accuracy</th>\n",
       "      <td>0.558354</td>\n",
       "      <td>1.0</td>\n",
       "      <td>1.0</td>\n",
       "      <td>0.686579</td>\n",
       "      <td>0.675215</td>\n",
       "      <td>0.960227</td>\n",
       "      <td>0.920455</td>\n",
       "      <td>0.5</td>\n",
       "      <td>0.704545</td>\n",
       "      <td>0.986486</td>\n",
       "      <td>0.988636</td>\n",
       "      <td>0.965909</td>\n",
       "    </tr>\n",
       "    <tr>\n",
       "      <th>Recall</th>\n",
       "      <td>0.558354</td>\n",
       "      <td>1.0</td>\n",
       "      <td>1.0</td>\n",
       "      <td>0.686579</td>\n",
       "      <td>0.675215</td>\n",
       "      <td>0.960227</td>\n",
       "      <td>0.920455</td>\n",
       "      <td>0.5</td>\n",
       "      <td>0.704545</td>\n",
       "      <td>0.986486</td>\n",
       "      <td>0.988636</td>\n",
       "      <td>0.965909</td>\n",
       "    </tr>\n",
       "    <tr>\n",
       "      <th>Precision</th>\n",
       "      <td>0.665217</td>\n",
       "      <td>1.0</td>\n",
       "      <td>1.0</td>\n",
       "      <td>0.657792</td>\n",
       "      <td>0.647188</td>\n",
       "      <td>0.920455</td>\n",
       "      <td>0.862745</td>\n",
       "      <td>0.352</td>\n",
       "      <td>0.707865</td>\n",
       "      <td>0.994382</td>\n",
       "      <td>0.974359</td>\n",
       "      <td>0.930233</td>\n",
       "    </tr>\n",
       "    <tr>\n",
       "      <th>F1</th>\n",
       "      <td>0.541453</td>\n",
       "      <td>1.0</td>\n",
       "      <td>1.0</td>\n",
       "      <td>0.656026</td>\n",
       "      <td>0.64198</td>\n",
       "      <td>0.93608</td>\n",
       "      <td>0.877245</td>\n",
       "      <td>0.826291</td>\n",
       "      <td>0.583973</td>\n",
       "      <td>0.990326</td>\n",
       "      <td>0.981095</td>\n",
       "      <td>0.944853</td>\n",
       "    </tr>\n",
       "    <tr>\n",
       "      <th>MSE</th>\n",
       "      <td>None</td>\n",
       "      <td>None</td>\n",
       "      <td>None</td>\n",
       "      <td>None</td>\n",
       "      <td>None</td>\n",
       "      <td>None</td>\n",
       "      <td>None</td>\n",
       "      <td>None</td>\n",
       "      <td>None</td>\n",
       "      <td>None</td>\n",
       "      <td>None</td>\n",
       "      <td>None</td>\n",
       "    </tr>\n",
       "    <tr>\n",
       "      <th>RMSE</th>\n",
       "      <td>None</td>\n",
       "      <td>None</td>\n",
       "      <td>None</td>\n",
       "      <td>None</td>\n",
       "      <td>None</td>\n",
       "      <td>None</td>\n",
       "      <td>None</td>\n",
       "      <td>None</td>\n",
       "      <td>None</td>\n",
       "      <td>None</td>\n",
       "      <td>None</td>\n",
       "      <td>None</td>\n",
       "    </tr>\n",
       "    <tr>\n",
       "      <th>MAE</th>\n",
       "      <td>None</td>\n",
       "      <td>None</td>\n",
       "      <td>None</td>\n",
       "      <td>None</td>\n",
       "      <td>None</td>\n",
       "      <td>None</td>\n",
       "      <td>None</td>\n",
       "      <td>None</td>\n",
       "      <td>None</td>\n",
       "      <td>None</td>\n",
       "      <td>None</td>\n",
       "      <td>None</td>\n",
       "    </tr>\n",
       "    <tr>\n",
       "      <th>R2</th>\n",
       "      <td>None</td>\n",
       "      <td>None</td>\n",
       "      <td>None</td>\n",
       "      <td>None</td>\n",
       "      <td>None</td>\n",
       "      <td>None</td>\n",
       "      <td>None</td>\n",
       "      <td>None</td>\n",
       "      <td>None</td>\n",
       "      <td>None</td>\n",
       "      <td>None</td>\n",
       "      <td>None</td>\n",
       "    </tr>\n",
       "  </tbody>\n",
       "</table>\n",
       "</div>"
      ],
      "text/plain": [
       "                  Perceptron RandomForest GradientBoosting MultinomialNB  \\\n",
       "Accuracy                0.72          1.0              1.0          0.68   \n",
       "Balanced Accuracy   0.558354          1.0              1.0      0.686579   \n",
       "Recall              0.558354          1.0              1.0      0.686579   \n",
       "Precision           0.665217          1.0              1.0      0.657792   \n",
       "F1                  0.541453          1.0              1.0      0.656026   \n",
       "MSE                     None         None             None          None   \n",
       "RMSE                    None         None             None          None   \n",
       "MAE                     None         None             None          None   \n",
       "R2                      None         None             None          None   \n",
       "\n",
       "                  ComplementNB GaussianNB BernoulliNB       SVC LinearSVC  \\\n",
       "Accuracy                 0.664      0.944       0.888     0.704     0.584   \n",
       "Balanced Accuracy     0.675215   0.960227    0.920455       0.5  0.704545   \n",
       "Recall                0.675215   0.960227    0.920455       0.5  0.704545   \n",
       "Precision             0.647188   0.920455    0.862745     0.352  0.707865   \n",
       "F1                     0.64198    0.93608    0.877245  0.826291  0.583973   \n",
       "MSE                       None       None        None      None      None   \n",
       "RMSE                      None       None        None      None      None   \n",
       "MAE                       None       None        None      None      None   \n",
       "R2                        None       None        None      None      None   \n",
       "\n",
       "                  DecisionTreeClassifier ExtraTreeClassifier MLPClassifier  \n",
       "Accuracy                           0.992               0.984         0.952  \n",
       "Balanced Accuracy               0.986486            0.988636      0.965909  \n",
       "Recall                          0.986486            0.988636      0.965909  \n",
       "Precision                       0.994382            0.974359      0.930233  \n",
       "F1                              0.990326            0.981095      0.944853  \n",
       "MSE                                 None                None          None  \n",
       "RMSE                                None                None          None  \n",
       "MAE                                 None                None          None  \n",
       "R2                                  None                None          None  "
      ]
     },
     "execution_count": 94,
     "metadata": {},
     "output_type": "execute_result"
    }
   ],
   "source": [
    "pd.DataFrame(index=metrics_list, columns=model_array, data=np.array(pd.DataFrame(output_array).T))"
   ]
  },
  {
   "cell_type": "markdown",
   "metadata": {},
   "source": [
    "# Model result"
   ]
  },
  {
   "cell_type": "markdown",
   "metadata": {},
   "source": [
    "I decided to use model X due to its metrix"
   ]
  },
  {
   "cell_type": "code",
   "execution_count": 95,
   "metadata": {},
   "outputs": [
    {
     "data": {
      "image/png": "[encoded data removed]",
      "text/plain": [
       "<Figure size 432x288 with 2 Axes>"
      ]
     },
     "metadata": {
      "needs_background": "light"
     },
     "output_type": "display_data"
    },
    {
     "data": {
      "image/png": "[encoded data removed]",
      "text/plain": [
       "<Figure size 432x288 with 1 Axes>"
      ]
     },
     "metadata": {
      "needs_background": "light"
     },
     "output_type": "display_data"
    }
   ],
   "source": [
    "my_model = dtr\n",
    "\n",
    "# ROC/AUC graphs\n",
    "graph_show(my_model, X_test, y_test)"
   ]
  },
  {
   "cell_type": "markdown",
   "metadata": {},
   "source": [
    "# Validation"
   ]
  },
  {
   "cell_type": "code",
   "execution_count": 96,
   "metadata": {},
   "outputs": [],
   "source": [
    "# Get predicted results of validation selection\n",
    "# NOTE: Validation selection was not used for training model thus the results are objective\n",
    "y_pred_val = my_model.predict(X_val.iloc[:,1:])"
   ]
  },
  {
   "cell_type": "code",
   "execution_count": 97,
   "metadata": {},
   "outputs": [
    {
     "name": "stdout",
     "output_type": "stream",
     "text": [
      "Студент Воробьев Дмитрий Максимович предположительно сдал(а), в жизни сдал(а)\n",
      "Студент Мещерин Антон Андреевич предположительно сдал(а), в жизни сдал(а)\n",
      "Студент Некравцев Алексей Александрович предположительно сдал(а), в жизни сдал(а)\n",
      "Студент Кашина Елизавета Андреевна предположительно сдал(а), в жизни сдал(а)\n",
      "Студент Лакеев Денис Максимович предположительно не сдал(а), в жизни не сдал(а)\n",
      "There were 0 from 5 error(s)!\n"
     ]
    }
   ],
   "source": [
    "error_counter = 0\n",
    "total = 0\n",
    "for i in range(len(y_pred_val)):\n",
    "    if y_pred_val[i] != y_val.iloc[i] == 1:\n",
    "        error_counter += 1\n",
    "    total += 1\n",
    "    print(f'Студент {name_hash[X_val.iloc[i, 0]][1]} предположительно {\"сдал(а)\" if y_pred_val[i] == 1 else \"не сдал(а)\"}, в жизни {\"сдал(а)\" if y_val.iloc[i] == 1 else \"не сдал(а)\"}')\n",
    "print(f'There were {error_counter} from {total} error(s)!')"
   ]
  }
 ],
 "metadata": {
  "interpreter": {
   "hash": "dbc59c1602769476583de30dcfaf94a717f95996dfb09063277734c10faa726c"
  },
  "kernelspec": {
   "display_name": "Python 3.8.8 64-bit ('base': conda)",
   "language": "python",
   "name": "python3"
  },
  "language_info": {
   "codemirror_mode": {
    "name": "ipython",
    "version": 3
   },
   "file_extension": ".py",
   "mimetype": "text/x-python",
   "name": "python",
   "nbconvert_exporter": "python",
   "pygments_lexer": "ipython3",
   "version": "3.8.8"
  },
  "orig_nbformat": 4
 },
 "nbformat": 4,
 "nbformat_minor": 2
}
