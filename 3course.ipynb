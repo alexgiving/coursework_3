{
 "cells": [
  {
   "cell_type": "markdown",
   "metadata": {},
   "source": [
    "# Import Libs"
   ]
  },
  {
   "cell_type": "code",
   "execution_count": 38,
   "metadata": {},
   "outputs": [],
   "source": [
    "import warnings\n",
    "warnings.filterwarnings(\"ignore\")\n",
    "\n",
    "# Import general functions\n",
    "import numpy as np\n",
    "import pandas as pd\n",
    "import matplotlib.pyplot as plt\n",
    "\n",
    "# Import lib for saving model and encoder\n",
    "import os\n",
    "import pickle\n",
    "\n",
    "# Import preprocessing functions\n",
    "from sklearn.tree               import plot_tree\n",
    "from sklearn.tree               import export_graphviz\n",
    "from sklearn.utils              import shuffle\n",
    "from sklearn.preprocessing      import LabelEncoder\n",
    "from sklearn.model_selection    import train_test_split\n",
    "\n",
    "# Import confusion_matrix and roc_auc_curve\n",
    "from sklearn import metrics\n",
    "\n",
    "# Import metrics functions\n",
    "from sklearn.metrics import f1_score,                           \\\n",
    "                            r2_score,                           \\\n",
    "                            recall_score,                       \\\n",
    "                            accuracy_score,                     \\\n",
    "                            precision_score,                    \\\n",
    "                            mean_squared_error,                 \\\n",
    "                            mean_absolute_error,                \\\n",
    "                            balanced_accuracy_score,            \\\n",
    "                            precision_recall_fscore_support\n",
    "                            "
   ]
  },
  {
   "cell_type": "code",
   "execution_count": 39,
   "metadata": {},
   "outputs": [],
   "source": [
    "build_path = \"build_files/\""
   ]
  },
  {
   "cell_type": "markdown",
   "metadata": {},
   "source": [
    "# Preprocessing"
   ]
  },
  {
   "cell_type": "code",
   "execution_count": 40,
   "metadata": {},
   "outputs": [],
   "source": [
    "# Import dataset\n",
    "data = pd.read_excel('src/dataset_2021 -14.xlsx')\n",
    "data = shuffle(data)\n",
    "\n",
    "# Define minimal mark\n",
    "min_mark = 4"
   ]
  },
  {
   "cell_type": "code",
   "execution_count": 41,
   "metadata": {},
   "outputs": [
    {
     "data": {
      "image/png": "[encoded data removed]",
      "text/plain": [
       "<Figure size 432x288 with 1 Axes>"
      ]
     },
     "metadata": {
      "needs_background": "light"
     },
     "output_type": "display_data"
    }
   ],
   "source": [
    "# Output distribution of scores\n",
    "plt.scatter(\n",
    "    range(len(data['Средний балл'])), \n",
    "    data['Средний балл']\n",
    "    )\n",
    "plt.grid()"
   ]
  },
  {
   "cell_type": "markdown",
   "metadata": {},
   "source": [
    "NOTE: lines in graph illustrate custom increase the number of not pass students.\n",
    "That trick were done for better model training. It helps to increase accuracy metricks of models"
   ]
  },
  {
   "cell_type": "markdown",
   "metadata": {},
   "source": [
    "Lets find out how many students did not pass the exams"
   ]
  },
  {
   "cell_type": "code",
   "execution_count": 42,
   "metadata": {},
   "outputs": [
    {
     "name": "stdout",
     "output_type": "stream",
     "text": [
      "TOTAL: 465\n",
      "Passed: 451\n",
      "Not pas: 14\n"
     ]
    }
   ],
   "source": [
    "def counter_print():\n",
    "    passed = 0\n",
    "    not_passed = 0\n",
    "    res = 0\n",
    "    for mark in data['Средний балл']:\n",
    "        if mark >= min_mark:\n",
    "            passed += 1\n",
    "        elif mark < min_mark:\n",
    "            not_passed += 1\n",
    "        res += 1\n",
    "    print(f\"TOTAL: {res}\\nPassed: {passed}\\nNot pas: {not_passed}\")\n",
    "\n",
    "\n",
    "counter_print()"
   ]
  },
  {
   "cell_type": "code",
   "execution_count": 43,
   "metadata": {},
   "outputs": [],
   "source": [
    "# Replase mark of student by belonging to the class of successfully passed\n",
    "data['Сдал'] = pd.cut(x=data['Средний балл'], bins=[0, min_mark, 10], labels=[0, 1])\n",
    "data.drop(['Средний балл'], axis = 1, inplace= True)\n",
    "\n",
    "# Drop indicators which are not connected with extracurricular activities\n",
    "data.drop([\n",
    "            'Дата прохождения теста',\n",
    "            '15.Образование Ваших родителей?', \n",
    "            '3.С какими оценками Вы закончили школу?',\n",
    "            '4.Ходили ли Вы на подготовительные курсы перед поступлением в вуз?',\n",
    "            '7.Какая у Вас семья?',\n",
    "            '10.Получали ли Вы стипендию? (в течение последнего года)',\n",
    "            '11.Оцените, как Вам нравится учиться?',\n",
    "            '13.На какие средства Вы живете?',\n",
    "            '5.Брали ли Вы академический отпуск?',\n",
    "            '17.Укажите Ваше семейное положение.',\n",
    "            '12.Каковы условия Вашего проживания?'\n",
    "            ],\n",
    "            axis = 1, inplace = True)\n",
    "\n",
    "# That part index all names for privacy reasons\n",
    "name_hash = []\n",
    "for idx, name in enumerate(data['Учащийся']):\n",
    "    name_hash.append((idx, name))\n",
    "    data.loc[idx,'Учащийся'] = idx"
   ]
  },
  {
   "cell_type": "markdown",
   "metadata": {},
   "source": [
    "Dataset with concern questions"
   ]
  },
  {
   "cell_type": "code",
   "execution_count": 81,
   "metadata": {},
   "outputs": [
    {
     "data": {
      "text/html": [
       "<div>\n",
       "<style scoped>\n",
       "    .dataframe tbody tr th:only-of-type {\n",
       "        vertical-align: middle;\n",
       "    }\n",
       "\n",
       "    .dataframe tbody tr th {\n",
       "        vertical-align: top;\n",
       "    }\n",
       "\n",
       "    .dataframe thead th {\n",
       "        text-align: right;\n",
       "    }\n",
       "</style>\n",
       "<table border=\"1\" class=\"dataframe\">\n",
       "  <thead>\n",
       "    <tr style=\"text-align: right;\">\n",
       "      <th></th>\n",
       "      <th>Учащийся</th>\n",
       "      <th>16.Работаете ли Вы?</th>\n",
       "      <th>14.Увлекаетесь ли Вы спортом?</th>\n",
       "      <th>9.Сколько времени Вы уделяете самостоятельной подготовке к занятиям (в среднем)?</th>\n",
       "      <th>8.Как много Вы пропускаете аудиторных занятий?</th>\n",
       "      <th>6.Бывают ли у Вас долги по экзаменам/зачетам?</th>\n",
       "      <th>2.Посещаете ли Вы дополнительные занятия (неважно, в вышке или вне)?</th>\n",
       "      <th>1.Участвуете ли Вы в олимпиадах?</th>\n",
       "      <th>Сдал</th>\n",
       "    </tr>\n",
       "  </thead>\n",
       "  <tbody>\n",
       "    <tr>\n",
       "      <th>56</th>\n",
       "      <td>56</td>\n",
       "      <td>Нет</td>\n",
       "      <td>да, хожу на фитнес или в тренажерный зал</td>\n",
       "      <td>От 1 до 3 часов в день</td>\n",
       "      <td>Не пропускаете</td>\n",
       "      <td>Нет</td>\n",
       "      <td>да, по основным предметам моей специальности</td>\n",
       "      <td>Да</td>\n",
       "      <td>1</td>\n",
       "    </tr>\n",
       "    <tr>\n",
       "      <th>310</th>\n",
       "      <td>310</td>\n",
       "      <td>Да</td>\n",
       "      <td>да, хожу на фитнес или в тренажерный зал;да, з...</td>\n",
       "      <td>От 1 до 3 часов в день;Более 3 часов в день</td>\n",
       "      <td>Среднее количество пропусков</td>\n",
       "      <td>Нет</td>\n",
       "      <td>да, по основным предметам моей специальности</td>\n",
       "      <td>Нет</td>\n",
       "      <td>1</td>\n",
       "    </tr>\n",
       "    <tr>\n",
       "      <th>278</th>\n",
       "      <td>278</td>\n",
       "      <td>Да</td>\n",
       "      <td>да, хожу на фитнес или в тренажерный зал</td>\n",
       "      <td>Все свободное время</td>\n",
       "      <td>Не пропускаете</td>\n",
       "      <td>Нет</td>\n",
       "      <td>да, по основным предметам моей специальности;д...</td>\n",
       "      <td>Нет</td>\n",
       "      <td>1</td>\n",
       "    </tr>\n",
       "    <tr>\n",
       "      <th>464</th>\n",
       "      <td>464</td>\n",
       "      <td>Нет</td>\n",
       "      <td>да, хожу на фитнес или в тренажерный зал</td>\n",
       "      <td>От 1 до 3 часов в день</td>\n",
       "      <td>Среднее количество пропусков</td>\n",
       "      <td>Нет</td>\n",
       "      <td>да, по основным предметам моей специальности</td>\n",
       "      <td>Нет</td>\n",
       "      <td>0</td>\n",
       "    </tr>\n",
       "    <tr>\n",
       "      <th>451</th>\n",
       "      <td>451</td>\n",
       "      <td>Нет</td>\n",
       "      <td>да, хожу на фитнес или в тренажерный зал</td>\n",
       "      <td>От 1 до 3 часов в день</td>\n",
       "      <td>Не пропускаете</td>\n",
       "      <td>Нет</td>\n",
       "      <td>нет</td>\n",
       "      <td>Нет</td>\n",
       "      <td>1</td>\n",
       "    </tr>\n",
       "  </tbody>\n",
       "</table>\n",
       "</div>"
      ],
      "text/plain": [
       "    Учащийся 16.Работаете ли Вы?  \\\n",
       "56        56                 Нет   \n",
       "310      310                  Да   \n",
       "278      278                  Да   \n",
       "464      464                 Нет   \n",
       "451      451                 Нет   \n",
       "\n",
       "                         14.Увлекаетесь ли Вы спортом?  \\\n",
       "56            да, хожу на фитнес или в тренажерный зал   \n",
       "310  да, хожу на фитнес или в тренажерный зал;да, з...   \n",
       "278           да, хожу на фитнес или в тренажерный зал   \n",
       "464           да, хожу на фитнес или в тренажерный зал   \n",
       "451           да, хожу на фитнес или в тренажерный зал   \n",
       "\n",
       "    9.Сколько времени Вы уделяете самостоятельной подготовке к занятиям (в среднем)?  \\\n",
       "56                              От 1 до 3 часов в день                                 \n",
       "310        От 1 до 3 часов в день;Более 3 часов в день                                 \n",
       "278                                Все свободное время                                 \n",
       "464                             От 1 до 3 часов в день                                 \n",
       "451                             От 1 до 3 часов в день                                 \n",
       "\n",
       "    8.Как много Вы пропускаете аудиторных занятий?  \\\n",
       "56                                  Не пропускаете   \n",
       "310                   Среднее количество пропусков   \n",
       "278                                 Не пропускаете   \n",
       "464                   Среднее количество пропусков   \n",
       "451                                 Не пропускаете   \n",
       "\n",
       "    6.Бывают ли у Вас долги по экзаменам/зачетам?  \\\n",
       "56                                            Нет   \n",
       "310                                           Нет   \n",
       "278                                           Нет   \n",
       "464                                           Нет   \n",
       "451                                           Нет   \n",
       "\n",
       "    2.Посещаете ли Вы дополнительные занятия (неважно, в вышке или вне)?  \\\n",
       "56        да, по основным предметам моей специальности                     \n",
       "310       да, по основным предметам моей специальности                     \n",
       "278  да, по основным предметам моей специальности;д...                     \n",
       "464       да, по основным предметам моей специальности                     \n",
       "451                                                нет                     \n",
       "\n",
       "    1.Участвуете ли Вы в олимпиадах? Сдал  \n",
       "56                                Да    1  \n",
       "310                              Нет    1  \n",
       "278                              Нет    1  \n",
       "464                              Нет    0  \n",
       "451                              Нет    1  "
      ]
     },
     "execution_count": 81,
     "metadata": {},
     "output_type": "execute_result"
    }
   ],
   "source": [
    "# Create a copy of dataset to use it in future work\n",
    "debug_data = data\n",
    "\n",
    "data.head()"
   ]
  },
  {
   "cell_type": "markdown",
   "metadata": {},
   "source": [
    "Split our data in 3 parts for train, test and validation"
   ]
  },
  {
   "cell_type": "code",
   "execution_count": 45,
   "metadata": {},
   "outputs": [],
   "source": [
    "def create(path):\n",
    "    if not os.path.exists(path):\n",
    "        os.mkdir(path)"
   ]
  },
  {
   "cell_type": "code",
   "execution_count": 46,
   "metadata": {},
   "outputs": [],
   "source": [
    "def train_test_val_split(test_ratio, validation_ratio):\n",
    "# Replace all text output to index\n",
    "    label_encoder = LabelEncoder()\n",
    "    label_data = data.copy()\n",
    "    s = (label_data.dtypes == 'object')\n",
    "    object_cols = list(s[s].index)\n",
    "    create(build_path)\n",
    "    for col in object_cols:\n",
    "        label_encoder.fit(label_data[col])\n",
    "        label_data[col] = label_encoder.transform(label_data[col])\n",
    "        # Save lable encouder hash to separate files to use them in future if need\n",
    "        file_name = f'{build_path}/{col.replace(\"/\", \"-\")}_class_linear_encoder.npy'\n",
    "        f = open(file_name, 'w+')\n",
    "        np.save(file_name, label_encoder.classes_)\n",
    "        f.close()\n",
    "\n",
    "# Split dataset\n",
    "    # NOTE: To fix split selections use random_state= parameter\n",
    "    size = label_data.shape[0]\n",
    "    validation_ratio = (validation_ratio * size) / (size * (1 - test_ratio))\n",
    "\n",
    "    X_train, X_test, y_train, y_test = train_test_split(label_data.drop('Сдал', axis = 1), \n",
    "                                                        label_data['Сдал'], \n",
    "                                                        test_size=test_ratio)\n",
    "\n",
    "    X_train, X_val, y_train, y_val = train_test_split(X_train,\n",
    "                                                      y_train, \n",
    "                                                      test_size=validation_ratio)\n",
    "\n",
    "    # Output X_train.iloc[:,1:] delete student hash from training and testing selections\n",
    "    return X_train.iloc[:,1:], X_test.iloc[:,1:], X_val, y_train, y_test, y_val"
   ]
  },
  {
   "cell_type": "code",
   "execution_count": 47,
   "metadata": {},
   "outputs": [],
   "source": [
    "X_train, X_test, X_val, y_train, y_test, y_val = train_test_val_split(test_ratio=0.25, validation_ratio=0.05)"
   ]
  },
  {
   "cell_type": "code",
   "execution_count": 48,
   "metadata": {},
   "outputs": [
    {
     "data": {
      "text/html": [
       "<div>\n",
       "<style scoped>\n",
       "    .dataframe tbody tr th:only-of-type {\n",
       "        vertical-align: middle;\n",
       "    }\n",
       "\n",
       "    .dataframe tbody tr th {\n",
       "        vertical-align: top;\n",
       "    }\n",
       "\n",
       "    .dataframe thead th {\n",
       "        text-align: right;\n",
       "    }\n",
       "</style>\n",
       "<table border=\"1\" class=\"dataframe\">\n",
       "  <thead>\n",
       "    <tr style=\"text-align: right;\">\n",
       "      <th></th>\n",
       "      <th>16.Работаете ли Вы?</th>\n",
       "      <th>14.Увлекаетесь ли Вы спортом?</th>\n",
       "      <th>9.Сколько времени Вы уделяете самостоятельной подготовке к занятиям (в среднем)?</th>\n",
       "      <th>8.Как много Вы пропускаете аудиторных занятий?</th>\n",
       "      <th>6.Бывают ли у Вас долги по экзаменам/зачетам?</th>\n",
       "      <th>2.Посещаете ли Вы дополнительные занятия (неважно, в вышке или вне)?</th>\n",
       "      <th>1.Участвуете ли Вы в олимпиадах?</th>\n",
       "    </tr>\n",
       "  </thead>\n",
       "  <tbody>\n",
       "    <tr>\n",
       "      <th>223</th>\n",
       "      <td>1</td>\n",
       "      <td>15</td>\n",
       "      <td>0</td>\n",
       "      <td>0</td>\n",
       "      <td>3</td>\n",
       "      <td>3</td>\n",
       "      <td>0</td>\n",
       "    </tr>\n",
       "    <tr>\n",
       "      <th>143</th>\n",
       "      <td>1</td>\n",
       "      <td>15</td>\n",
       "      <td>2</td>\n",
       "      <td>0</td>\n",
       "      <td>1</td>\n",
       "      <td>3</td>\n",
       "      <td>1</td>\n",
       "    </tr>\n",
       "    <tr>\n",
       "      <th>302</th>\n",
       "      <td>1</td>\n",
       "      <td>15</td>\n",
       "      <td>2</td>\n",
       "      <td>2</td>\n",
       "      <td>1</td>\n",
       "      <td>7</td>\n",
       "      <td>1</td>\n",
       "    </tr>\n",
       "    <tr>\n",
       "      <th>296</th>\n",
       "      <td>1</td>\n",
       "      <td>15</td>\n",
       "      <td>2</td>\n",
       "      <td>0</td>\n",
       "      <td>3</td>\n",
       "      <td>7</td>\n",
       "      <td>1</td>\n",
       "    </tr>\n",
       "    <tr>\n",
       "      <th>443</th>\n",
       "      <td>1</td>\n",
       "      <td>15</td>\n",
       "      <td>2</td>\n",
       "      <td>0</td>\n",
       "      <td>1</td>\n",
       "      <td>7</td>\n",
       "      <td>1</td>\n",
       "    </tr>\n",
       "    <tr>\n",
       "      <th>...</th>\n",
       "      <td>...</td>\n",
       "      <td>...</td>\n",
       "      <td>...</td>\n",
       "      <td>...</td>\n",
       "      <td>...</td>\n",
       "      <td>...</td>\n",
       "      <td>...</td>\n",
       "    </tr>\n",
       "    <tr>\n",
       "      <th>115</th>\n",
       "      <td>1</td>\n",
       "      <td>15</td>\n",
       "      <td>2</td>\n",
       "      <td>0</td>\n",
       "      <td>3</td>\n",
       "      <td>3</td>\n",
       "      <td>1</td>\n",
       "    </tr>\n",
       "    <tr>\n",
       "      <th>13</th>\n",
       "      <td>1</td>\n",
       "      <td>15</td>\n",
       "      <td>2</td>\n",
       "      <td>0</td>\n",
       "      <td>3</td>\n",
       "      <td>7</td>\n",
       "      <td>1</td>\n",
       "    </tr>\n",
       "    <tr>\n",
       "      <th>346</th>\n",
       "      <td>1</td>\n",
       "      <td>21</td>\n",
       "      <td>10</td>\n",
       "      <td>2</td>\n",
       "      <td>3</td>\n",
       "      <td>7</td>\n",
       "      <td>1</td>\n",
       "    </tr>\n",
       "    <tr>\n",
       "      <th>184</th>\n",
       "      <td>1</td>\n",
       "      <td>15</td>\n",
       "      <td>10</td>\n",
       "      <td>0</td>\n",
       "      <td>3</td>\n",
       "      <td>7</td>\n",
       "      <td>1</td>\n",
       "    </tr>\n",
       "    <tr>\n",
       "      <th>342</th>\n",
       "      <td>1</td>\n",
       "      <td>8</td>\n",
       "      <td>2</td>\n",
       "      <td>2</td>\n",
       "      <td>1</td>\n",
       "      <td>7</td>\n",
       "      <td>1</td>\n",
       "    </tr>\n",
       "  </tbody>\n",
       "</table>\n",
       "<p>324 rows × 7 columns</p>\n",
       "</div>"
      ],
      "text/plain": [
       "     16.Работаете ли Вы?  14.Увлекаетесь ли Вы спортом?  \\\n",
       "223                    1                             15   \n",
       "143                    1                             15   \n",
       "302                    1                             15   \n",
       "296                    1                             15   \n",
       "443                    1                             15   \n",
       "..                   ...                            ...   \n",
       "115                    1                             15   \n",
       "13                     1                             15   \n",
       "346                    1                             21   \n",
       "184                    1                             15   \n",
       "342                    1                              8   \n",
       "\n",
       "     9.Сколько времени Вы уделяете самостоятельной подготовке к занятиям (в среднем)?  \\\n",
       "223                                                  0                                  \n",
       "143                                                  2                                  \n",
       "302                                                  2                                  \n",
       "296                                                  2                                  \n",
       "443                                                  2                                  \n",
       "..                                                 ...                                  \n",
       "115                                                  2                                  \n",
       "13                                                   2                                  \n",
       "346                                                 10                                  \n",
       "184                                                 10                                  \n",
       "342                                                  2                                  \n",
       "\n",
       "     8.Как много Вы пропускаете аудиторных занятий?  \\\n",
       "223                                               0   \n",
       "143                                               0   \n",
       "302                                               2   \n",
       "296                                               0   \n",
       "443                                               0   \n",
       "..                                              ...   \n",
       "115                                               0   \n",
       "13                                                0   \n",
       "346                                               2   \n",
       "184                                               0   \n",
       "342                                               2   \n",
       "\n",
       "     6.Бывают ли у Вас долги по экзаменам/зачетам?  \\\n",
       "223                                              3   \n",
       "143                                              1   \n",
       "302                                              1   \n",
       "296                                              3   \n",
       "443                                              1   \n",
       "..                                             ...   \n",
       "115                                              3   \n",
       "13                                               3   \n",
       "346                                              3   \n",
       "184                                              3   \n",
       "342                                              1   \n",
       "\n",
       "     2.Посещаете ли Вы дополнительные занятия (неважно, в вышке или вне)?  \\\n",
       "223                                                  3                      \n",
       "143                                                  3                      \n",
       "302                                                  7                      \n",
       "296                                                  7                      \n",
       "443                                                  7                      \n",
       "..                                                 ...                      \n",
       "115                                                  3                      \n",
       "13                                                   7                      \n",
       "346                                                  7                      \n",
       "184                                                  7                      \n",
       "342                                                  7                      \n",
       "\n",
       "     1.Участвуете ли Вы в олимпиадах?  \n",
       "223                                 0  \n",
       "143                                 1  \n",
       "302                                 1  \n",
       "296                                 1  \n",
       "443                                 1  \n",
       "..                                ...  \n",
       "115                                 1  \n",
       "13                                  1  \n",
       "346                                 1  \n",
       "184                                 1  \n",
       "342                                 1  \n",
       "\n",
       "[324 rows x 7 columns]"
      ]
     },
     "execution_count": 48,
     "metadata": {},
     "output_type": "execute_result"
    }
   ],
   "source": [
    "X_train"
   ]
  },
  {
   "cell_type": "markdown",
   "metadata": {},
   "source": [
    "# Model variants\n",
    "In that part I will choose the classification model which will predict if student pass exams successfully or not"
   ]
  },
  {
   "cell_type": "markdown",
   "metadata": {},
   "source": [
    "## Metrics Functions"
   ]
  },
  {
   "cell_type": "code",
   "execution_count": 49,
   "metadata": {},
   "outputs": [],
   "source": [
    "def classification_quality(y_test, y_pred):\n",
    "    print(\"Accuracy:\",          accuracy_score(y_test, y_pred))\n",
    "    print(\"Recall:\",            recall_score(y_test, y_pred, average='macro'))\n",
    "    print(\"Precision:\",         precision_score(y_test, y_pred, average='macro'))\n",
    "    print(\"F1:\",                f1_score(y_test, y_pred, average='macro', labels=np.unique(y_pred)))\n",
    "    print(\"Weighted Recall:\",   (precision_recall_fscore_support(y_test, y_pred, average='macro')))"
   ]
  },
  {
   "cell_type": "code",
   "execution_count": 50,
   "metadata": {},
   "outputs": [],
   "source": [
    "# For historical reason\n",
    "def regression_quality(y_test, y_pred):\n",
    "    print(\"MSE:\",               mean_squared_error(y_test, y_pred))\n",
    "    print(\"RMSE:\",              mean_squared_error(y_test, y_pred)**(1/2))\n",
    "    print(\"MAE:\",               mean_absolute_error(y_test, y_pred))\n",
    "    print(\"R2:\",                r2_score(y_test, y_pred))"
   ]
  },
  {
   "cell_type": "code",
   "execution_count": 51,
   "metadata": {},
   "outputs": [],
   "source": [
    "metrics_list = ['Accuracy', 'Balanced Accuracy', 'Recall', 'Precision', 'F1', 'MSE', 'RMSE', 'MAE', 'R2']\n",
    "model_array  = []\n",
    "output_array = []\n",
    "\n",
    "def compilance_print(model, y_test, y_pred, model_flag):\n",
    "    temp_array = []\n",
    "    if model_flag == 'cls': # Classifier\n",
    "        temp_array.append(accuracy_score(y_test, y_pred))\n",
    "        temp_array.append(balanced_accuracy_score(y_test, y_pred))\n",
    "        temp_array.append(recall_score(y_test, y_pred, average='macro'))\n",
    "        temp_array.append(precision_score(y_test, y_pred, average='macro'))\n",
    "        temp_array.append(f1_score(y_test, y_pred, average='macro', labels=np.unique(y_pred)))\n",
    "        for _ in range(4): temp_array.append(None) # Set regression metrics as None\n",
    "    \n",
    "    # For historical reason\n",
    "    elif model_flag == 'reg': # Regression\n",
    "        for _ in range(5): temp_array.append(None) # Set classifier metrics as None\n",
    "        temp_array.append(mean_squared_error(y_test, y_pred))\n",
    "        temp_array.append(mean_squared_error(y_test, y_pred)**(1/2))\n",
    "        temp_array.append(mean_absolute_error(y_test, y_pred))\n",
    "        temp_array.append(r2_score(y_test, y_pred))\n",
    "    else: \n",
    "        print('Error')\n",
    "        for _ in metrics_list: temp_array.append(None)\n",
    "\n",
    "    flag = 1\n",
    "    model_indx = -1\n",
    "    for indx, _model in enumerate(model_array):\n",
    "        if _model == model:\n",
    "            model_indx = indx\n",
    "            flag = 0\n",
    "    if flag:\n",
    "        output_array.append([0]* len(metrics_list))\n",
    "        model_indx = len(model_array)\n",
    "        model_array.append(model)\n",
    "    for indx, el in enumerate(temp_array):\n",
    "        output_array[model_indx][indx] = el"
   ]
  },
  {
   "cell_type": "code",
   "execution_count": 52,
   "metadata": {},
   "outputs": [],
   "source": [
    "def graph_show(model, X, y):\n",
    "    metrics.plot_confusion_matrix(model, X, y)\n",
    "    metrics.plot_roc_curve(model, X, y)  \n",
    "    plt.show()"
   ]
  },
  {
   "cell_type": "markdown",
   "metadata": {},
   "source": [
    "## Classifier"
   ]
  },
  {
   "cell_type": "markdown",
   "metadata": {},
   "source": [
    "### Perception Classifier Model"
   ]
  },
  {
   "cell_type": "code",
   "execution_count": 53,
   "metadata": {},
   "outputs": [
    {
     "name": "stdout",
     "output_type": "stream",
     "text": [
      "Accuracy: 0.8888888888888888\n",
      "Recall: 0.7013274336283186\n",
      "Precision: 0.5673076923076923\n",
      "F1: 0.5876931417728382\n",
      "Weighted Recall: (0.5673076923076923, 0.7013274336283186, 0.5876931417728382, None)\n"
     ]
    }
   ],
   "source": [
    "from sklearn.linear_model import Perceptron\n",
    "Perc = Perceptron()\n",
    "Perc.fit(X_train, y_train)\n",
    "\n",
    "y_pred = Perc.predict(X_test)\n",
    "\n",
    "classification_quality(y_test, y_pred)\n",
    "compilance_print('Perceptron', y_test, y_pred, 'cls')"
   ]
  },
  {
   "cell_type": "markdown",
   "metadata": {},
   "source": [
    "### Random Forest Classifier Model"
   ]
  },
  {
   "cell_type": "code",
   "execution_count": 54,
   "metadata": {},
   "outputs": [
    {
     "name": "stdout",
     "output_type": "stream",
     "text": [
      "Accuracy: 0.9829059829059829\n",
      "Recall: 0.75\n",
      "Precision: 0.991304347826087\n",
      "F1: 0.8289473684210527\n",
      "Weighted Recall: (0.991304347826087, 0.75, 0.8289473684210527, None)\n"
     ]
    }
   ],
   "source": [
    "from sklearn.ensemble import RandomForestClassifier\n",
    "RanF = RandomForestClassifier()\n",
    "RanF.fit(X_train, y_train)\n",
    "\n",
    "y_pred = RanF.predict(X_test)\n",
    "\n",
    "classification_quality(y_test, y_pred)\n",
    "compilance_print('RandomForest', y_test, y_pred, 'cls')"
   ]
  },
  {
   "cell_type": "markdown",
   "metadata": {},
   "source": [
    "### DecisionTreeClassifier Model"
   ]
  },
  {
   "cell_type": "code",
   "execution_count": 55,
   "metadata": {},
   "outputs": [
    {
     "name": "stdout",
     "output_type": "stream",
     "text": [
      "Accuracy: 0.9487179487179487\n",
      "Recall: 0.7323008849557522\n",
      "Precision: 0.6576576576576576\n",
      "F1: 0.6866071428571429\n",
      "Weighted Recall: (0.6576576576576576, 0.7323008849557522, 0.6866071428571429, None)\n",
      "zsh:1: command not found: dot\n"
     ]
    },
    {
     "data": {
      "image/png": "[encoded data removed]",
      "text/plain": [
       "<Figure size 1080x1080 with 1 Axes>"
      ]
     },
     "metadata": {
      "needs_background": "light"
     },
     "output_type": "display_data"
    }
   ],
   "source": [
    "from sklearn.tree import DecisionTreeClassifier\n",
    "dtr = DecisionTreeClassifier()\n",
    "dtr.fit(X_train, y_train)\n",
    "\n",
    "y_pred = dtr.predict(X_test)\n",
    "\n",
    "# plot tree\n",
    "plt.figure(figsize=(15,15))\n",
    "plot_tree(dtr, fontsize=10)\n",
    "\n",
    "classification_quality(y_test, y_pred)\n",
    "compilance_print('DecisionTreeClassifier', y_test, y_pred, 'cls')\n",
    "\n",
    "\n",
    "# Creates dot file named tree.dot\n",
    "export_graphviz(\n",
    "            dtr,\n",
    "            out_file =  \"myTreeName.dot\",\n",
    "            feature_names = list(X_train.columns),\n",
    "            class_names = ['Не Сдал', 'Сдал'],\n",
    "            filled = True,\n",
    "            rounded = True)\n",
    "# Convert dot to png\n",
    "!dot -Tpng myTreeName.dot -o outfile1.png"
   ]
  },
  {
   "cell_type": "markdown",
   "metadata": {},
   "source": [
    "# Example how to return real values from hash to encode decision tree"
   ]
  },
  {
   "cell_type": "code",
   "execution_count": 56,
   "metadata": {},
   "outputs": [],
   "source": [
    "def get_dict(input):\n",
    "    df = input.copy()\n",
    "    total_zip = {}\n",
    "    for col in pd.DataFrame(df.iloc[:,1:-1]).columns:\n",
    "        list_answers = list(set(df[col]))\n",
    "        encoder = LabelEncoder()\n",
    "        filename = f\"{build_path}/{str(col).replace('/', '-')}_class_linear_encoder.npy\" \n",
    "        encoder.classes_ = np.load(filename, allow_pickle=True)\n",
    "        list_encouder = encoder.transform(pd.DataFrame(list_answers))\n",
    "        total_zip[col] = dict(zip(list_answers, list_encouder))\n",
    "    return total_zip\n",
    "\n",
    "\n",
    "def get_answer_by_index(_dict, question, index):\n",
    "    return list(_dict.get(question).keys())[list(_dict.get(question).values()).index(index)]"
   ]
  },
  {
   "cell_type": "code",
   "execution_count": 57,
   "metadata": {},
   "outputs": [
    {
     "data": {
      "text/plain": [
       "'Другой ответ'"
      ]
     },
     "execution_count": 57,
     "metadata": {},
     "output_type": "execute_result"
    }
   ],
   "source": [
    "get_answer_by_index(get_dict(debug_data), \"14.Увлекаетесь ли Вы спортом?\", 0)"
   ]
  },
  {
   "cell_type": "code",
   "execution_count": 58,
   "metadata": {},
   "outputs": [
    {
     "data": {
      "text/plain": [
       "0"
      ]
     },
     "execution_count": 58,
     "metadata": {},
     "output_type": "execute_result"
    }
   ],
   "source": [
    "get_dict(debug_data).get(\"14.Увлекаетесь ли Вы спортом?\").get(\"Другой ответ\")"
   ]
  },
  {
   "cell_type": "code",
   "execution_count": 59,
   "metadata": {},
   "outputs": [
    {
     "data": {
      "text/plain": [
       "{'Не пропускаете': 0,\n",
       " 'Среднее количество пропусков': 2,\n",
       " 'Регулярно пропускаете': 1}"
      ]
     },
     "execution_count": 59,
     "metadata": {},
     "output_type": "execute_result"
    }
   ],
   "source": [
    "get_dict(debug_data).get(\"8.Как много Вы пропускаете аудиторных занятий?\")"
   ]
  },
  {
   "cell_type": "code",
   "execution_count": 60,
   "metadata": {},
   "outputs": [
    {
     "data": {
      "text/plain": [
       "{'От 1 до 3 часов в день;7 часов в неделю': 11,\n",
       " 'От 1 до 3 часов в день;Более 3 часов в день': 13,\n",
       " 'От 1 до 3 часов в день;Более 3 часов в день;Готовлюсь только перед занятиями': 14,\n",
       " 'Готовлюсь только перед занятиями': 9,\n",
       " '7 часов в неделю;Готовлюсь только перед занятиями': 1,\n",
       " '7 часов в неделю': 0,\n",
       " 'Все свободное время;7 часов в неделю': 5,\n",
       " 'От 1 до 3 часов в день;Готовлюсь только перед занятиями': 15,\n",
       " 'Все свободное время;Более 3 часов в день': 6,\n",
       " 'От 1 до 3 часов в день;7 часов в неделю;Готовлюсь только перед занятиями': 12,\n",
       " 'Все свободное время;Более 3 часов в день;7 часов в неделю': 7,\n",
       " 'Все свободное время': 4,\n",
       " 'Все свободное время;Готовлюсь только перед занятиями': 8,\n",
       " 'Более 3 часов в день;Готовлюсь только перед занятиями': 3,\n",
       " 'Более 3 часов в день': 2,\n",
       " 'От 1 до 3 часов в день': 10}"
      ]
     },
     "execution_count": 60,
     "metadata": {},
     "output_type": "execute_result"
    }
   ],
   "source": [
    "get_dict(debug_data).get(\"9.Сколько времени Вы уделяете самостоятельной подготовке к занятиям (в среднем)?\")"
   ]
  },
  {
   "cell_type": "markdown",
   "metadata": {},
   "source": [
    "## Matrix\n",
    "That table helps to understand which model is better for my work"
   ]
  },
  {
   "cell_type": "code",
   "execution_count": 61,
   "metadata": {},
   "outputs": [
    {
     "data": {
      "text/html": [
       "<div>\n",
       "<style scoped>\n",
       "    .dataframe tbody tr th:only-of-type {\n",
       "        vertical-align: middle;\n",
       "    }\n",
       "\n",
       "    .dataframe tbody tr th {\n",
       "        vertical-align: top;\n",
       "    }\n",
       "\n",
       "    .dataframe thead th {\n",
       "        text-align: right;\n",
       "    }\n",
       "</style>\n",
       "<table border=\"1\" class=\"dataframe\">\n",
       "  <thead>\n",
       "    <tr style=\"text-align: right;\">\n",
       "      <th></th>\n",
       "      <th>Perceptron</th>\n",
       "      <th>RandomForest</th>\n",
       "      <th>DecisionTreeClassifier</th>\n",
       "    </tr>\n",
       "  </thead>\n",
       "  <tbody>\n",
       "    <tr>\n",
       "      <th>Accuracy</th>\n",
       "      <td>0.888889</td>\n",
       "      <td>0.982906</td>\n",
       "      <td>0.948718</td>\n",
       "    </tr>\n",
       "    <tr>\n",
       "      <th>Balanced Accuracy</th>\n",
       "      <td>0.701327</td>\n",
       "      <td>0.75</td>\n",
       "      <td>0.732301</td>\n",
       "    </tr>\n",
       "    <tr>\n",
       "      <th>Recall</th>\n",
       "      <td>0.701327</td>\n",
       "      <td>0.75</td>\n",
       "      <td>0.732301</td>\n",
       "    </tr>\n",
       "    <tr>\n",
       "      <th>Precision</th>\n",
       "      <td>0.567308</td>\n",
       "      <td>0.991304</td>\n",
       "      <td>0.657658</td>\n",
       "    </tr>\n",
       "    <tr>\n",
       "      <th>F1</th>\n",
       "      <td>0.587693</td>\n",
       "      <td>0.828947</td>\n",
       "      <td>0.686607</td>\n",
       "    </tr>\n",
       "    <tr>\n",
       "      <th>MSE</th>\n",
       "      <td>None</td>\n",
       "      <td>None</td>\n",
       "      <td>None</td>\n",
       "    </tr>\n",
       "    <tr>\n",
       "      <th>RMSE</th>\n",
       "      <td>None</td>\n",
       "      <td>None</td>\n",
       "      <td>None</td>\n",
       "    </tr>\n",
       "    <tr>\n",
       "      <th>MAE</th>\n",
       "      <td>None</td>\n",
       "      <td>None</td>\n",
       "      <td>None</td>\n",
       "    </tr>\n",
       "    <tr>\n",
       "      <th>R2</th>\n",
       "      <td>None</td>\n",
       "      <td>None</td>\n",
       "      <td>None</td>\n",
       "    </tr>\n",
       "  </tbody>\n",
       "</table>\n",
       "</div>"
      ],
      "text/plain": [
       "                  Perceptron RandomForest DecisionTreeClassifier\n",
       "Accuracy            0.888889     0.982906               0.948718\n",
       "Balanced Accuracy   0.701327         0.75               0.732301\n",
       "Recall              0.701327         0.75               0.732301\n",
       "Precision           0.567308     0.991304               0.657658\n",
       "F1                  0.587693     0.828947               0.686607\n",
       "MSE                     None         None                   None\n",
       "RMSE                    None         None                   None\n",
       "MAE                     None         None                   None\n",
       "R2                      None         None                   None"
      ]
     },
     "execution_count": 61,
     "metadata": {},
     "output_type": "execute_result"
    }
   ],
   "source": [
    "pd.DataFrame(index=model_array, columns=metrics_list, data=output_array).T"
   ]
  },
  {
   "cell_type": "markdown",
   "metadata": {},
   "source": [
    "# Model result"
   ]
  },
  {
   "cell_type": "code",
   "execution_count": 62,
   "metadata": {},
   "outputs": [],
   "source": [
    "my_model = dtr  # My own prefix of DecisionTreeClassifier"
   ]
  },
  {
   "cell_type": "markdown",
   "metadata": {},
   "source": [
    "I decided to use DecisionTree Classifier model due to its metrix"
   ]
  },
  {
   "cell_type": "code",
   "execution_count": 63,
   "metadata": {},
   "outputs": [],
   "source": [
    "# save the model to disk\n",
    "filename = f'{build_path}/DecisionTreeClassifier.sav'\n",
    "pickle.dump(my_model, open(filename, 'wb'))\n",
    "\n",
    "# Load an existed model from disk to use it in product\n",
    "#my_model = pickle.load(open(filename, 'rb'))"
   ]
  },
  {
   "cell_type": "code",
   "execution_count": 64,
   "metadata": {},
   "outputs": [
    {
     "data": {
      "image/png": "[encoded data removed]",
      "text/plain": [
       "<Figure size 432x288 with 2 Axes>"
      ]
     },
     "metadata": {
      "needs_background": "light"
     },
     "output_type": "display_data"
    },
    {
     "data": {
      "image/png": "[encoded data removed]",
      "text/plain": [
       "<Figure size 432x288 with 1 Axes>"
      ]
     },
     "metadata": {
      "needs_background": "light"
     },
     "output_type": "display_data"
    }
   ],
   "source": [
    "# Output confusion matrix and ROC/AUC curve\n",
    "graph_show(my_model, X_test, y_test)"
   ]
  },
  {
   "cell_type": "markdown",
   "metadata": {},
   "source": [
    "That metrics shows the accuracy of model. As we can see that models return very few False-Positive and True-Negative errors"
   ]
  },
  {
   "cell_type": "markdown",
   "metadata": {},
   "source": [
    "# Validation"
   ]
  },
  {
   "cell_type": "code",
   "execution_count": 65,
   "metadata": {},
   "outputs": [],
   "source": [
    "# Get predicted results of validation selection\n",
    "# NOTE: Validation selection was not used for training model thus the results are objective\n",
    "# Also X_val.iloc[:,1:] used for hiding from model hash of students names\n",
    "y_pred_val = my_model.predict(X_val.iloc[:,1:])"
   ]
  },
  {
   "cell_type": "markdown",
   "metadata": {},
   "source": [
    "These functions allow to output results of validation"
   ]
  },
  {
   "cell_type": "code",
   "execution_count": 66,
   "metadata": {},
   "outputs": [],
   "source": [
    "def print_with_name():\n",
    "    print(f'Студент {name_hash[X_val.iloc[i, 0]][1]} предположительно {\"сдал(а)\" if y_pred_val[i] == 1 else \"не сдал(а)\"}, в жизни {\"сдал(а)\" if y_val.iloc[i] == 1 else \"не сдал(а)\"}')\n",
    "\n",
    "def print_with_id():\n",
    "    print(f'Студент №{i+1} предположительно {\"сдал(а)\" if y_pred_val[i] == 1 else \"не сдал(а)\"}, в жизни {\"сдал(а)\" if y_val.iloc[i] == 1 else \"не сдал(а)\"}')"
   ]
  },
  {
   "cell_type": "code",
   "execution_count": 67,
   "metadata": {},
   "outputs": [
    {
     "name": "stdout",
     "output_type": "stream",
     "text": [
      "Студент №1 предположительно сдал(а), в жизни сдал(а)\n",
      "Студент №2 предположительно сдал(а), в жизни сдал(а)\n",
      "Студент №3 предположительно сдал(а), в жизни сдал(а)\n",
      "Студент №4 предположительно сдал(а), в жизни сдал(а)\n",
      "Студент №5 предположительно сдал(а), в жизни сдал(а)\n",
      "Студент №6 предположительно сдал(а), в жизни сдал(а)\n",
      "Студент №7 предположительно не сдал(а), в жизни сдал(а)\n",
      "Студент №8 предположительно сдал(а), в жизни сдал(а)\n",
      "Студент №9 предположительно сдал(а), в жизни сдал(а)\n",
      "Студент №10 предположительно сдал(а), в жизни сдал(а)\n",
      "Студент №11 предположительно сдал(а), в жизни сдал(а)\n",
      "Студент №12 предположительно сдал(а), в жизни сдал(а)\n",
      "Студент №13 предположительно сдал(а), в жизни сдал(а)\n",
      "Студент №14 предположительно сдал(а), в жизни сдал(а)\n",
      "Студент №15 предположительно сдал(а), в жизни сдал(а)\n",
      "Студент №16 предположительно не сдал(а), в жизни не сдал(а)\n",
      "Студент №17 предположительно сдал(а), в жизни сдал(а)\n",
      "Студент №18 предположительно не сдал(а), в жизни сдал(а)\n",
      "Студент №19 предположительно сдал(а), в жизни сдал(а)\n",
      "Студент №20 предположительно сдал(а), в жизни сдал(а)\n",
      "Студент №21 предположительно сдал(а), в жизни сдал(а)\n",
      "Студент №22 предположительно сдал(а), в жизни сдал(а)\n",
      "Студент №23 предположительно сдал(а), в жизни сдал(а)\n",
      "Студент №24 предположительно сдал(а), в жизни сдал(а)\n",
      "There were 2 from 24 error(s)!\n"
     ]
    }
   ],
   "source": [
    "error_counter = 0\n",
    "total = 0\n",
    "for i in range(len(y_pred_val)):\n",
    "    if y_pred_val[i] != y_val.iloc[i] == 1:\n",
    "        error_counter += 1\n",
    "    total += 1\n",
    "    print_with_id()\n",
    "print(f'There were {error_counter} from {total} error(s)!')"
   ]
  },
  {
   "cell_type": "markdown",
   "metadata": {},
   "source": [
    "# Validation with my answers"
   ]
  },
  {
   "cell_type": "code",
   "execution_count": 68,
   "metadata": {},
   "outputs": [
    {
     "name": "stdout",
     "output_type": "stream",
     "text": [
      "Алексей предположительно сдал(а) экзамен\n"
     ]
    }
   ],
   "source": [
    "my_questions = [\"Учащийся\", \"16.Работаете ли Вы?\", \"14.Увлекаетесь ли Вы спортом?\", \n",
    "                \"9.Сколько времени Вы уделяете самостоятельной подготовке к занятиям (в среднем)?\",\n",
    "                \"8.Как много Вы пропускаете аудиторных занятий?\", \"6.Бывают ли у Вас долги по экзаменам/зачетам?\", \n",
    "                \"2.Посещаете ли Вы дополнительные занятия (неважно, в вышке или вне)?\", \"1.Участвуете ли Вы в олимпиадах?\" ]\n",
    "\n",
    "\n",
    "my_answers =    [\n",
    "                \"Алексей\",                                  # Учащийся\n",
    "                \"Да\",                                       # 16.Работаете ли Вы?\n",
    "                \"да, хожу на фитнес или в тренажерный зал\", # 14.Увлекаетесь ли Вы спортом?\n",
    "                \"Готовлюсь только перед занятиями\",         # 9.Сколько времени Вы уделяете самостоятельной подготовке к занятиям (в среднем)?\n",
    "                \"Не пропускаете\",                           # 8.Как много Вы пропускаете аудиторных занятий?\n",
    "                \"Нет\",                                      # 6.Бывают ли у Вас долги по экзаменам/зачетам?\n",
    "                \"нет\",                                      # 2.Посещаете ли Вы дополнительные занятия (неважно, в вышке или вне)?\n",
    "                \"Нет\",                                      # 1.Участвуете ли Вы в олимпиадах?\n",
    "                ]\n",
    "\n",
    "\n",
    "df = pd.DataFrame(data=[my_answers], columns=my_questions)\n",
    "\n",
    "for col in pd.DataFrame(df.iloc[:,1:]).columns:             # Iterate by df without name\n",
    "    encoder = LabelEncoder()\n",
    "    filename = f\"{build_path}/{str(col).replace('/', '-')}_class_linear_encoder.npy\" \n",
    "    encoder.classes_ = np.load(filename, allow_pickle=True) # Import encouder fit data\n",
    "    df[col] = encoder.transform(df[col])\n",
    "\n",
    "\n",
    "y_pred_my = my_model.predict(df.iloc[:,1:])                 # Without name\n",
    "print(f'{df.iloc[0,0]} предположительно {\"сдал(а)\" if y_pred_my == 1 else \"не сдал(a)\"} экзамен')"
   ]
  },
  {
   "cell_type": "markdown",
   "metadata": {},
   "source": [
    "# Correlation matrix"
   ]
  },
  {
   "cell_type": "code",
   "execution_count": 69,
   "metadata": {},
   "outputs": [],
   "source": [
    "def exists(path):\n",
    "    try:\n",
    "        os.stat(path)\n",
    "    except OSError:\n",
    "        return False\n",
    "    return True"
   ]
  },
  {
   "cell_type": "code",
   "execution_count": 70,
   "metadata": {},
   "outputs": [
    {
     "data": {
      "text/html": [
       "<style type=\"text/css\">\n",
       "#T_e3399_row0_col0, #T_e3399_row1_col1, #T_e3399_row2_col2, #T_e3399_row3_col3, #T_e3399_row4_col4, #T_e3399_row5_col5, #T_e3399_row6_col6, #T_e3399_row7_col7 {\n",
       "  background-color: #b40426;\n",
       "  color: #f1f1f1;\n",
       "}\n",
       "#T_e3399_row0_col1, #T_e3399_row1_col0 {\n",
       "  background-color: #a9c6fd;\n",
       "  color: #000000;\n",
       "}\n",
       "#T_e3399_row0_col2, #T_e3399_row2_col0, #T_e3399_row3_col6, #T_e3399_row5_col7, #T_e3399_row6_col3, #T_e3399_row7_col5 {\n",
       "  background-color: #90b2fe;\n",
       "  color: #000000;\n",
       "}\n",
       "#T_e3399_row0_col3, #T_e3399_row3_col0 {\n",
       "  background-color: #5f7fe8;\n",
       "  color: #f1f1f1;\n",
       "}\n",
       "#T_e3399_row0_col4, #T_e3399_row1_col7, #T_e3399_row4_col0, #T_e3399_row7_col1 {\n",
       "  background-color: #94b6ff;\n",
       "  color: #000000;\n",
       "}\n",
       "#T_e3399_row0_col5, #T_e3399_row0_col6, #T_e3399_row5_col0, #T_e3399_row6_col0 {\n",
       "  background-color: #82a6fb;\n",
       "  color: #f1f1f1;\n",
       "}\n",
       "#T_e3399_row0_col7, #T_e3399_row7_col0 {\n",
       "  background-color: #799cf8;\n",
       "  color: #f1f1f1;\n",
       "}\n",
       "#T_e3399_row1_col2, #T_e3399_row2_col1, #T_e3399_row2_col6, #T_e3399_row5_col6, #T_e3399_row6_col2, #T_e3399_row6_col5 {\n",
       "  background-color: #8caffe;\n",
       "  color: #000000;\n",
       "}\n",
       "#T_e3399_row1_col3, #T_e3399_row3_col1 {\n",
       "  background-color: #89acfd;\n",
       "  color: #000000;\n",
       "}\n",
       "#T_e3399_row1_col4, #T_e3399_row1_col6, #T_e3399_row4_col1, #T_e3399_row6_col1 {\n",
       "  background-color: #8fb1fe;\n",
       "  color: #000000;\n",
       "}\n",
       "#T_e3399_row1_col5, #T_e3399_row5_col1 {\n",
       "  background-color: #97b8ff;\n",
       "  color: #000000;\n",
       "}\n",
       "#T_e3399_row2_col3, #T_e3399_row3_col2 {\n",
       "  background-color: #aec9fc;\n",
       "  color: #000000;\n",
       "}\n",
       "#T_e3399_row2_col4, #T_e3399_row3_col5, #T_e3399_row4_col2, #T_e3399_row5_col3 {\n",
       "  background-color: #86a9fc;\n",
       "  color: #f1f1f1;\n",
       "}\n",
       "#T_e3399_row2_col5, #T_e3399_row5_col2 {\n",
       "  background-color: #8badfd;\n",
       "  color: #000000;\n",
       "}\n",
       "#T_e3399_row2_col7, #T_e3399_row7_col2 {\n",
       "  background-color: #6687ed;\n",
       "  color: #f1f1f1;\n",
       "}\n",
       "#T_e3399_row3_col4, #T_e3399_row4_col3 {\n",
       "  background-color: #3b4cc0;\n",
       "  color: #f1f1f1;\n",
       "}\n",
       "#T_e3399_row3_col7, #T_e3399_row7_col3 {\n",
       "  background-color: #455cce;\n",
       "  color: #f1f1f1;\n",
       "}\n",
       "#T_e3399_row4_col5, #T_e3399_row4_col6, #T_e3399_row5_col4, #T_e3399_row6_col4 {\n",
       "  background-color: #92b4fe;\n",
       "  color: #000000;\n",
       "}\n",
       "#T_e3399_row4_col7, #T_e3399_row7_col4 {\n",
       "  background-color: #b1cbfc;\n",
       "  color: #000000;\n",
       "}\n",
       "#T_e3399_row6_col7, #T_e3399_row7_col6 {\n",
       "  background-color: #96b7ff;\n",
       "  color: #000000;\n",
       "}\n",
       "</style>\n",
       "<table id=\"T_e3399\">\n",
       "  <thead>\n",
       "    <tr>\n",
       "      <th class=\"blank level0\" >&nbsp;</th>\n",
       "      <th id=\"T_e3399_level0_col0\" class=\"col_heading level0 col0\" >16.Работаете ли Вы?</th>\n",
       "      <th id=\"T_e3399_level0_col1\" class=\"col_heading level0 col1\" >14.Увлекаетесь ли Вы спортом?</th>\n",
       "      <th id=\"T_e3399_level0_col2\" class=\"col_heading level0 col2\" >9.Сколько времени Вы уделяете самостоятельной подготовке к занятиям (в среднем)?</th>\n",
       "      <th id=\"T_e3399_level0_col3\" class=\"col_heading level0 col3\" >8.Как много Вы пропускаете аудиторных занятий?</th>\n",
       "      <th id=\"T_e3399_level0_col4\" class=\"col_heading level0 col4\" >6.Бывают ли у Вас долги по экзаменам/зачетам?</th>\n",
       "      <th id=\"T_e3399_level0_col5\" class=\"col_heading level0 col5\" >2.Посещаете ли Вы дополнительные занятия (неважно, в вышке или вне)?</th>\n",
       "      <th id=\"T_e3399_level0_col6\" class=\"col_heading level0 col6\" >1.Участвуете ли Вы в олимпиадах?</th>\n",
       "      <th id=\"T_e3399_level0_col7\" class=\"col_heading level0 col7\" >Сдал</th>\n",
       "    </tr>\n",
       "  </thead>\n",
       "  <tbody>\n",
       "    <tr>\n",
       "      <th id=\"T_e3399_level0_row0\" class=\"row_heading level0 row0\" >16.Работаете ли Вы?</th>\n",
       "      <td id=\"T_e3399_row0_col0\" class=\"data row0 col0\" >1.000000</td>\n",
       "      <td id=\"T_e3399_row0_col1\" class=\"data row0 col1\" >0.111152</td>\n",
       "      <td id=\"T_e3399_row0_col2\" class=\"data row0 col2\" >0.016974</td>\n",
       "      <td id=\"T_e3399_row0_col3\" class=\"data row0 col3\" >-0.166606</td>\n",
       "      <td id=\"T_e3399_row0_col4\" class=\"data row0 col4\" >0.036611</td>\n",
       "      <td id=\"T_e3399_row0_col5\" class=\"data row0 col5\" >-0.032890</td>\n",
       "      <td id=\"T_e3399_row0_col6\" class=\"data row0 col6\" >-0.034068</td>\n",
       "      <td id=\"T_e3399_row0_col7\" class=\"data row0 col7\" >-0.068922</td>\n",
       "    </tr>\n",
       "    <tr>\n",
       "      <th id=\"T_e3399_level0_row1\" class=\"row_heading level0 row1\" >14.Увлекаетесь ли Вы спортом?</th>\n",
       "      <td id=\"T_e3399_row1_col0\" class=\"data row1 col0\" >0.111152</td>\n",
       "      <td id=\"T_e3399_row1_col1\" class=\"data row1 col1\" >1.000000</td>\n",
       "      <td id=\"T_e3399_row1_col2\" class=\"data row1 col2\" >0.005902</td>\n",
       "      <td id=\"T_e3399_row1_col3\" class=\"data row1 col3\" >-0.007219</td>\n",
       "      <td id=\"T_e3399_row1_col4\" class=\"data row1 col4\" >0.015766</td>\n",
       "      <td id=\"T_e3399_row1_col5\" class=\"data row1 col5\" >0.042920</td>\n",
       "      <td id=\"T_e3399_row1_col6\" class=\"data row1 col6\" >0.016235</td>\n",
       "      <td id=\"T_e3399_row1_col7\" class=\"data row1 col7\" >0.033776</td>\n",
       "    </tr>\n",
       "    <tr>\n",
       "      <th id=\"T_e3399_level0_row2\" class=\"row_heading level0 row2\" >9.Сколько времени Вы уделяете самостоятельной подготовке к занятиям (в среднем)?</th>\n",
       "      <td id=\"T_e3399_row2_col0\" class=\"data row2 col0\" >0.016974</td>\n",
       "      <td id=\"T_e3399_row2_col1\" class=\"data row2 col1\" >0.005902</td>\n",
       "      <td id=\"T_e3399_row2_col2\" class=\"data row2 col2\" >1.000000</td>\n",
       "      <td id=\"T_e3399_row2_col3\" class=\"data row2 col3\" >0.133477</td>\n",
       "      <td id=\"T_e3399_row2_col4\" class=\"data row2 col4\" >-0.016581</td>\n",
       "      <td id=\"T_e3399_row2_col5\" class=\"data row2 col5\" >-0.002256</td>\n",
       "      <td id=\"T_e3399_row2_col6\" class=\"data row2 col6\" >0.005431</td>\n",
       "      <td id=\"T_e3399_row2_col7\" class=\"data row2 col7\" >-0.142748</td>\n",
       "    </tr>\n",
       "    <tr>\n",
       "      <th id=\"T_e3399_level0_row3\" class=\"row_heading level0 row3\" >8.Как много Вы пропускаете аудиторных занятий?</th>\n",
       "      <td id=\"T_e3399_row3_col0\" class=\"data row3 col0\" >-0.166606</td>\n",
       "      <td id=\"T_e3399_row3_col1\" class=\"data row3 col1\" >-0.007219</td>\n",
       "      <td id=\"T_e3399_row3_col2\" class=\"data row3 col2\" >0.133477</td>\n",
       "      <td id=\"T_e3399_row3_col3\" class=\"data row3 col3\" >1.000000</td>\n",
       "      <td id=\"T_e3399_row3_col4\" class=\"data row3 col4\" >-0.324529</td>\n",
       "      <td id=\"T_e3399_row3_col5\" class=\"data row3 col5\" >-0.014786</td>\n",
       "      <td id=\"T_e3399_row3_col6\" class=\"data row3 col6\" >0.019702</td>\n",
       "      <td id=\"T_e3399_row3_col7\" class=\"data row3 col7\" >-0.274334</td>\n",
       "    </tr>\n",
       "    <tr>\n",
       "      <th id=\"T_e3399_level0_row4\" class=\"row_heading level0 row4\" >6.Бывают ли у Вас долги по экзаменам/зачетам?</th>\n",
       "      <td id=\"T_e3399_row4_col0\" class=\"data row4 col0\" >0.036611</td>\n",
       "      <td id=\"T_e3399_row4_col1\" class=\"data row4 col1\" >0.015766</td>\n",
       "      <td id=\"T_e3399_row4_col2\" class=\"data row4 col2\" >-0.016581</td>\n",
       "      <td id=\"T_e3399_row4_col3\" class=\"data row4 col3\" >-0.324529</td>\n",
       "      <td id=\"T_e3399_row4_col4\" class=\"data row4 col4\" >1.000000</td>\n",
       "      <td id=\"T_e3399_row4_col5\" class=\"data row4 col5\" >0.025066</td>\n",
       "      <td id=\"T_e3399_row4_col6\" class=\"data row4 col6\" >0.026283</td>\n",
       "      <td id=\"T_e3399_row4_col7\" class=\"data row4 col7\" >0.143549</td>\n",
       "    </tr>\n",
       "    <tr>\n",
       "      <th id=\"T_e3399_level0_row5\" class=\"row_heading level0 row5\" >2.Посещаете ли Вы дополнительные занятия (неважно, в вышке или вне)?</th>\n",
       "      <td id=\"T_e3399_row5_col0\" class=\"data row5 col0\" >-0.032890</td>\n",
       "      <td id=\"T_e3399_row5_col1\" class=\"data row5 col1\" >0.042920</td>\n",
       "      <td id=\"T_e3399_row5_col2\" class=\"data row5 col2\" >-0.002256</td>\n",
       "      <td id=\"T_e3399_row5_col3\" class=\"data row5 col3\" >-0.014786</td>\n",
       "      <td id=\"T_e3399_row5_col4\" class=\"data row5 col4\" >0.025066</td>\n",
       "      <td id=\"T_e3399_row5_col5\" class=\"data row5 col5\" >1.000000</td>\n",
       "      <td id=\"T_e3399_row5_col6\" class=\"data row5 col6\" >0.001888</td>\n",
       "      <td id=\"T_e3399_row5_col7\" class=\"data row5 col7\" >0.021551</td>\n",
       "    </tr>\n",
       "    <tr>\n",
       "      <th id=\"T_e3399_level0_row6\" class=\"row_heading level0 row6\" >1.Участвуете ли Вы в олимпиадах?</th>\n",
       "      <td id=\"T_e3399_row6_col0\" class=\"data row6 col0\" >-0.034068</td>\n",
       "      <td id=\"T_e3399_row6_col1\" class=\"data row6 col1\" >0.016235</td>\n",
       "      <td id=\"T_e3399_row6_col2\" class=\"data row6 col2\" >0.005431</td>\n",
       "      <td id=\"T_e3399_row6_col3\" class=\"data row6 col3\" >0.019702</td>\n",
       "      <td id=\"T_e3399_row6_col4\" class=\"data row6 col4\" >0.026283</td>\n",
       "      <td id=\"T_e3399_row6_col5\" class=\"data row6 col5\" >0.001888</td>\n",
       "      <td id=\"T_e3399_row6_col6\" class=\"data row6 col6\" >1.000000</td>\n",
       "      <td id=\"T_e3399_row6_col7\" class=\"data row6 col7\" >0.038414</td>\n",
       "    </tr>\n",
       "    <tr>\n",
       "      <th id=\"T_e3399_level0_row7\" class=\"row_heading level0 row7\" >Сдал</th>\n",
       "      <td id=\"T_e3399_row7_col0\" class=\"data row7 col0\" >-0.068922</td>\n",
       "      <td id=\"T_e3399_row7_col1\" class=\"data row7 col1\" >0.033776</td>\n",
       "      <td id=\"T_e3399_row7_col2\" class=\"data row7 col2\" >-0.142748</td>\n",
       "      <td id=\"T_e3399_row7_col3\" class=\"data row7 col3\" >-0.274334</td>\n",
       "      <td id=\"T_e3399_row7_col4\" class=\"data row7 col4\" >0.143549</td>\n",
       "      <td id=\"T_e3399_row7_col5\" class=\"data row7 col5\" >0.021551</td>\n",
       "      <td id=\"T_e3399_row7_col6\" class=\"data row7 col6\" >0.038414</td>\n",
       "      <td id=\"T_e3399_row7_col7\" class=\"data row7 col7\" >1.000000</td>\n",
       "    </tr>\n",
       "  </tbody>\n",
       "</table>\n"
      ],
      "text/plain": [
       "<pandas.io.formats.style.Styler at 0x176ba3ca0>"
      ]
     },
     "execution_count": 70,
     "metadata": {},
     "output_type": "execute_result"
    }
   ],
   "source": [
    "# Replace all text output to index\n",
    "# Used for outputing correlation matrix\n",
    "label_encoder = LabelEncoder()\n",
    "label_data = data.iloc[:,1:].copy()\n",
    "\n",
    "for col in label_data.columns:\n",
    "    filename = f\"{build_path}/{col.replace('/', '-')}_class_linear_encoder.npy\"\n",
    "    if exists(filename):\n",
    "        label_encoder.classes_ = np.load(filename, allow_pickle=True)\n",
    "    else: \n",
    "        label_encoder.fit(data[col])\n",
    "#   always:\n",
    "    label_data[col] = label_encoder.transform(label_data[col])\n",
    "\n",
    "\n",
    "# Creating correlation matrix\n",
    "rs = np.random.RandomState(0)\n",
    "corr = label_data.corr()\n",
    "corr.style.background_gradient(cmap='coolwarm', axis=None)"
   ]
  },
  {
   "cell_type": "markdown",
   "metadata": {},
   "source": [
    "# Example of product usage"
   ]
  },
  {
   "cell_type": "code",
   "execution_count": 71,
   "metadata": {},
   "outputs": [
    {
     "ename": "ValueError",
     "evalue": "y contains previously unseen labels: ''",
     "output_type": "error",
     "traceback": [
      "\u001b[0;31m---------------------------------------------------------------------------\u001b[0m",
      "\u001b[0;31mKeyError\u001b[0m                                  Traceback (most recent call last)",
      "File \u001b[0;32m~/Library/Python/3.8/lib/python/site-packages/sklearn/utils/_encode.py:182\u001b[0m, in \u001b[0;36m_encode\u001b[0;34m(values, uniques, check_unknown)\u001b[0m\n\u001b[1;32m    <a href='file:///Users/alexgiving/Library/Python/3.8/lib/python/site-packages/sklearn/utils/_encode.py?line=180'>181</a>\u001b[0m \u001b[39mtry\u001b[39;00m:\n\u001b[0;32m--> <a href='file:///Users/alexgiving/Library/Python/3.8/lib/python/site-packages/sklearn/utils/_encode.py?line=181'>182</a>\u001b[0m     \u001b[39mreturn\u001b[39;00m _map_to_integer(values, uniques)\n\u001b[1;32m    <a href='file:///Users/alexgiving/Library/Python/3.8/lib/python/site-packages/sklearn/utils/_encode.py?line=182'>183</a>\u001b[0m \u001b[39mexcept\u001b[39;00m \u001b[39mKeyError\u001b[39;00m \u001b[39mas\u001b[39;00m e:\n",
      "File \u001b[0;32m~/Library/Python/3.8/lib/python/site-packages/sklearn/utils/_encode.py:126\u001b[0m, in \u001b[0;36m_map_to_integer\u001b[0;34m(values, uniques)\u001b[0m\n\u001b[1;32m    <a href='file:///Users/alexgiving/Library/Python/3.8/lib/python/site-packages/sklearn/utils/_encode.py?line=124'>125</a>\u001b[0m table \u001b[39m=\u001b[39m _nandict({val: i \u001b[39mfor\u001b[39;00m i, val \u001b[39min\u001b[39;00m \u001b[39menumerate\u001b[39m(uniques)})\n\u001b[0;32m--> <a href='file:///Users/alexgiving/Library/Python/3.8/lib/python/site-packages/sklearn/utils/_encode.py?line=125'>126</a>\u001b[0m \u001b[39mreturn\u001b[39;00m np\u001b[39m.\u001b[39marray([table[v] \u001b[39mfor\u001b[39;00m v \u001b[39min\u001b[39;00m values])\n",
      "File \u001b[0;32m~/Library/Python/3.8/lib/python/site-packages/sklearn/utils/_encode.py:126\u001b[0m, in \u001b[0;36m<listcomp>\u001b[0;34m(.0)\u001b[0m\n\u001b[1;32m    <a href='file:///Users/alexgiving/Library/Python/3.8/lib/python/site-packages/sklearn/utils/_encode.py?line=124'>125</a>\u001b[0m table \u001b[39m=\u001b[39m _nandict({val: i \u001b[39mfor\u001b[39;00m i, val \u001b[39min\u001b[39;00m \u001b[39menumerate\u001b[39m(uniques)})\n\u001b[0;32m--> <a href='file:///Users/alexgiving/Library/Python/3.8/lib/python/site-packages/sklearn/utils/_encode.py?line=125'>126</a>\u001b[0m \u001b[39mreturn\u001b[39;00m np\u001b[39m.\u001b[39marray([table[v] \u001b[39mfor\u001b[39;00m v \u001b[39min\u001b[39;00m values])\n",
      "File \u001b[0;32m~/Library/Python/3.8/lib/python/site-packages/sklearn/utils/_encode.py:120\u001b[0m, in \u001b[0;36m_nandict.__missing__\u001b[0;34m(self, key)\u001b[0m\n\u001b[1;32m    <a href='file:///Users/alexgiving/Library/Python/3.8/lib/python/site-packages/sklearn/utils/_encode.py?line=118'>119</a>\u001b[0m     \u001b[39mreturn\u001b[39;00m \u001b[39mself\u001b[39m\u001b[39m.\u001b[39mnan_value\n\u001b[0;32m--> <a href='file:///Users/alexgiving/Library/Python/3.8/lib/python/site-packages/sklearn/utils/_encode.py?line=119'>120</a>\u001b[0m \u001b[39mraise\u001b[39;00m \u001b[39mKeyError\u001b[39;00m(key)\n",
      "\u001b[0;31mKeyError\u001b[0m: ''",
      "\nDuring handling of the above exception, another exception occurred:\n",
      "\u001b[0;31mValueError\u001b[0m                                Traceback (most recent call last)",
      "\u001b[1;32m/Users/alexgiving/Documents/PythonProjects/coursework_3/3course.ipynb Cell 56'\u001b[0m in \u001b[0;36m<cell line: 20>\u001b[0;34m()\u001b[0m\n\u001b[1;32m     <a href='vscode-notebook-cell:/Users/alexgiving/Documents/PythonProjects/coursework_3/3course.ipynb#ch0000055?line=21'>22</a>\u001b[0m     filename \u001b[39m=\u001b[39m \u001b[39mf\u001b[39m\u001b[39m\"\u001b[39m\u001b[39m{\u001b[39;00mbuild_path\u001b[39m}\u001b[39;00m\u001b[39m/\u001b[39m\u001b[39m{\u001b[39;00m\u001b[39mstr\u001b[39m(col)\u001b[39m.\u001b[39mreplace(\u001b[39m'\u001b[39m\u001b[39m/\u001b[39m\u001b[39m'\u001b[39m, \u001b[39m'\u001b[39m\u001b[39m-\u001b[39m\u001b[39m'\u001b[39m)\u001b[39m}\u001b[39;00m\u001b[39m_class_linear_encoder.npy\u001b[39m\u001b[39m\"\u001b[39m \n\u001b[1;32m     <a href='vscode-notebook-cell:/Users/alexgiving/Documents/PythonProjects/coursework_3/3course.ipynb#ch0000055?line=22'>23</a>\u001b[0m     encoder\u001b[39m.\u001b[39mclasses_ \u001b[39m=\u001b[39m np\u001b[39m.\u001b[39mload(filename, allow_pickle\u001b[39m=\u001b[39m\u001b[39mTrue\u001b[39;00m) \u001b[39m# Import encouder fit data\u001b[39;00m\n\u001b[0;32m---> <a href='vscode-notebook-cell:/Users/alexgiving/Documents/PythonProjects/coursework_3/3course.ipynb#ch0000055?line=23'>24</a>\u001b[0m     df[col] \u001b[39m=\u001b[39m encoder\u001b[39m.\u001b[39;49mtransform(df[col])\n\u001b[1;32m     <a href='vscode-notebook-cell:/Users/alexgiving/Documents/PythonProjects/coursework_3/3course.ipynb#ch0000055?line=26'>27</a>\u001b[0m y_pred_my \u001b[39m=\u001b[39m my_model\u001b[39m.\u001b[39mpredict(df\u001b[39m.\u001b[39miloc[:,\u001b[39m1\u001b[39m:])                 \u001b[39m# Without name\u001b[39;00m\n\u001b[1;32m     <a href='vscode-notebook-cell:/Users/alexgiving/Documents/PythonProjects/coursework_3/3course.ipynb#ch0000055?line=27'>28</a>\u001b[0m \u001b[39mprint\u001b[39m(\u001b[39mf\u001b[39m\u001b[39m'\u001b[39m\u001b[39m{\u001b[39;00mdf\u001b[39m.\u001b[39miloc[\u001b[39m0\u001b[39m,\u001b[39m0\u001b[39m]\u001b[39m}\u001b[39;00m\u001b[39m предположительно \u001b[39m\u001b[39m{\u001b[39;00m\u001b[39m\"\u001b[39m\u001b[39mсдал(а)\u001b[39m\u001b[39m\"\u001b[39m \u001b[39mif\u001b[39;00m y_pred_my \u001b[39m==\u001b[39m \u001b[39m1\u001b[39m \u001b[39melse\u001b[39;00m \u001b[39m\"\u001b[39m\u001b[39mне сдал(а)\u001b[39m\u001b[39m\"\u001b[39m\u001b[39m}\u001b[39;00m\u001b[39m экзамен\u001b[39m\u001b[39m'\u001b[39m)\n",
      "File \u001b[0;32m~/Library/Python/3.8/lib/python/site-packages/sklearn/preprocessing/_label.py:138\u001b[0m, in \u001b[0;36mLabelEncoder.transform\u001b[0;34m(self, y)\u001b[0m\n\u001b[1;32m    <a href='file:///Users/alexgiving/Library/Python/3.8/lib/python/site-packages/sklearn/preprocessing/_label.py?line=134'>135</a>\u001b[0m \u001b[39mif\u001b[39;00m _num_samples(y) \u001b[39m==\u001b[39m \u001b[39m0\u001b[39m:\n\u001b[1;32m    <a href='file:///Users/alexgiving/Library/Python/3.8/lib/python/site-packages/sklearn/preprocessing/_label.py?line=135'>136</a>\u001b[0m     \u001b[39mreturn\u001b[39;00m np\u001b[39m.\u001b[39marray([])\n\u001b[0;32m--> <a href='file:///Users/alexgiving/Library/Python/3.8/lib/python/site-packages/sklearn/preprocessing/_label.py?line=137'>138</a>\u001b[0m \u001b[39mreturn\u001b[39;00m _encode(y, uniques\u001b[39m=\u001b[39;49m\u001b[39mself\u001b[39;49m\u001b[39m.\u001b[39;49mclasses_)\n",
      "File \u001b[0;32m~/Library/Python/3.8/lib/python/site-packages/sklearn/utils/_encode.py:184\u001b[0m, in \u001b[0;36m_encode\u001b[0;34m(values, uniques, check_unknown)\u001b[0m\n\u001b[1;32m    <a href='file:///Users/alexgiving/Library/Python/3.8/lib/python/site-packages/sklearn/utils/_encode.py?line=181'>182</a>\u001b[0m         \u001b[39mreturn\u001b[39;00m _map_to_integer(values, uniques)\n\u001b[1;32m    <a href='file:///Users/alexgiving/Library/Python/3.8/lib/python/site-packages/sklearn/utils/_encode.py?line=182'>183</a>\u001b[0m     \u001b[39mexcept\u001b[39;00m \u001b[39mKeyError\u001b[39;00m \u001b[39mas\u001b[39;00m e:\n\u001b[0;32m--> <a href='file:///Users/alexgiving/Library/Python/3.8/lib/python/site-packages/sklearn/utils/_encode.py?line=183'>184</a>\u001b[0m         \u001b[39mraise\u001b[39;00m \u001b[39mValueError\u001b[39;00m(\u001b[39mf\u001b[39m\u001b[39m\"\u001b[39m\u001b[39my contains previously unseen labels: \u001b[39m\u001b[39m{\u001b[39;00m\u001b[39mstr\u001b[39m(e)\u001b[39m}\u001b[39;00m\u001b[39m\"\u001b[39m)\n\u001b[1;32m    <a href='file:///Users/alexgiving/Library/Python/3.8/lib/python/site-packages/sklearn/utils/_encode.py?line=184'>185</a>\u001b[0m \u001b[39melse\u001b[39;00m:\n\u001b[1;32m    <a href='file:///Users/alexgiving/Library/Python/3.8/lib/python/site-packages/sklearn/utils/_encode.py?line=185'>186</a>\u001b[0m     \u001b[39mif\u001b[39;00m check_unknown:\n",
      "\u001b[0;31mValueError\u001b[0m: y contains previously unseen labels: ''"
     ]
    }
   ],
   "source": [
    "filename = f'{build_path}/DecisionTreeClassifier.sav'\n",
    "my_model = pickle.load(open(filename, 'rb'))\n",
    "\n",
    "my_questions = [\"Учащийся\", \n",
    "                \"16.Работаете ли Вы?\", \n",
    "                \"14.Увлекаетесь ли Вы спортом?\", \n",
    "                \"9.Сколько времени Вы уделяете самостоятельной подготовке к занятиям (в среднем)?\",\n",
    "                \"8.Как много Вы пропускаете аудиторных занятий?\", \n",
    "                \"6.Бывают ли у Вас долги по экзаменам/зачетам?\", \n",
    "                \"2.Посещаете ли Вы дополнительные занятия (неважно, в вышке или вне)?\", \n",
    "                \"1.Участвуете ли Вы в олимпиадах?\" ]\n",
    "\n",
    "my_answers = []\n",
    "\n",
    "for q in my_questions:\n",
    "    my_answers.append(str(input(f'Введите ответ на вопрос \"{q}\": ')))\n",
    "\n",
    "df = pd.DataFrame(data=[my_answers], columns=my_questions)\n",
    "\n",
    "for col in pd.DataFrame(df.iloc[:,1:]).columns:             # Iterate by df without name\n",
    "    encoder = LabelEncoder()\n",
    "    filename = f\"{build_path}/{str(col).replace('/', '-')}_class_linear_encoder.npy\" \n",
    "    encoder.classes_ = np.load(filename, allow_pickle=True) # Import encouder fit data\n",
    "    df[col] = encoder.transform(df[col])\n",
    "\n",
    "\n",
    "y_pred_my = my_model.predict(df.iloc[:,1:])                 # Without name\n",
    "print(f'{df.iloc[0,0]} предположительно {\"сдал(а)\" if y_pred_my == 1 else \"не сдал(а)\"} экзамен')"
   ]
  }
 ],
 "metadata": {
  "interpreter": {
   "hash": "31f2aee4e71d21fbe5cf8b01ff0e069b9275f58929596ceb00d14d90e3e16cd6"
  },
  "kernelspec": {
   "display_name": "Python 3.8.9 64-bit",
   "language": "python",
   "name": "python3"
  },
  "language_info": {
   "codemirror_mode": {
    "name": "ipython",
    "version": 3
   },
   "file_extension": ".py",
   "mimetype": "text/x-python",
   "name": "python",
   "nbconvert_exporter": "python",
   "pygments_lexer": "ipython3",
   "version": "3.8.9"
  },
  "orig_nbformat": 4
 },
 "nbformat": 4,
 "nbformat_minor": 2
}
