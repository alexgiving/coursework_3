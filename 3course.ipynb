{
 "cells": [
  {
   "cell_type": "markdown",
   "metadata": {},
   "source": [
    "# Import Libs"
   ]
  },
  {
   "cell_type": "code",
   "execution_count": 196,
   "metadata": {},
   "outputs": [],
   "source": [
    "import warnings\n",
    "warnings.filterwarnings(\"ignore\")\n",
    "\n",
    "# Import general functions\n",
    "import numpy as np\n",
    "import pandas as pd\n",
    "import matplotlib.pyplot as plt\n",
    "\n",
    "# Import lib for saving model and encoder\n",
    "import os\n",
    "import pickle\n",
    "\n",
    "# Import preprocessing functions\n",
    "from sklearn.tree               import plot_tree\n",
    "from sklearn.tree               import export_graphviz\n",
    "from sklearn.utils              import shuffle\n",
    "from sklearn.preprocessing      import LabelEncoder\n",
    "from sklearn.model_selection    import train_test_split\n",
    "\n",
    "# Import confusion_matrix and roc_auc_curve\n",
    "from sklearn import metrics\n",
    "\n",
    "# Import metrics functions\n",
    "from sklearn.metrics import f1_score,                           \\\n",
    "                            r2_score,                           \\\n",
    "                            recall_score,                       \\\n",
    "                            accuracy_score,                     \\\n",
    "                            precision_score,                    \\\n",
    "                            mean_squared_error,                 \\\n",
    "                            mean_absolute_error,                \\\n",
    "                            balanced_accuracy_score,            \\\n",
    "                            precision_recall_fscore_support\n",
    "                            "
   ]
  },
  {
   "cell_type": "code",
   "execution_count": 197,
   "metadata": {},
   "outputs": [],
   "source": [
    "build_path = \"build_files/\""
   ]
  },
  {
   "cell_type": "markdown",
   "metadata": {},
   "source": [
    "# Preprocessing"
   ]
  },
  {
   "cell_type": "code",
   "execution_count": 198,
   "metadata": {},
   "outputs": [],
   "source": [
    "# Import dataset\n",
    "data = pd.read_excel('src/dataset_2021 -14.xlsx')\n",
    "data = shuffle(data)\n",
    "\n",
    "# Define minimal mark\n",
    "min_mark = 4"
   ]
  },
  {
   "cell_type": "code",
   "execution_count": 199,
   "metadata": {},
   "outputs": [
    {
     "data": {
      "image/png": "[encoded data removed]",
      "text/plain": [
       "<Figure size 432x288 with 1 Axes>"
      ]
     },
     "metadata": {
      "needs_background": "light"
     },
     "output_type": "display_data"
    }
   ],
   "source": [
    "# Output distribution of scores\n",
    "plt.scatter(\n",
    "    range(len(data['Средний балл'])), \n",
    "    data['Средний балл']\n",
    "    )\n",
    "plt.grid()"
   ]
  },
  {
   "cell_type": "markdown",
   "metadata": {},
   "source": [
    "NOTE: lines in graph illustrate custom increase the number of not pass students.\n",
    "That trick were done for better model training. It helps to increase accuracy metricks of models"
   ]
  },
  {
   "cell_type": "markdown",
   "metadata": {},
   "source": [
    "Lets find out how many students did not pass the exams"
   ]
  },
  {
   "cell_type": "code",
   "execution_count": 200,
   "metadata": {},
   "outputs": [
    {
     "name": "stdout",
     "output_type": "stream",
     "text": [
      "TOTAL: 465\n",
      "Passed: 451\n",
      "Not pas: 14\n"
     ]
    }
   ],
   "source": [
    "def counter_print():\n",
    "    passed = 0\n",
    "    not_passed = 0\n",
    "    res = 0\n",
    "    for mark in data['Средний балл']:\n",
    "        if mark >= min_mark:\n",
    "            passed += 1\n",
    "        elif mark < min_mark:\n",
    "            not_passed += 1\n",
    "        res += 1\n",
    "    print(f\"TOTAL: {res}\\nPassed: {passed}\\nNot pas: {not_passed}\")\n",
    "\n",
    "\n",
    "counter_print()"
   ]
  },
  {
   "cell_type": "code",
   "execution_count": 201,
   "metadata": {},
   "outputs": [],
   "source": [
    "# Replase mark of student by belonging to the class of successfully passed\n",
    "data['Сдал'] = pd.cut(x=data['Средний балл'], bins=[0, min_mark, 10], labels=[0, 1])\n",
    "data.drop(['Средний балл'], axis = 1, inplace= True)\n",
    "\n",
    "# Drop indicators which are not connected with extracurricular activities\n",
    "data.drop([\n",
    "            'Дата прохождения теста',\n",
    "            '15.Образование Ваших родителей?', \n",
    "            '3.С какими оценками Вы закончили школу?',\n",
    "            '4.Ходили ли Вы на подготовительные курсы перед поступлением в вуз?',\n",
    "            '7.Какая у Вас семья?',\n",
    "            '10.Получали ли Вы стипендию? (в течение последнего года)',\n",
    "            '11.Оцените, как Вам нравится учиться?',\n",
    "            '13.На какие средства Вы живете?',\n",
    "            '5.Брали ли Вы академический отпуск?',\n",
    "            '17.Укажите Ваше семейное положение.',\n",
    "            '12.Каковы условия Вашего проживания?'\n",
    "            ],\n",
    "            axis = 1, inplace = True)\n",
    "\n",
    "# That part index all names for privacy reasons\n",
    "name_hash = []\n",
    "for idx, name in enumerate(data['Учащийся']):\n",
    "    name_hash.append((idx, name))\n",
    "    data.loc[idx,'Учащийся'] = idx"
   ]
  },
  {
   "cell_type": "markdown",
   "metadata": {},
   "source": [
    "Dataset with concern questions"
   ]
  },
  {
   "cell_type": "code",
   "execution_count": 202,
   "metadata": {},
   "outputs": [
    {
     "data": {
      "text/html": [
       "<div>\n",
       "<style scoped>\n",
       "    .dataframe tbody tr th:only-of-type {\n",
       "        vertical-align: middle;\n",
       "    }\n",
       "\n",
       "    .dataframe tbody tr th {\n",
       "        vertical-align: top;\n",
       "    }\n",
       "\n",
       "    .dataframe thead th {\n",
       "        text-align: right;\n",
       "    }\n",
       "</style>\n",
       "<table border=\"1\" class=\"dataframe\">\n",
       "  <thead>\n",
       "    <tr style=\"text-align: right;\">\n",
       "      <th></th>\n",
       "      <th>Учащийся</th>\n",
       "      <th>16.Работаете ли Вы?</th>\n",
       "      <th>14.Увлекаетесь ли Вы спортом?</th>\n",
       "      <th>9.Сколько времени Вы уделяете самостоятельной подготовке к занятиям (в среднем)?</th>\n",
       "      <th>8.Как много Вы пропускаете аудиторных занятий?</th>\n",
       "      <th>6.Бывают ли у Вас долги по экзаменам/зачетам?</th>\n",
       "      <th>2.Посещаете ли Вы дополнительные занятия (неважно, в вышке или вне)?</th>\n",
       "      <th>1.Участвуете ли Вы в олимпиадах?</th>\n",
       "      <th>Сдал</th>\n",
       "    </tr>\n",
       "  </thead>\n",
       "  <tbody>\n",
       "    <tr>\n",
       "      <th>287</th>\n",
       "      <td>287</td>\n",
       "      <td>Нет</td>\n",
       "      <td>да, хожу на фитнес или в тренажерный зал</td>\n",
       "      <td>Все свободное время</td>\n",
       "      <td>Не пропускаете</td>\n",
       "      <td>1-2 раза в год</td>\n",
       "      <td>нет</td>\n",
       "      <td>Нет</td>\n",
       "      <td>1</td>\n",
       "    </tr>\n",
       "    <tr>\n",
       "      <th>165</th>\n",
       "      <td>165</td>\n",
       "      <td>Нет</td>\n",
       "      <td>да, занимаюсь командными видами спорта (футбол...</td>\n",
       "      <td>Более 3 часов в день</td>\n",
       "      <td>Не пропускаете</td>\n",
       "      <td>Нет</td>\n",
       "      <td>нет</td>\n",
       "      <td>Да</td>\n",
       "      <td>1</td>\n",
       "    </tr>\n",
       "    <tr>\n",
       "      <th>144</th>\n",
       "      <td>144</td>\n",
       "      <td>Нет</td>\n",
       "      <td>да, занимаюсь командными видами спорта (футбол...</td>\n",
       "      <td>От 1 до 3 часов в день;Более 3 часов в день</td>\n",
       "      <td>Не пропускаете</td>\n",
       "      <td>Нет</td>\n",
       "      <td>нет</td>\n",
       "      <td>Нет, но собираюсь в этом году</td>\n",
       "      <td>1</td>\n",
       "    </tr>\n",
       "    <tr>\n",
       "      <th>385</th>\n",
       "      <td>385</td>\n",
       "      <td>Нет</td>\n",
       "      <td>да, занимаюсь командными видами спорта (футбол...</td>\n",
       "      <td>Более 3 часов в день</td>\n",
       "      <td>Не пропускаете</td>\n",
       "      <td>Нет</td>\n",
       "      <td>нет</td>\n",
       "      <td>Нет, но собираюсь в этом году</td>\n",
       "      <td>1</td>\n",
       "    </tr>\n",
       "    <tr>\n",
       "      <th>179</th>\n",
       "      <td>179</td>\n",
       "      <td>Да</td>\n",
       "      <td>Другой ответ</td>\n",
       "      <td>Готовлюсь только перед занятиями</td>\n",
       "      <td>Регулярно пропускаете</td>\n",
       "      <td>Всегда</td>\n",
       "      <td>нет</td>\n",
       "      <td>Нет</td>\n",
       "      <td>1</td>\n",
       "    </tr>\n",
       "  </tbody>\n",
       "</table>\n",
       "</div>"
      ],
      "text/plain": [
       "    Учащийся 16.Работаете ли Вы?  \\\n",
       "287      287                 Нет   \n",
       "165      165                 Нет   \n",
       "144      144                 Нет   \n",
       "385      385                 Нет   \n",
       "179      179                  Да   \n",
       "\n",
       "                         14.Увлекаетесь ли Вы спортом?  \\\n",
       "287           да, хожу на фитнес или в тренажерный зал   \n",
       "165  да, занимаюсь командными видами спорта (футбол...   \n",
       "144  да, занимаюсь командными видами спорта (футбол...   \n",
       "385  да, занимаюсь командными видами спорта (футбол...   \n",
       "179                                       Другой ответ   \n",
       "\n",
       "    9.Сколько времени Вы уделяете самостоятельной подготовке к занятиям (в среднем)?  \\\n",
       "287                                Все свободное время                                 \n",
       "165                               Более 3 часов в день                                 \n",
       "144        От 1 до 3 часов в день;Более 3 часов в день                                 \n",
       "385                               Более 3 часов в день                                 \n",
       "179                   Готовлюсь только перед занятиями                                 \n",
       "\n",
       "    8.Как много Вы пропускаете аудиторных занятий?  \\\n",
       "287                                 Не пропускаете   \n",
       "165                                 Не пропускаете   \n",
       "144                                 Не пропускаете   \n",
       "385                                 Не пропускаете   \n",
       "179                          Регулярно пропускаете   \n",
       "\n",
       "    6.Бывают ли у Вас долги по экзаменам/зачетам?  \\\n",
       "287                                1-2 раза в год   \n",
       "165                                           Нет   \n",
       "144                                           Нет   \n",
       "385                                           Нет   \n",
       "179                                        Всегда   \n",
       "\n",
       "    2.Посещаете ли Вы дополнительные занятия (неважно, в вышке или вне)?  \\\n",
       "287                                                нет                     \n",
       "165                                                нет                     \n",
       "144                                                нет                     \n",
       "385                                                нет                     \n",
       "179                                                нет                     \n",
       "\n",
       "    1.Участвуете ли Вы в олимпиадах? Сдал  \n",
       "287                              Нет    1  \n",
       "165                               Да    1  \n",
       "144    Нет, но собираюсь в этом году    1  \n",
       "385    Нет, но собираюсь в этом году    1  \n",
       "179                              Нет    1  "
      ]
     },
     "execution_count": 202,
     "metadata": {},
     "output_type": "execute_result"
    }
   ],
   "source": [
    "# Create a copy of dataset to use it in future work\n",
    "debug_data = data\n",
    "\n",
    "data.head()"
   ]
  },
  {
   "cell_type": "markdown",
   "metadata": {},
   "source": [
    "Split our data in 3 parts for train, test and validation"
   ]
  },
  {
   "cell_type": "code",
   "execution_count": 203,
   "metadata": {},
   "outputs": [],
   "source": [
    "def create(path):\n",
    "    if not os.path.exists(path):\n",
    "        os.mkdir(path)"
   ]
  },
  {
   "cell_type": "code",
   "execution_count": 204,
   "metadata": {},
   "outputs": [],
   "source": [
    "def train_test_val_split(test_ratio, validation_ratio):\n",
    "# Replace all text output to index\n",
    "    label_encoder = LabelEncoder()\n",
    "    label_data = data.copy()\n",
    "    s = (label_data.dtypes == 'object')\n",
    "    object_cols = list(s[s].index)\n",
    "    create(build_path)\n",
    "    for col in object_cols:\n",
    "        label_encoder.fit(label_data[col])\n",
    "        label_data[col] = label_encoder.transform(label_data[col])\n",
    "        # Save lable encouder hash to separate files to use them in future if need\n",
    "        file_name = f'{build_path}/{col.replace(\"/\", \"-\")}_class_linear_encoder.npy'\n",
    "        f = open(file_name, 'w+')\n",
    "        np.save(file_name, label_encoder.classes_)\n",
    "        f.close()\n",
    "\n",
    "# Split dataset\n",
    "    # NOTE: To fix split selections use random_state= parameter\n",
    "    size = label_data.shape[0]\n",
    "    validation_ratio = (validation_ratio * size) / (size * (1 - test_ratio))\n",
    "\n",
    "    X_train, X_test, y_train, y_test = train_test_split(label_data.drop('Сдал', axis = 1), \n",
    "                                                        label_data['Сдал'], \n",
    "                                                        test_size=test_ratio)\n",
    "\n",
    "    X_train, X_val, y_train, y_val = train_test_split(X_train,\n",
    "                                                      y_train, \n",
    "                                                      test_size=validation_ratio)\n",
    "\n",
    "    # Output X_train.iloc[:,1:] delete student hash from training and testing selections\n",
    "    return X_train.iloc[:,1:], X_test.iloc[:,1:], X_val, y_train, y_test, y_val"
   ]
  },
  {
   "cell_type": "code",
   "execution_count": 205,
   "metadata": {},
   "outputs": [],
   "source": [
    "X_train, X_test, X_val, y_train, y_test, y_val = train_test_val_split(test_ratio=0.25, validation_ratio=0.05)"
   ]
  },
  {
   "cell_type": "code",
   "execution_count": 206,
   "metadata": {},
   "outputs": [
    {
     "data": {
      "text/html": [
       "<div>\n",
       "<style scoped>\n",
       "    .dataframe tbody tr th:only-of-type {\n",
       "        vertical-align: middle;\n",
       "    }\n",
       "\n",
       "    .dataframe tbody tr th {\n",
       "        vertical-align: top;\n",
       "    }\n",
       "\n",
       "    .dataframe thead th {\n",
       "        text-align: right;\n",
       "    }\n",
       "</style>\n",
       "<table border=\"1\" class=\"dataframe\">\n",
       "  <thead>\n",
       "    <tr style=\"text-align: right;\">\n",
       "      <th></th>\n",
       "      <th>16.Работаете ли Вы?</th>\n",
       "      <th>14.Увлекаетесь ли Вы спортом?</th>\n",
       "      <th>9.Сколько времени Вы уделяете самостоятельной подготовке к занятиям (в среднем)?</th>\n",
       "      <th>8.Как много Вы пропускаете аудиторных занятий?</th>\n",
       "      <th>6.Бывают ли у Вас долги по экзаменам/зачетам?</th>\n",
       "      <th>2.Посещаете ли Вы дополнительные занятия (неважно, в вышке или вне)?</th>\n",
       "      <th>1.Участвуете ли Вы в олимпиадах?</th>\n",
       "    </tr>\n",
       "  </thead>\n",
       "  <tbody>\n",
       "    <tr>\n",
       "      <th>123</th>\n",
       "      <td>1</td>\n",
       "      <td>3</td>\n",
       "      <td>10</td>\n",
       "      <td>0</td>\n",
       "      <td>3</td>\n",
       "      <td>7</td>\n",
       "      <td>0</td>\n",
       "    </tr>\n",
       "    <tr>\n",
       "      <th>294</th>\n",
       "      <td>0</td>\n",
       "      <td>3</td>\n",
       "      <td>4</td>\n",
       "      <td>0</td>\n",
       "      <td>3</td>\n",
       "      <td>7</td>\n",
       "      <td>0</td>\n",
       "    </tr>\n",
       "    <tr>\n",
       "      <th>147</th>\n",
       "      <td>1</td>\n",
       "      <td>21</td>\n",
       "      <td>6</td>\n",
       "      <td>0</td>\n",
       "      <td>3</td>\n",
       "      <td>7</td>\n",
       "      <td>0</td>\n",
       "    </tr>\n",
       "    <tr>\n",
       "      <th>312</th>\n",
       "      <td>1</td>\n",
       "      <td>15</td>\n",
       "      <td>4</td>\n",
       "      <td>0</td>\n",
       "      <td>3</td>\n",
       "      <td>7</td>\n",
       "      <td>1</td>\n",
       "    </tr>\n",
       "    <tr>\n",
       "      <th>39</th>\n",
       "      <td>1</td>\n",
       "      <td>15</td>\n",
       "      <td>2</td>\n",
       "      <td>0</td>\n",
       "      <td>0</td>\n",
       "      <td>7</td>\n",
       "      <td>0</td>\n",
       "    </tr>\n",
       "    <tr>\n",
       "      <th>...</th>\n",
       "      <td>...</td>\n",
       "      <td>...</td>\n",
       "      <td>...</td>\n",
       "      <td>...</td>\n",
       "      <td>...</td>\n",
       "      <td>...</td>\n",
       "      <td>...</td>\n",
       "    </tr>\n",
       "    <tr>\n",
       "      <th>303</th>\n",
       "      <td>1</td>\n",
       "      <td>21</td>\n",
       "      <td>2</td>\n",
       "      <td>0</td>\n",
       "      <td>3</td>\n",
       "      <td>1</td>\n",
       "      <td>1</td>\n",
       "    </tr>\n",
       "    <tr>\n",
       "      <th>255</th>\n",
       "      <td>1</td>\n",
       "      <td>3</td>\n",
       "      <td>10</td>\n",
       "      <td>2</td>\n",
       "      <td>1</td>\n",
       "      <td>7</td>\n",
       "      <td>1</td>\n",
       "    </tr>\n",
       "    <tr>\n",
       "      <th>461</th>\n",
       "      <td>1</td>\n",
       "      <td>15</td>\n",
       "      <td>9</td>\n",
       "      <td>2</td>\n",
       "      <td>1</td>\n",
       "      <td>7</td>\n",
       "      <td>1</td>\n",
       "    </tr>\n",
       "    <tr>\n",
       "      <th>254</th>\n",
       "      <td>0</td>\n",
       "      <td>15</td>\n",
       "      <td>9</td>\n",
       "      <td>2</td>\n",
       "      <td>3</td>\n",
       "      <td>7</td>\n",
       "      <td>1</td>\n",
       "    </tr>\n",
       "    <tr>\n",
       "      <th>439</th>\n",
       "      <td>1</td>\n",
       "      <td>15</td>\n",
       "      <td>10</td>\n",
       "      <td>0</td>\n",
       "      <td>3</td>\n",
       "      <td>3</td>\n",
       "      <td>1</td>\n",
       "    </tr>\n",
       "  </tbody>\n",
       "</table>\n",
       "<p>324 rows × 7 columns</p>\n",
       "</div>"
      ],
      "text/plain": [
       "     16.Работаете ли Вы?  14.Увлекаетесь ли Вы спортом?  \\\n",
       "123                    1                              3   \n",
       "294                    0                              3   \n",
       "147                    1                             21   \n",
       "312                    1                             15   \n",
       "39                     1                             15   \n",
       "..                   ...                            ...   \n",
       "303                    1                             21   \n",
       "255                    1                              3   \n",
       "461                    1                             15   \n",
       "254                    0                             15   \n",
       "439                    1                             15   \n",
       "\n",
       "     9.Сколько времени Вы уделяете самостоятельной подготовке к занятиям (в среднем)?  \\\n",
       "123                                                 10                                  \n",
       "294                                                  4                                  \n",
       "147                                                  6                                  \n",
       "312                                                  4                                  \n",
       "39                                                   2                                  \n",
       "..                                                 ...                                  \n",
       "303                                                  2                                  \n",
       "255                                                 10                                  \n",
       "461                                                  9                                  \n",
       "254                                                  9                                  \n",
       "439                                                 10                                  \n",
       "\n",
       "     8.Как много Вы пропускаете аудиторных занятий?  \\\n",
       "123                                               0   \n",
       "294                                               0   \n",
       "147                                               0   \n",
       "312                                               0   \n",
       "39                                                0   \n",
       "..                                              ...   \n",
       "303                                               0   \n",
       "255                                               2   \n",
       "461                                               2   \n",
       "254                                               2   \n",
       "439                                               0   \n",
       "\n",
       "     6.Бывают ли у Вас долги по экзаменам/зачетам?  \\\n",
       "123                                              3   \n",
       "294                                              3   \n",
       "147                                              3   \n",
       "312                                              3   \n",
       "39                                               0   \n",
       "..                                             ...   \n",
       "303                                              3   \n",
       "255                                              1   \n",
       "461                                              1   \n",
       "254                                              3   \n",
       "439                                              3   \n",
       "\n",
       "     2.Посещаете ли Вы дополнительные занятия (неважно, в вышке или вне)?  \\\n",
       "123                                                  7                      \n",
       "294                                                  7                      \n",
       "147                                                  7                      \n",
       "312                                                  7                      \n",
       "39                                                   7                      \n",
       "..                                                 ...                      \n",
       "303                                                  1                      \n",
       "255                                                  7                      \n",
       "461                                                  7                      \n",
       "254                                                  7                      \n",
       "439                                                  3                      \n",
       "\n",
       "     1.Участвуете ли Вы в олимпиадах?  \n",
       "123                                 0  \n",
       "294                                 0  \n",
       "147                                 0  \n",
       "312                                 1  \n",
       "39                                  0  \n",
       "..                                ...  \n",
       "303                                 1  \n",
       "255                                 1  \n",
       "461                                 1  \n",
       "254                                 1  \n",
       "439                                 1  \n",
       "\n",
       "[324 rows x 7 columns]"
      ]
     },
     "execution_count": 206,
     "metadata": {},
     "output_type": "execute_result"
    }
   ],
   "source": [
    "X_train"
   ]
  },
  {
   "cell_type": "markdown",
   "metadata": {},
   "source": [
    "# Model variants\n",
    "In that part I will choose the classification model which will predict if student pass exams successfully or not"
   ]
  },
  {
   "cell_type": "markdown",
   "metadata": {},
   "source": [
    "## Metrics Functions"
   ]
  },
  {
   "cell_type": "code",
   "execution_count": 207,
   "metadata": {},
   "outputs": [],
   "source": [
    "def classification_quality(y_test, y_pred):\n",
    "    print(\"Accuracy:\",          accuracy_score(y_test, y_pred))\n",
    "    print(\"Recall:\",            recall_score(y_test, y_pred, average='macro'))\n",
    "    print(\"Precision:\",         precision_score(y_test, y_pred, average='macro'))\n",
    "    print(\"F1:\",                f1_score(y_test, y_pred, average='macro', labels=np.unique(y_pred)))\n",
    "    print(\"Weighted Recall:\",   (precision_recall_fscore_support(y_test, y_pred, average='macro')))"
   ]
  },
  {
   "cell_type": "code",
   "execution_count": 208,
   "metadata": {},
   "outputs": [],
   "source": [
    "# For historical reason\n",
    "def regression_quality(y_test, y_pred):\n",
    "    print(\"MSE:\",               mean_squared_error(y_test, y_pred))\n",
    "    print(\"RMSE:\",              mean_squared_error(y_test, y_pred)**(1/2))\n",
    "    print(\"MAE:\",               mean_absolute_error(y_test, y_pred))\n",
    "    print(\"R2:\",                r2_score(y_test, y_pred))"
   ]
  },
  {
   "cell_type": "code",
   "execution_count": 209,
   "metadata": {},
   "outputs": [],
   "source": [
    "metrics_list = ['Accuracy', 'Balanced Accuracy', 'Recall', 'Precision', 'F1', 'MSE', 'RMSE', 'MAE', 'R2']\n",
    "model_array  = []\n",
    "output_array = []\n",
    "\n",
    "def compilance_print(model, y_test, y_pred, model_flag):\n",
    "    temp_array = []\n",
    "    if model_flag == 'cls': # Classifier\n",
    "        temp_array.append(accuracy_score(y_test, y_pred))\n",
    "        temp_array.append(balanced_accuracy_score(y_test, y_pred))\n",
    "        temp_array.append(recall_score(y_test, y_pred, average='macro'))\n",
    "        temp_array.append(precision_score(y_test, y_pred, average='macro'))\n",
    "        temp_array.append(f1_score(y_test, y_pred, average='macro', labels=np.unique(y_pred)))\n",
    "        for _ in range(4): temp_array.append(None) # Set regression metrics as None\n",
    "    \n",
    "    # For historical reason\n",
    "    elif model_flag == 'reg': # Regression\n",
    "        for _ in range(5): temp_array.append(None) # Set classifier metrics as None\n",
    "        temp_array.append(mean_squared_error(y_test, y_pred))\n",
    "        temp_array.append(mean_squared_error(y_test, y_pred)**(1/2))\n",
    "        temp_array.append(mean_absolute_error(y_test, y_pred))\n",
    "        temp_array.append(r2_score(y_test, y_pred))\n",
    "    else: \n",
    "        print('Error')\n",
    "        for _ in metrics_list: temp_array.append(None)\n",
    "\n",
    "    flag = 1\n",
    "    model_indx = -1\n",
    "    for indx, _model in enumerate(model_array):\n",
    "        if _model == model:\n",
    "            model_indx = indx\n",
    "            flag = 0\n",
    "    if flag:\n",
    "        output_array.append([0]* len(metrics_list))\n",
    "        model_indx = len(model_array)\n",
    "        model_array.append(model)\n",
    "    for indx, el in enumerate(temp_array):\n",
    "        output_array[model_indx][indx] = el"
   ]
  },
  {
   "cell_type": "code",
   "execution_count": 210,
   "metadata": {},
   "outputs": [],
   "source": [
    "def graph_show(model, X, y):\n",
    "    metrics.plot_confusion_matrix(model, X, y)\n",
    "    metrics.plot_roc_curve(model, X, y)  \n",
    "    plt.show()"
   ]
  },
  {
   "cell_type": "markdown",
   "metadata": {},
   "source": [
    "## Classifier"
   ]
  },
  {
   "cell_type": "markdown",
   "metadata": {},
   "source": [
    "### Perception Classifier Model"
   ]
  },
  {
   "cell_type": "code",
   "execution_count": 211,
   "metadata": {},
   "outputs": [
    {
     "name": "stdout",
     "output_type": "stream",
     "text": [
      "Accuracy: 0.9230769230769231\n",
      "Recall: 0.5653153153153153\n",
      "Precision: 0.5776785714285715\n",
      "F1: 0.5707297187117816\n",
      "Weighted Recall: (0.5776785714285715, 0.5653153153153153, 0.5707297187117816, None)\n"
     ]
    }
   ],
   "source": [
    "from sklearn.linear_model import Perceptron\n",
    "Perc = Perceptron()\n",
    "Perc.fit(X_train, y_train)\n",
    "\n",
    "y_pred = Perc.predict(X_test)\n",
    "\n",
    "classification_quality(y_test, y_pred)\n",
    "compilance_print('Perceptron', y_test, y_pred, 'cls')"
   ]
  },
  {
   "cell_type": "markdown",
   "metadata": {},
   "source": [
    "### Random Forest Classifier Model"
   ]
  },
  {
   "cell_type": "code",
   "execution_count": 212,
   "metadata": {},
   "outputs": [
    {
     "name": "stdout",
     "output_type": "stream",
     "text": [
      "Accuracy: 0.9743589743589743\n",
      "Recall: 0.75\n",
      "Precision: 0.986842105263158\n",
      "F1: 0.8266666666666667\n",
      "Weighted Recall: (0.986842105263158, 0.75, 0.8266666666666667, None)\n"
     ]
    }
   ],
   "source": [
    "from sklearn.ensemble import RandomForestClassifier\n",
    "RanF = RandomForestClassifier()\n",
    "RanF.fit(X_train, y_train)\n",
    "\n",
    "y_pred = RanF.predict(X_test)\n",
    "\n",
    "classification_quality(y_test, y_pred)\n",
    "compilance_print('RandomForest', y_test, y_pred, 'cls')"
   ]
  },
  {
   "cell_type": "markdown",
   "metadata": {},
   "source": [
    "### DecisionTreeClassifier Model"
   ]
  },
  {
   "cell_type": "code",
   "execution_count": 213,
   "metadata": {},
   "outputs": [
    {
     "name": "stdout",
     "output_type": "stream",
     "text": [
      "Accuracy: 0.9743589743589743\n",
      "Recall: 0.8288288288288288\n",
      "Precision: 0.8910714285714285\n",
      "F1: 0.8569099062372605\n",
      "Weighted Recall: (0.8910714285714285, 0.8288288288288288, 0.8569099062372605, None)\n"
     ]
    },
    {
     "data": {
      "image/png": "[encoded data removed]",
      "text/plain": [
       "<Figure size 1080x1080 with 1 Axes>"
      ]
     },
     "metadata": {
      "needs_background": "light"
     },
     "output_type": "display_data"
    }
   ],
   "source": [
    "from sklearn.tree import DecisionTreeClassifier\n",
    "dtr = DecisionTreeClassifier()\n",
    "dtr.fit(X_train, y_train)\n",
    "\n",
    "y_pred = dtr.predict(X_test)\n",
    "\n",
    "# plot tree\n",
    "plt.figure(figsize=(15,15))\n",
    "plot_tree(dtr, fontsize=10)\n",
    "\n",
    "classification_quality(y_test, y_pred)\n",
    "compilance_print('DecisionTreeClassifier', y_test, y_pred, 'cls')\n",
    "\n",
    "\n",
    "# Creates dot file named tree.dot\n",
    "export_graphviz(\n",
    "            dtr,\n",
    "            out_file =  \"myTreeName.dot\",\n",
    "            feature_names = list(X_train.columns),\n",
    "            class_names = ['Не Сдал', 'Сдал'],\n",
    "            filled = True,\n",
    "            rounded = True)\n",
    "# Convert dot to png\n",
    "!dot -Tpng myTreeName.dot -o outfile1.png"
   ]
  },
  {
   "cell_type": "markdown",
   "metadata": {},
   "source": [
    "# Example how to return real values from hash to encode decision tree"
   ]
  },
  {
   "cell_type": "code",
   "execution_count": 214,
   "metadata": {},
   "outputs": [],
   "source": [
    "def get_dict(input):\n",
    "    df = input.copy()\n",
    "    total_zip = {}\n",
    "    for col in pd.DataFrame(df.iloc[:,1:-1]).columns:\n",
    "        list_answers = list(set(df[col]))\n",
    "        encoder = LabelEncoder()\n",
    "        filename = f\"{build_path}/{str(col).replace('/', '-')}_class_linear_encoder.npy\" \n",
    "        encoder.classes_ = np.load(filename, allow_pickle=True)\n",
    "        list_encouder = encoder.transform(pd.DataFrame(list_answers))\n",
    "        total_zip[col] = dict(zip(list_answers, list_encouder))\n",
    "    return total_zip\n",
    "\n",
    "\n",
    "def get_answer_by_index(_dict, question, index):\n",
    "    return list(_dict.get(question).keys())[list(_dict.get(question).values()).index(index)]"
   ]
  },
  {
   "cell_type": "code",
   "execution_count": 215,
   "metadata": {},
   "outputs": [
    {
     "data": {
      "text/plain": [
       "'Другой ответ'"
      ]
     },
     "execution_count": 215,
     "metadata": {},
     "output_type": "execute_result"
    }
   ],
   "source": [
    "get_answer_by_index(get_dict(debug_data), \"14.Увлекаетесь ли Вы спортом?\", 0)"
   ]
  },
  {
   "cell_type": "code",
   "execution_count": 216,
   "metadata": {},
   "outputs": [
    {
     "data": {
      "text/plain": [
       "0"
      ]
     },
     "execution_count": 216,
     "metadata": {},
     "output_type": "execute_result"
    }
   ],
   "source": [
    "get_dict(debug_data).get(\"14.Увлекаетесь ли Вы спортом?\").get(\"Другой ответ\")"
   ]
  },
  {
   "cell_type": "code",
   "execution_count": 217,
   "metadata": {},
   "outputs": [
    {
     "data": {
      "text/plain": [
       "{'Регулярно пропускаете': 1,\n",
       " 'Не пропускаете': 0,\n",
       " 'Среднее количество пропусков': 2}"
      ]
     },
     "execution_count": 217,
     "metadata": {},
     "output_type": "execute_result"
    }
   ],
   "source": [
    "get_dict(debug_data).get(\"8.Как много Вы пропускаете аудиторных занятий?\")"
   ]
  },
  {
   "cell_type": "code",
   "execution_count": 218,
   "metadata": {},
   "outputs": [
    {
     "data": {
      "text/plain": [
       "{'Все свободное время;Более 3 часов в день': 6,\n",
       " '7 часов в неделю': 0,\n",
       " 'Все свободное время;Более 3 часов в день;7 часов в неделю': 7,\n",
       " 'Готовлюсь только перед занятиями': 9,\n",
       " '7 часов в неделю;Готовлюсь только перед занятиями': 1,\n",
       " 'От 1 до 3 часов в день;Более 3 часов в день;Готовлюсь только перед занятиями': 14,\n",
       " 'От 1 до 3 часов в день': 10,\n",
       " 'От 1 до 3 часов в день;7 часов в неделю': 11,\n",
       " 'Все свободное время;7 часов в неделю': 5,\n",
       " 'От 1 до 3 часов в день;Более 3 часов в день': 13,\n",
       " 'Все свободное время': 4,\n",
       " 'Все свободное время;Готовлюсь только перед занятиями': 8,\n",
       " 'От 1 до 3 часов в день;7 часов в неделю;Готовлюсь только перед занятиями': 12,\n",
       " 'Более 3 часов в день;Готовлюсь только перед занятиями': 3,\n",
       " 'От 1 до 3 часов в день;Готовлюсь только перед занятиями': 15,\n",
       " 'Более 3 часов в день': 2}"
      ]
     },
     "execution_count": 218,
     "metadata": {},
     "output_type": "execute_result"
    }
   ],
   "source": [
    "get_dict(debug_data).get(\"9.Сколько времени Вы уделяете самостоятельной подготовке к занятиям (в среднем)?\")"
   ]
  },
  {
   "cell_type": "markdown",
   "metadata": {},
   "source": [
    "## Matrix\n",
    "That table helps to understand which model is better for my work"
   ]
  },
  {
   "cell_type": "code",
   "execution_count": 219,
   "metadata": {},
   "outputs": [
    {
     "data": {
      "text/html": [
       "<div>\n",
       "<style scoped>\n",
       "    .dataframe tbody tr th:only-of-type {\n",
       "        vertical-align: middle;\n",
       "    }\n",
       "\n",
       "    .dataframe tbody tr th {\n",
       "        vertical-align: top;\n",
       "    }\n",
       "\n",
       "    .dataframe thead th {\n",
       "        text-align: right;\n",
       "    }\n",
       "</style>\n",
       "<table border=\"1\" class=\"dataframe\">\n",
       "  <thead>\n",
       "    <tr style=\"text-align: right;\">\n",
       "      <th></th>\n",
       "      <th>Perceptron</th>\n",
       "      <th>RandomForest</th>\n",
       "      <th>DecisionTreeClassifier</th>\n",
       "    </tr>\n",
       "  </thead>\n",
       "  <tbody>\n",
       "    <tr>\n",
       "      <th>Accuracy</th>\n",
       "      <td>0.923077</td>\n",
       "      <td>0.974359</td>\n",
       "      <td>0.974359</td>\n",
       "    </tr>\n",
       "    <tr>\n",
       "      <th>Balanced Accuracy</th>\n",
       "      <td>0.565315</td>\n",
       "      <td>0.75</td>\n",
       "      <td>0.828829</td>\n",
       "    </tr>\n",
       "    <tr>\n",
       "      <th>Recall</th>\n",
       "      <td>0.565315</td>\n",
       "      <td>0.75</td>\n",
       "      <td>0.828829</td>\n",
       "    </tr>\n",
       "    <tr>\n",
       "      <th>Precision</th>\n",
       "      <td>0.577679</td>\n",
       "      <td>0.986842</td>\n",
       "      <td>0.891071</td>\n",
       "    </tr>\n",
       "    <tr>\n",
       "      <th>F1</th>\n",
       "      <td>0.57073</td>\n",
       "      <td>0.826667</td>\n",
       "      <td>0.85691</td>\n",
       "    </tr>\n",
       "    <tr>\n",
       "      <th>MSE</th>\n",
       "      <td>None</td>\n",
       "      <td>None</td>\n",
       "      <td>None</td>\n",
       "    </tr>\n",
       "    <tr>\n",
       "      <th>RMSE</th>\n",
       "      <td>None</td>\n",
       "      <td>None</td>\n",
       "      <td>None</td>\n",
       "    </tr>\n",
       "    <tr>\n",
       "      <th>MAE</th>\n",
       "      <td>None</td>\n",
       "      <td>None</td>\n",
       "      <td>None</td>\n",
       "    </tr>\n",
       "    <tr>\n",
       "      <th>R2</th>\n",
       "      <td>None</td>\n",
       "      <td>None</td>\n",
       "      <td>None</td>\n",
       "    </tr>\n",
       "  </tbody>\n",
       "</table>\n",
       "</div>"
      ],
      "text/plain": [
       "                  Perceptron RandomForest DecisionTreeClassifier\n",
       "Accuracy            0.923077     0.974359               0.974359\n",
       "Balanced Accuracy   0.565315         0.75               0.828829\n",
       "Recall              0.565315         0.75               0.828829\n",
       "Precision           0.577679     0.986842               0.891071\n",
       "F1                   0.57073     0.826667                0.85691\n",
       "MSE                     None         None                   None\n",
       "RMSE                    None         None                   None\n",
       "MAE                     None         None                   None\n",
       "R2                      None         None                   None"
      ]
     },
     "execution_count": 219,
     "metadata": {},
     "output_type": "execute_result"
    }
   ],
   "source": [
    "pd.DataFrame(index=model_array, columns=metrics_list, data=output_array).T"
   ]
  },
  {
   "cell_type": "markdown",
   "metadata": {},
   "source": [
    "# Model result"
   ]
  },
  {
   "cell_type": "code",
   "execution_count": 220,
   "metadata": {},
   "outputs": [],
   "source": [
    "my_model = dtr  # My own prefix of DecisionTreeClassifier"
   ]
  },
  {
   "cell_type": "markdown",
   "metadata": {},
   "source": [
    "I decided to use DecisionTree Classifier model due to its metrix"
   ]
  },
  {
   "cell_type": "code",
   "execution_count": 221,
   "metadata": {},
   "outputs": [],
   "source": [
    "# save the model to disk\n",
    "filename = f'{build_path}/DecisionTreeClassifier.sav'\n",
    "pickle.dump(my_model, open(filename, 'wb'))\n",
    "\n",
    "# Load an existed model from disk to use it in product\n",
    "#my_model = pickle.load(open(filename, 'rb'))"
   ]
  },
  {
   "cell_type": "code",
   "execution_count": 222,
   "metadata": {},
   "outputs": [
    {
     "data": {
      "image/png": "[encoded data removed]",
      "text/plain": [
       "<Figure size 432x288 with 2 Axes>"
      ]
     },
     "metadata": {
      "needs_background": "light"
     },
     "output_type": "display_data"
    },
    {
     "data": {
      "image/png": "[encoded data removed]",
      "text/plain": [
       "<Figure size 432x288 with 1 Axes>"
      ]
     },
     "metadata": {
      "needs_background": "light"
     },
     "output_type": "display_data"
    }
   ],
   "source": [
    "# Output confusion matrix and ROC/AUC curve\n",
    "graph_show(my_model, X_test, y_test)"
   ]
  },
  {
   "cell_type": "markdown",
   "metadata": {},
   "source": [
    "That metrics shows the accuracy of model. As we can see that models return very few False-Positive and True-Negative errors"
   ]
  },
  {
   "cell_type": "markdown",
   "metadata": {},
   "source": [
    "# Validation"
   ]
  },
  {
   "cell_type": "code",
   "execution_count": 225,
   "metadata": {},
   "outputs": [],
   "source": [
    "# Get predicted results of validation selection\n",
    "# NOTE: Validation selection was not used for training model thus the results are objective\n",
    "# Also X_val.iloc[:,1:] used for hiding from model hash of students names\n",
    "y_pred_val = my_model.predict(X_val.iloc[:,1:])"
   ]
  },
  {
   "cell_type": "markdown",
   "metadata": {},
   "source": [
    "These functions allow to output results of validation"
   ]
  },
  {
   "cell_type": "code",
   "execution_count": 226,
   "metadata": {},
   "outputs": [],
   "source": [
    "def print_with_name():\n",
    "    print(f'Студент {name_hash[X_val.iloc[i, 0]][1]} предположительно {\"сдал(а)\" if y_pred_val[i] == 1 else \"не сдал(а)\"}, в жизни {\"сдал(а)\" if y_val.iloc[i] == 1 else \"не сдал(а)\"}')\n",
    "\n",
    "def print_with_id():\n",
    "    print(f'Студент №{i+1} предположительно {\"сдал(а)\" if y_pred_val[i] == 1 else \"не сдал(а)\"}, в жизни {\"сдал(а)\" if y_val.iloc[i] == 1 else \"не сдал(а)\"}')"
   ]
  },
  {
   "cell_type": "code",
   "execution_count": 227,
   "metadata": {},
   "outputs": [
    {
     "name": "stdout",
     "output_type": "stream",
     "text": [
      "Студент №1 предположительно сдал(а), в жизни сдал(а)\n",
      "Студент №2 предположительно сдал(а), в жизни сдал(а)\n",
      "Студент №3 предположительно сдал(а), в жизни сдал(а)\n",
      "Студент №4 предположительно сдал(а), в жизни сдал(а)\n",
      "Студент №5 предположительно сдал(а), в жизни сдал(а)\n",
      "Студент №6 предположительно сдал(а), в жизни сдал(а)\n",
      "Студент №7 предположительно сдал(а), в жизни сдал(а)\n",
      "Студент №8 предположительно сдал(а), в жизни сдал(а)\n",
      "Студент №9 предположительно сдал(а), в жизни сдал(а)\n",
      "Студент №10 предположительно сдал(а), в жизни сдал(а)\n",
      "Студент №11 предположительно сдал(а), в жизни сдал(а)\n",
      "Студент №12 предположительно сдал(а), в жизни сдал(а)\n",
      "Студент №13 предположительно сдал(а), в жизни сдал(а)\n",
      "Студент №14 предположительно сдал(а), в жизни сдал(а)\n",
      "Студент №15 предположительно сдал(а), в жизни сдал(а)\n",
      "Студент №16 предположительно сдал(а), в жизни сдал(а)\n",
      "Студент №17 предположительно сдал(а), в жизни сдал(а)\n",
      "Студент №18 предположительно сдал(а), в жизни сдал(а)\n",
      "Студент №19 предположительно сдал(а), в жизни сдал(а)\n",
      "Студент №20 предположительно не сдал(а), в жизни сдал(а)\n",
      "Студент №21 предположительно сдал(а), в жизни сдал(а)\n",
      "Студент №22 предположительно сдал(а), в жизни сдал(а)\n",
      "Студент №23 предположительно сдал(а), в жизни сдал(а)\n",
      "Студент №24 предположительно сдал(а), в жизни сдал(а)\n",
      "There were 1 from 24 error(s)!\n"
     ]
    }
   ],
   "source": [
    "error_counter = 0\n",
    "total = 0\n",
    "for i in range(len(y_pred_val)):\n",
    "    if y_pred_val[i] != y_val.iloc[i] == 1:\n",
    "        error_counter += 1\n",
    "    total += 1\n",
    "    print_with_id()\n",
    "print(f'There were {error_counter} from {total} error(s)!')"
   ]
  },
  {
   "cell_type": "markdown",
   "metadata": {},
   "source": [
    "# Validation with my answers"
   ]
  },
  {
   "cell_type": "code",
   "execution_count": 234,
   "metadata": {},
   "outputs": [
    {
     "name": "stdout",
     "output_type": "stream",
     "text": [
      "Алексей предположительно сдал(а) экзамен\n"
     ]
    }
   ],
   "source": [
    "my_questions = [\"Учащийся\", \"16.Работаете ли Вы?\", \"14.Увлекаетесь ли Вы спортом?\", \n",
    "                \"9.Сколько времени Вы уделяете самостоятельной подготовке к занятиям (в среднем)?\",\n",
    "                \"8.Как много Вы пропускаете аудиторных занятий?\", \"6.Бывают ли у Вас долги по экзаменам/зачетам?\", \n",
    "                \"2.Посещаете ли Вы дополнительные занятия (неважно, в вышке или вне)?\", \"1.Участвуете ли Вы в олимпиадах?\" ]\n",
    "\n",
    "\n",
    "my_answers =    [\n",
    "                \"Алексей\",                                  # Учащийся\n",
    "                \"Да\",                                       # 16.Работаете ли Вы?\n",
    "                \"да, хожу на фитнес или в тренажерный зал\", # 14.Увлекаетесь ли Вы спортом?\n",
    "                \"Готовлюсь только перед занятиями\",         # 9.Сколько времени Вы уделяете самостоятельной подготовке к занятиям (в среднем)?\n",
    "                \"Не пропускаете\",                           # 8.Как много Вы пропускаете аудиторных занятий?\n",
    "                \"Нет\",                                      # 6.Бывают ли у Вас долги по экзаменам/зачетам?\n",
    "                \"нет\",                                      # 2.Посещаете ли Вы дополнительные занятия (неважно, в вышке или вне)?\n",
    "                \"Нет\",                                      # 1.Участвуете ли Вы в олимпиадах?\n",
    "                ]\n",
    "\n",
    "\n",
    "df = pd.DataFrame(data=[my_answers], columns=my_questions)\n",
    "\n",
    "for col in pd.DataFrame(df.iloc[:,1:]).columns:             # Iterate by df without name\n",
    "    encoder = LabelEncoder()\n",
    "    filename = f\"{build_path}/{str(col).replace('/', '-')}_class_linear_encoder.npy\" \n",
    "    encoder.classes_ = np.load(filename, allow_pickle=True) # Import encouder fit data\n",
    "    df[col] = encoder.transform(df[col])\n",
    "\n",
    "\n",
    "y_pred_my = my_model.predict(df.iloc[:,1:])                 # Without name\n",
    "print(f'{df.iloc[0,0]} предположительно {\"сдал(а)\" if y_pred_my == 1 else \"не сдал(a)\"} экзамен')"
   ]
  },
  {
   "cell_type": "markdown",
   "metadata": {},
   "source": [
    "# Correlation matrix"
   ]
  },
  {
   "cell_type": "code",
   "execution_count": 229,
   "metadata": {},
   "outputs": [],
   "source": [
    "def exists(path):\n",
    "    try:\n",
    "        os.stat(path)\n",
    "    except OSError:\n",
    "        return False\n",
    "    return True"
   ]
  },
  {
   "cell_type": "code",
   "execution_count": 230,
   "metadata": {},
   "outputs": [
    {
     "data": {
      "text/html": [
       "<style type=\"text/css\">\n",
       "#T_86e86_row0_col0, #T_86e86_row1_col1, #T_86e86_row2_col2, #T_86e86_row3_col3, #T_86e86_row4_col4, #T_86e86_row5_col5, #T_86e86_row6_col6, #T_86e86_row7_col7 {\n",
       "  background-color: #b40426;\n",
       "  color: #f1f1f1;\n",
       "}\n",
       "#T_86e86_row0_col1, #T_86e86_row1_col0 {\n",
       "  background-color: #a9c6fd;\n",
       "  color: #000000;\n",
       "}\n",
       "#T_86e86_row0_col2, #T_86e86_row2_col0, #T_86e86_row3_col6, #T_86e86_row5_col7, #T_86e86_row6_col3, #T_86e86_row7_col5 {\n",
       "  background-color: #90b2fe;\n",
       "  color: #000000;\n",
       "}\n",
       "#T_86e86_row0_col3, #T_86e86_row3_col0 {\n",
       "  background-color: #5f7fe8;\n",
       "  color: #f1f1f1;\n",
       "}\n",
       "#T_86e86_row0_col4, #T_86e86_row1_col7, #T_86e86_row4_col0, #T_86e86_row7_col1 {\n",
       "  background-color: #94b6ff;\n",
       "  color: #000000;\n",
       "}\n",
       "#T_86e86_row0_col5, #T_86e86_row0_col6, #T_86e86_row5_col0, #T_86e86_row6_col0 {\n",
       "  background-color: #82a6fb;\n",
       "  color: #f1f1f1;\n",
       "}\n",
       "#T_86e86_row0_col7, #T_86e86_row7_col0 {\n",
       "  background-color: #799cf8;\n",
       "  color: #f1f1f1;\n",
       "}\n",
       "#T_86e86_row1_col2, #T_86e86_row2_col1, #T_86e86_row2_col6, #T_86e86_row5_col6, #T_86e86_row6_col2, #T_86e86_row6_col5 {\n",
       "  background-color: #8caffe;\n",
       "  color: #000000;\n",
       "}\n",
       "#T_86e86_row1_col3, #T_86e86_row3_col1 {\n",
       "  background-color: #89acfd;\n",
       "  color: #000000;\n",
       "}\n",
       "#T_86e86_row1_col4, #T_86e86_row1_col6, #T_86e86_row4_col1, #T_86e86_row6_col1 {\n",
       "  background-color: #8fb1fe;\n",
       "  color: #000000;\n",
       "}\n",
       "#T_86e86_row1_col5, #T_86e86_row5_col1 {\n",
       "  background-color: #97b8ff;\n",
       "  color: #000000;\n",
       "}\n",
       "#T_86e86_row2_col3, #T_86e86_row3_col2 {\n",
       "  background-color: #aec9fc;\n",
       "  color: #000000;\n",
       "}\n",
       "#T_86e86_row2_col4, #T_86e86_row3_col5, #T_86e86_row4_col2, #T_86e86_row5_col3 {\n",
       "  background-color: #86a9fc;\n",
       "  color: #f1f1f1;\n",
       "}\n",
       "#T_86e86_row2_col5, #T_86e86_row5_col2 {\n",
       "  background-color: #8badfd;\n",
       "  color: #000000;\n",
       "}\n",
       "#T_86e86_row2_col7, #T_86e86_row7_col2 {\n",
       "  background-color: #6687ed;\n",
       "  color: #f1f1f1;\n",
       "}\n",
       "#T_86e86_row3_col4, #T_86e86_row4_col3 {\n",
       "  background-color: #3b4cc0;\n",
       "  color: #f1f1f1;\n",
       "}\n",
       "#T_86e86_row3_col7, #T_86e86_row7_col3 {\n",
       "  background-color: #455cce;\n",
       "  color: #f1f1f1;\n",
       "}\n",
       "#T_86e86_row4_col5, #T_86e86_row4_col6, #T_86e86_row5_col4, #T_86e86_row6_col4 {\n",
       "  background-color: #92b4fe;\n",
       "  color: #000000;\n",
       "}\n",
       "#T_86e86_row4_col7, #T_86e86_row7_col4 {\n",
       "  background-color: #b1cbfc;\n",
       "  color: #000000;\n",
       "}\n",
       "#T_86e86_row6_col7, #T_86e86_row7_col6 {\n",
       "  background-color: #96b7ff;\n",
       "  color: #000000;\n",
       "}\n",
       "</style>\n",
       "<table id=\"T_86e86\">\n",
       "  <thead>\n",
       "    <tr>\n",
       "      <th class=\"blank level0\" >&nbsp;</th>\n",
       "      <th id=\"T_86e86_level0_col0\" class=\"col_heading level0 col0\" >16.Работаете ли Вы?</th>\n",
       "      <th id=\"T_86e86_level0_col1\" class=\"col_heading level0 col1\" >14.Увлекаетесь ли Вы спортом?</th>\n",
       "      <th id=\"T_86e86_level0_col2\" class=\"col_heading level0 col2\" >9.Сколько времени Вы уделяете самостоятельной подготовке к занятиям (в среднем)?</th>\n",
       "      <th id=\"T_86e86_level0_col3\" class=\"col_heading level0 col3\" >8.Как много Вы пропускаете аудиторных занятий?</th>\n",
       "      <th id=\"T_86e86_level0_col4\" class=\"col_heading level0 col4\" >6.Бывают ли у Вас долги по экзаменам/зачетам?</th>\n",
       "      <th id=\"T_86e86_level0_col5\" class=\"col_heading level0 col5\" >2.Посещаете ли Вы дополнительные занятия (неважно, в вышке или вне)?</th>\n",
       "      <th id=\"T_86e86_level0_col6\" class=\"col_heading level0 col6\" >1.Участвуете ли Вы в олимпиадах?</th>\n",
       "      <th id=\"T_86e86_level0_col7\" class=\"col_heading level0 col7\" >Сдал</th>\n",
       "    </tr>\n",
       "  </thead>\n",
       "  <tbody>\n",
       "    <tr>\n",
       "      <th id=\"T_86e86_level0_row0\" class=\"row_heading level0 row0\" >16.Работаете ли Вы?</th>\n",
       "      <td id=\"T_86e86_row0_col0\" class=\"data row0 col0\" >1.000000</td>\n",
       "      <td id=\"T_86e86_row0_col1\" class=\"data row0 col1\" >0.111152</td>\n",
       "      <td id=\"T_86e86_row0_col2\" class=\"data row0 col2\" >0.016974</td>\n",
       "      <td id=\"T_86e86_row0_col3\" class=\"data row0 col3\" >-0.166606</td>\n",
       "      <td id=\"T_86e86_row0_col4\" class=\"data row0 col4\" >0.036611</td>\n",
       "      <td id=\"T_86e86_row0_col5\" class=\"data row0 col5\" >-0.032890</td>\n",
       "      <td id=\"T_86e86_row0_col6\" class=\"data row0 col6\" >-0.034068</td>\n",
       "      <td id=\"T_86e86_row0_col7\" class=\"data row0 col7\" >-0.068922</td>\n",
       "    </tr>\n",
       "    <tr>\n",
       "      <th id=\"T_86e86_level0_row1\" class=\"row_heading level0 row1\" >14.Увлекаетесь ли Вы спортом?</th>\n",
       "      <td id=\"T_86e86_row1_col0\" class=\"data row1 col0\" >0.111152</td>\n",
       "      <td id=\"T_86e86_row1_col1\" class=\"data row1 col1\" >1.000000</td>\n",
       "      <td id=\"T_86e86_row1_col2\" class=\"data row1 col2\" >0.005902</td>\n",
       "      <td id=\"T_86e86_row1_col3\" class=\"data row1 col3\" >-0.007219</td>\n",
       "      <td id=\"T_86e86_row1_col4\" class=\"data row1 col4\" >0.015766</td>\n",
       "      <td id=\"T_86e86_row1_col5\" class=\"data row1 col5\" >0.042920</td>\n",
       "      <td id=\"T_86e86_row1_col6\" class=\"data row1 col6\" >0.016235</td>\n",
       "      <td id=\"T_86e86_row1_col7\" class=\"data row1 col7\" >0.033776</td>\n",
       "    </tr>\n",
       "    <tr>\n",
       "      <th id=\"T_86e86_level0_row2\" class=\"row_heading level0 row2\" >9.Сколько времени Вы уделяете самостоятельной подготовке к занятиям (в среднем)?</th>\n",
       "      <td id=\"T_86e86_row2_col0\" class=\"data row2 col0\" >0.016974</td>\n",
       "      <td id=\"T_86e86_row2_col1\" class=\"data row2 col1\" >0.005902</td>\n",
       "      <td id=\"T_86e86_row2_col2\" class=\"data row2 col2\" >1.000000</td>\n",
       "      <td id=\"T_86e86_row2_col3\" class=\"data row2 col3\" >0.133477</td>\n",
       "      <td id=\"T_86e86_row2_col4\" class=\"data row2 col4\" >-0.016581</td>\n",
       "      <td id=\"T_86e86_row2_col5\" class=\"data row2 col5\" >-0.002256</td>\n",
       "      <td id=\"T_86e86_row2_col6\" class=\"data row2 col6\" >0.005431</td>\n",
       "      <td id=\"T_86e86_row2_col7\" class=\"data row2 col7\" >-0.142748</td>\n",
       "    </tr>\n",
       "    <tr>\n",
       "      <th id=\"T_86e86_level0_row3\" class=\"row_heading level0 row3\" >8.Как много Вы пропускаете аудиторных занятий?</th>\n",
       "      <td id=\"T_86e86_row3_col0\" class=\"data row3 col0\" >-0.166606</td>\n",
       "      <td id=\"T_86e86_row3_col1\" class=\"data row3 col1\" >-0.007219</td>\n",
       "      <td id=\"T_86e86_row3_col2\" class=\"data row3 col2\" >0.133477</td>\n",
       "      <td id=\"T_86e86_row3_col3\" class=\"data row3 col3\" >1.000000</td>\n",
       "      <td id=\"T_86e86_row3_col4\" class=\"data row3 col4\" >-0.324529</td>\n",
       "      <td id=\"T_86e86_row3_col5\" class=\"data row3 col5\" >-0.014786</td>\n",
       "      <td id=\"T_86e86_row3_col6\" class=\"data row3 col6\" >0.019702</td>\n",
       "      <td id=\"T_86e86_row3_col7\" class=\"data row3 col7\" >-0.274334</td>\n",
       "    </tr>\n",
       "    <tr>\n",
       "      <th id=\"T_86e86_level0_row4\" class=\"row_heading level0 row4\" >6.Бывают ли у Вас долги по экзаменам/зачетам?</th>\n",
       "      <td id=\"T_86e86_row4_col0\" class=\"data row4 col0\" >0.036611</td>\n",
       "      <td id=\"T_86e86_row4_col1\" class=\"data row4 col1\" >0.015766</td>\n",
       "      <td id=\"T_86e86_row4_col2\" class=\"data row4 col2\" >-0.016581</td>\n",
       "      <td id=\"T_86e86_row4_col3\" class=\"data row4 col3\" >-0.324529</td>\n",
       "      <td id=\"T_86e86_row4_col4\" class=\"data row4 col4\" >1.000000</td>\n",
       "      <td id=\"T_86e86_row4_col5\" class=\"data row4 col5\" >0.025066</td>\n",
       "      <td id=\"T_86e86_row4_col6\" class=\"data row4 col6\" >0.026283</td>\n",
       "      <td id=\"T_86e86_row4_col7\" class=\"data row4 col7\" >0.143549</td>\n",
       "    </tr>\n",
       "    <tr>\n",
       "      <th id=\"T_86e86_level0_row5\" class=\"row_heading level0 row5\" >2.Посещаете ли Вы дополнительные занятия (неважно, в вышке или вне)?</th>\n",
       "      <td id=\"T_86e86_row5_col0\" class=\"data row5 col0\" >-0.032890</td>\n",
       "      <td id=\"T_86e86_row5_col1\" class=\"data row5 col1\" >0.042920</td>\n",
       "      <td id=\"T_86e86_row5_col2\" class=\"data row5 col2\" >-0.002256</td>\n",
       "      <td id=\"T_86e86_row5_col3\" class=\"data row5 col3\" >-0.014786</td>\n",
       "      <td id=\"T_86e86_row5_col4\" class=\"data row5 col4\" >0.025066</td>\n",
       "      <td id=\"T_86e86_row5_col5\" class=\"data row5 col5\" >1.000000</td>\n",
       "      <td id=\"T_86e86_row5_col6\" class=\"data row5 col6\" >0.001888</td>\n",
       "      <td id=\"T_86e86_row5_col7\" class=\"data row5 col7\" >0.021551</td>\n",
       "    </tr>\n",
       "    <tr>\n",
       "      <th id=\"T_86e86_level0_row6\" class=\"row_heading level0 row6\" >1.Участвуете ли Вы в олимпиадах?</th>\n",
       "      <td id=\"T_86e86_row6_col0\" class=\"data row6 col0\" >-0.034068</td>\n",
       "      <td id=\"T_86e86_row6_col1\" class=\"data row6 col1\" >0.016235</td>\n",
       "      <td id=\"T_86e86_row6_col2\" class=\"data row6 col2\" >0.005431</td>\n",
       "      <td id=\"T_86e86_row6_col3\" class=\"data row6 col3\" >0.019702</td>\n",
       "      <td id=\"T_86e86_row6_col4\" class=\"data row6 col4\" >0.026283</td>\n",
       "      <td id=\"T_86e86_row6_col5\" class=\"data row6 col5\" >0.001888</td>\n",
       "      <td id=\"T_86e86_row6_col6\" class=\"data row6 col6\" >1.000000</td>\n",
       "      <td id=\"T_86e86_row6_col7\" class=\"data row6 col7\" >0.038414</td>\n",
       "    </tr>\n",
       "    <tr>\n",
       "      <th id=\"T_86e86_level0_row7\" class=\"row_heading level0 row7\" >Сдал</th>\n",
       "      <td id=\"T_86e86_row7_col0\" class=\"data row7 col0\" >-0.068922</td>\n",
       "      <td id=\"T_86e86_row7_col1\" class=\"data row7 col1\" >0.033776</td>\n",
       "      <td id=\"T_86e86_row7_col2\" class=\"data row7 col2\" >-0.142748</td>\n",
       "      <td id=\"T_86e86_row7_col3\" class=\"data row7 col3\" >-0.274334</td>\n",
       "      <td id=\"T_86e86_row7_col4\" class=\"data row7 col4\" >0.143549</td>\n",
       "      <td id=\"T_86e86_row7_col5\" class=\"data row7 col5\" >0.021551</td>\n",
       "      <td id=\"T_86e86_row7_col6\" class=\"data row7 col6\" >0.038414</td>\n",
       "      <td id=\"T_86e86_row7_col7\" class=\"data row7 col7\" >1.000000</td>\n",
       "    </tr>\n",
       "  </tbody>\n",
       "</table>\n"
      ],
      "text/plain": [
       "<pandas.io.formats.style.Styler at 0x16a02bc70>"
      ]
     },
     "execution_count": 230,
     "metadata": {},
     "output_type": "execute_result"
    }
   ],
   "source": [
    "# Replace all text output to index\n",
    "# Used for outputing correlation matrix\n",
    "label_encoder = LabelEncoder()\n",
    "label_data = data.iloc[:,1:].copy()\n",
    "\n",
    "for col in label_data.columns:\n",
    "    filename = f\"{build_path}/{col.replace('/', '-')}_class_linear_encoder.npy\"\n",
    "    if exists(filename):\n",
    "        label_encoder.classes_ = np.load(filename, allow_pickle=True)\n",
    "    else: \n",
    "        label_encoder.fit(data[col])\n",
    "#   always:\n",
    "    label_data[col] = label_encoder.transform(label_data[col])\n",
    "\n",
    "\n",
    "# Creating correlation matrix\n",
    "rs = np.random.RandomState(0)\n",
    "corr = label_data.corr()\n",
    "corr.style.background_gradient(cmap='coolwarm', axis=None)"
   ]
  },
  {
   "cell_type": "markdown",
   "metadata": {},
   "source": [
    "# Example of product usage"
   ]
  },
  {
   "cell_type": "code",
   "execution_count": null,
   "metadata": {},
   "outputs": [],
   "source": [
    "filename = f'{build_path}/DecisionTreeClassifier.sav'\n",
    "my_model = pickle.load(open(filename, 'rb'))\n",
    "\n",
    "my_questions = [\"Учащийся\", \n",
    "                \"16.Работаете ли Вы?\", \n",
    "                \"14.Увлекаетесь ли Вы спортом?\", \n",
    "                \"9.Сколько времени Вы уделяете самостоятельной подготовке к занятиям (в среднем)?\",\n",
    "                \"8.Как много Вы пропускаете аудиторных занятий?\", \n",
    "                \"6.Бывают ли у Вас долги по экзаменам/зачетам?\", \n",
    "                \"2.Посещаете ли Вы дополнительные занятия (неважно, в вышке или вне)?\", \n",
    "                \"1.Участвуете ли Вы в олимпиадах?\" ]\n",
    "\n",
    "my_answers = []\n",
    "\n",
    "for q in my_questions:\n",
    "    my_answers.append(str(input(f'Введите ответ на вопрос \"{q}\": ')))\n",
    "\n",
    "df = pd.DataFrame(data=[my_answers], columns=my_questions)\n",
    "\n",
    "for col in pd.DataFrame(df.iloc[:,1:]).columns:             # Iterate by df without name\n",
    "    encoder = LabelEncoder()\n",
    "    filename = f\"{build_path}/{str(col).replace('/', '-')}_class_linear_encoder.npy\" \n",
    "    encoder.classes_ = np.load(filename, allow_pickle=True) # Import encouder fit data\n",
    "    df[col] = encoder.transform(df[col])\n",
    "\n",
    "\n",
    "y_pred_my = my_model.predict(df.iloc[:,1:])                 # Without name\n",
    "print(f'{df.iloc[0,0]} предположительно {\"сдал(а)\" if y_pred_my == 1 else \"не сдал(а)\"} экзамен')"
   ]
  }
 ],
 "metadata": {
  "interpreter": {
   "hash": "31f2aee4e71d21fbe5cf8b01ff0e069b9275f58929596ceb00d14d90e3e16cd6"
  },
  "kernelspec": {
   "display_name": "Python 3.8.9 64-bit",
   "language": "python",
   "name": "python3"
  },
  "language_info": {
   "codemirror_mode": {
    "name": "ipython",
    "version": 3
   },
   "file_extension": ".py",
   "mimetype": "text/x-python",
   "name": "python",
   "nbconvert_exporter": "python",
   "pygments_lexer": "ipython3",
   "version": "3.8.9"
  },
  "orig_nbformat": 4
 },
 "nbformat": 4,
 "nbformat_minor": 2
}
